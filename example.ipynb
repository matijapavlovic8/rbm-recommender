{
 "cells": [
  {
   "cell_type": "markdown",
   "id": "3d50a162-ace0-4a88-86df-a4f25ca16682",
   "metadata": {},
   "source": [
    "# RBM Recommender system, training and example"
   ]
  },
  {
   "cell_type": "code",
   "execution_count": 1,
   "id": "94049012-c11b-42ba-8881-feb37cc9c1ae",
   "metadata": {},
   "outputs": [],
   "source": [
    "from src.eval import evaluate_rbm\n",
    "from src.data_preprocessing import load_data, preprocess_data, load_movies\n",
    "from src.rbm_model import RBM\n",
    "from src.training import train_rbm\n",
    "from src.plot_utils import plot_training_loss\n",
    "from sklearn.model_selection import train_test_split\n",
    "from src.utils import recommend, movie_from_tensor\n",
    "import torch\n",
    "import pandas as pd"
   ]
  },
  {
   "cell_type": "markdown",
   "id": "0877dfb2-54b1-424f-b977-6642c38454c7",
   "metadata": {},
   "source": [
    "## TRAINING\n",
    "In this cell, the model is trained and reconstruction metrics are displayed."
   ]
  },
  {
   "cell_type": "code",
   "execution_count": 31,
   "id": "cbde9830-6ee1-46db-93be-dd2375305c50",
   "metadata": {},
   "outputs": [
    {
     "name": "stderr",
     "output_type": "stream",
     "text": [
      "                                                                                                                       \r"
     ]
    },
    {
     "name": "stdout",
     "output_type": "stream",
     "text": [
      "Reconstruction Loss: 0.3876\n"
     ]
    },
    {
     "name": "stderr",
     "output_type": "stream",
     "text": [
      "                                                                                                                       \r"
     ]
    },
    {
     "name": "stdout",
     "output_type": "stream",
     "text": [
      "Reconstruction Loss: 0.3063\n"
     ]
    },
    {
     "name": "stderr",
     "output_type": "stream",
     "text": [
      "                                                                                                                       \r"
     ]
    },
    {
     "name": "stdout",
     "output_type": "stream",
     "text": [
      "Reconstruction Loss: 0.2775\n"
     ]
    },
    {
     "name": "stderr",
     "output_type": "stream",
     "text": [
      "                                                                                                                       \r"
     ]
    },
    {
     "name": "stdout",
     "output_type": "stream",
     "text": [
      "Reconstruction Loss: 0.2601\n"
     ]
    },
    {
     "name": "stderr",
     "output_type": "stream",
     "text": [
      "                                                                                                                       \r"
     ]
    },
    {
     "name": "stdout",
     "output_type": "stream",
     "text": [
      "Reconstruction Loss: 0.2465\n"
     ]
    },
    {
     "name": "stderr",
     "output_type": "stream",
     "text": [
      "                                                                                                                       \r"
     ]
    },
    {
     "name": "stdout",
     "output_type": "stream",
     "text": [
      "Reconstruction Loss: 0.2372\n"
     ]
    },
    {
     "name": "stderr",
     "output_type": "stream",
     "text": [
      "                                                                                                                       \r"
     ]
    },
    {
     "name": "stdout",
     "output_type": "stream",
     "text": [
      "Reconstruction Loss: 0.2289\n"
     ]
    },
    {
     "name": "stderr",
     "output_type": "stream",
     "text": [
      "                                                                                                                       \r"
     ]
    },
    {
     "name": "stdout",
     "output_type": "stream",
     "text": [
      "Reconstruction Loss: 0.2217\n"
     ]
    },
    {
     "name": "stderr",
     "output_type": "stream",
     "text": [
      "                                                                                                                       \r"
     ]
    },
    {
     "name": "stdout",
     "output_type": "stream",
     "text": [
      "Reconstruction Loss: 0.2154\n"
     ]
    },
    {
     "name": "stderr",
     "output_type": "stream",
     "text": [
      "                                                                                                                       \r"
     ]
    },
    {
     "name": "stdout",
     "output_type": "stream",
     "text": [
      "Reconstruction Loss: 0.2093\n"
     ]
    },
    {
     "name": "stderr",
     "output_type": "stream",
     "text": [
      "                                                                                                                       \r"
     ]
    },
    {
     "name": "stdout",
     "output_type": "stream",
     "text": [
      "Reconstruction Loss: 0.2029\n"
     ]
    },
    {
     "name": "stderr",
     "output_type": "stream",
     "text": [
      "                                                                                                                       \r"
     ]
    },
    {
     "name": "stdout",
     "output_type": "stream",
     "text": [
      "Reconstruction Loss: 0.1989\n"
     ]
    },
    {
     "name": "stderr",
     "output_type": "stream",
     "text": [
      "                                                                                                                       \r"
     ]
    },
    {
     "name": "stdout",
     "output_type": "stream",
     "text": [
      "Reconstruction Loss: 0.1927\n"
     ]
    },
    {
     "name": "stderr",
     "output_type": "stream",
     "text": [
      "                                                                                                                       \r"
     ]
    },
    {
     "name": "stdout",
     "output_type": "stream",
     "text": [
      "Reconstruction Loss: 0.1880\n"
     ]
    },
    {
     "name": "stderr",
     "output_type": "stream",
     "text": [
      "                                                                                                                       \r"
     ]
    },
    {
     "name": "stdout",
     "output_type": "stream",
     "text": [
      "Reconstruction Loss: 0.1834\n"
     ]
    },
    {
     "name": "stderr",
     "output_type": "stream",
     "text": [
      "                                                                                                                       \r"
     ]
    },
    {
     "name": "stdout",
     "output_type": "stream",
     "text": [
      "Reconstruction Loss: 0.1787\n"
     ]
    },
    {
     "name": "stderr",
     "output_type": "stream",
     "text": [
      "                                                                                                                       \r"
     ]
    },
    {
     "name": "stdout",
     "output_type": "stream",
     "text": [
      "Reconstruction Loss: 0.1741\n"
     ]
    },
    {
     "name": "stderr",
     "output_type": "stream",
     "text": [
      "                                                                                                                       \r"
     ]
    },
    {
     "name": "stdout",
     "output_type": "stream",
     "text": [
      "Reconstruction Loss: 0.1702\n"
     ]
    },
    {
     "name": "stderr",
     "output_type": "stream",
     "text": [
      "                                                                                                                       \r"
     ]
    },
    {
     "name": "stdout",
     "output_type": "stream",
     "text": [
      "Reconstruction Loss: 0.1661\n"
     ]
    },
    {
     "name": "stderr",
     "output_type": "stream",
     "text": [
      "                                                                                                                       \r"
     ]
    },
    {
     "name": "stdout",
     "output_type": "stream",
     "text": [
      "Reconstruction Loss: 0.1618\n"
     ]
    },
    {
     "name": "stderr",
     "output_type": "stream",
     "text": [
      "                                                                                                                       \r"
     ]
    },
    {
     "name": "stdout",
     "output_type": "stream",
     "text": [
      "Reconstruction Loss: 0.1573\n"
     ]
    },
    {
     "name": "stderr",
     "output_type": "stream",
     "text": [
      "                                                                                                                       \r"
     ]
    },
    {
     "name": "stdout",
     "output_type": "stream",
     "text": [
      "Reconstruction Loss: 0.1538\n"
     ]
    },
    {
     "name": "stderr",
     "output_type": "stream",
     "text": [
      "                                                                                                                       \r"
     ]
    },
    {
     "name": "stdout",
     "output_type": "stream",
     "text": [
      "Reconstruction Loss: 0.1501\n"
     ]
    },
    {
     "name": "stderr",
     "output_type": "stream",
     "text": [
      "                                                                                                                       \r"
     ]
    },
    {
     "name": "stdout",
     "output_type": "stream",
     "text": [
      "Reconstruction Loss: 0.1485\n"
     ]
    },
    {
     "name": "stderr",
     "output_type": "stream",
     "text": [
      "                                                                                                                       \r"
     ]
    },
    {
     "name": "stdout",
     "output_type": "stream",
     "text": [
      "Reconstruction Loss: 0.1439\n"
     ]
    },
    {
     "name": "stderr",
     "output_type": "stream",
     "text": [
      "                                                                                                                       \r"
     ]
    },
    {
     "name": "stdout",
     "output_type": "stream",
     "text": [
      "Reconstruction Loss: 0.1425\n"
     ]
    },
    {
     "name": "stderr",
     "output_type": "stream",
     "text": [
      "                                                                                                                       \r"
     ]
    },
    {
     "name": "stdout",
     "output_type": "stream",
     "text": [
      "Reconstruction Loss: 0.1398\n"
     ]
    },
    {
     "name": "stderr",
     "output_type": "stream",
     "text": [
      "                                                                                                                       \r"
     ]
    },
    {
     "name": "stdout",
     "output_type": "stream",
     "text": [
      "Reconstruction Loss: 0.1370\n"
     ]
    },
    {
     "name": "stderr",
     "output_type": "stream",
     "text": [
      "                                                                                                                       \r"
     ]
    },
    {
     "name": "stdout",
     "output_type": "stream",
     "text": [
      "Reconstruction Loss: 0.1331\n"
     ]
    },
    {
     "name": "stderr",
     "output_type": "stream",
     "text": [
      "                                                                                                                       \r"
     ]
    },
    {
     "name": "stdout",
     "output_type": "stream",
     "text": [
      "Reconstruction Loss: 0.1316\n"
     ]
    },
    {
     "name": "stderr",
     "output_type": "stream",
     "text": [
      "                                                                                                                       \r"
     ]
    },
    {
     "name": "stdout",
     "output_type": "stream",
     "text": [
      "Reconstruction Loss: 0.1302\n"
     ]
    },
    {
     "name": "stderr",
     "output_type": "stream",
     "text": [
      "                                                                                                                       \r"
     ]
    },
    {
     "name": "stdout",
     "output_type": "stream",
     "text": [
      "Reconstruction Loss: 0.1278\n"
     ]
    },
    {
     "name": "stderr",
     "output_type": "stream",
     "text": [
      "                                                                                                                       \r"
     ]
    },
    {
     "name": "stdout",
     "output_type": "stream",
     "text": [
      "Reconstruction Loss: 0.1251\n"
     ]
    },
    {
     "name": "stderr",
     "output_type": "stream",
     "text": [
      "                                                                                                                       \r"
     ]
    },
    {
     "name": "stdout",
     "output_type": "stream",
     "text": [
      "Reconstruction Loss: 0.1241\n"
     ]
    },
    {
     "name": "stderr",
     "output_type": "stream",
     "text": [
      "                                                                                                                       \r"
     ]
    },
    {
     "name": "stdout",
     "output_type": "stream",
     "text": [
      "Reconstruction Loss: 0.1216\n"
     ]
    },
    {
     "name": "stderr",
     "output_type": "stream",
     "text": [
      "                                                                                                                       \r"
     ]
    },
    {
     "name": "stdout",
     "output_type": "stream",
     "text": [
      "Reconstruction Loss: 0.1200\n"
     ]
    },
    {
     "name": "stderr",
     "output_type": "stream",
     "text": [
      "                                                                                                                       \r"
     ]
    },
    {
     "name": "stdout",
     "output_type": "stream",
     "text": [
      "Reconstruction Loss: 0.1189\n"
     ]
    },
    {
     "name": "stderr",
     "output_type": "stream",
     "text": [
      "                                                                                                                       \r"
     ]
    },
    {
     "name": "stdout",
     "output_type": "stream",
     "text": [
      "Reconstruction Loss: 0.1193\n"
     ]
    },
    {
     "name": "stderr",
     "output_type": "stream",
     "text": [
      "                                                                                                                       \r"
     ]
    },
    {
     "name": "stdout",
     "output_type": "stream",
     "text": [
      "Reconstruction Loss: 0.1158\n"
     ]
    },
    {
     "name": "stderr",
     "output_type": "stream",
     "text": [
      "                                                                                                                       \r"
     ]
    },
    {
     "name": "stdout",
     "output_type": "stream",
     "text": [
      "Reconstruction Loss: 0.1147\n"
     ]
    },
    {
     "name": "stderr",
     "output_type": "stream",
     "text": [
      "                                                                                                                       \r"
     ]
    },
    {
     "name": "stdout",
     "output_type": "stream",
     "text": [
      "Reconstruction Loss: 0.1139\n"
     ]
    },
    {
     "name": "stderr",
     "output_type": "stream",
     "text": [
      "                                                                                                                       \r"
     ]
    },
    {
     "name": "stdout",
     "output_type": "stream",
     "text": [
      "Reconstruction Loss: 0.1111\n"
     ]
    },
    {
     "name": "stderr",
     "output_type": "stream",
     "text": [
      "                                                                                                                       \r"
     ]
    },
    {
     "name": "stdout",
     "output_type": "stream",
     "text": [
      "Reconstruction Loss: 0.1104\n"
     ]
    },
    {
     "name": "stderr",
     "output_type": "stream",
     "text": [
      "                                                                                                                       \r"
     ]
    },
    {
     "name": "stdout",
     "output_type": "stream",
     "text": [
      "Reconstruction Loss: 0.1093\n"
     ]
    },
    {
     "name": "stderr",
     "output_type": "stream",
     "text": [
      "                                                                                                                       \r"
     ]
    },
    {
     "name": "stdout",
     "output_type": "stream",
     "text": [
      "Reconstruction Loss: 0.1078\n"
     ]
    },
    {
     "name": "stderr",
     "output_type": "stream",
     "text": [
      "                                                                                                                       \r"
     ]
    },
    {
     "name": "stdout",
     "output_type": "stream",
     "text": [
      "Reconstruction Loss: 0.1085\n"
     ]
    },
    {
     "name": "stderr",
     "output_type": "stream",
     "text": [
      "                                                                                                                       \r"
     ]
    },
    {
     "name": "stdout",
     "output_type": "stream",
     "text": [
      "Reconstruction Loss: 0.1067\n"
     ]
    },
    {
     "name": "stderr",
     "output_type": "stream",
     "text": [
      "                                                                                                                       \r"
     ]
    },
    {
     "name": "stdout",
     "output_type": "stream",
     "text": [
      "Reconstruction Loss: 0.1054\n"
     ]
    },
    {
     "name": "stderr",
     "output_type": "stream",
     "text": [
      "                                                                                                                       \r"
     ]
    },
    {
     "name": "stdout",
     "output_type": "stream",
     "text": [
      "Reconstruction Loss: 0.1032\n"
     ]
    },
    {
     "name": "stderr",
     "output_type": "stream",
     "text": [
      "                                                                                                                       \r"
     ]
    },
    {
     "name": "stdout",
     "output_type": "stream",
     "text": [
      "Reconstruction Loss: 0.1050\n"
     ]
    },
    {
     "name": "stderr",
     "output_type": "stream",
     "text": [
      "                                                                                                                       \r"
     ]
    },
    {
     "name": "stdout",
     "output_type": "stream",
     "text": [
      "Reconstruction Loss: 0.1031\n"
     ]
    },
    {
     "name": "stderr",
     "output_type": "stream",
     "text": [
      "                                                                                                                       \r"
     ]
    },
    {
     "name": "stdout",
     "output_type": "stream",
     "text": [
      "Reconstruction Loss: 0.1016\n"
     ]
    },
    {
     "name": "stderr",
     "output_type": "stream",
     "text": [
      "                                                                                                                       \r"
     ]
    },
    {
     "name": "stdout",
     "output_type": "stream",
     "text": [
      "Reconstruction Loss: 0.1031\n"
     ]
    },
    {
     "name": "stderr",
     "output_type": "stream",
     "text": [
      "                                                                                                                       \r"
     ]
    },
    {
     "name": "stdout",
     "output_type": "stream",
     "text": [
      "Reconstruction Loss: 0.1007\n"
     ]
    },
    {
     "name": "stderr",
     "output_type": "stream",
     "text": [
      "                                                                                                                       \r"
     ]
    },
    {
     "name": "stdout",
     "output_type": "stream",
     "text": [
      "Reconstruction Loss: 0.0999\n"
     ]
    },
    {
     "name": "stderr",
     "output_type": "stream",
     "text": [
      "                                                                                                                       \r"
     ]
    },
    {
     "name": "stdout",
     "output_type": "stream",
     "text": [
      "Reconstruction Loss: 0.0990\n"
     ]
    },
    {
     "name": "stderr",
     "output_type": "stream",
     "text": [
      "                                                                                                                       \r"
     ]
    },
    {
     "name": "stdout",
     "output_type": "stream",
     "text": [
      "Reconstruction Loss: 0.0994\n"
     ]
    },
    {
     "name": "stderr",
     "output_type": "stream",
     "text": [
      "                                                                                                                       \r"
     ]
    },
    {
     "name": "stdout",
     "output_type": "stream",
     "text": [
      "Reconstruction Loss: 0.0987\n"
     ]
    },
    {
     "name": "stderr",
     "output_type": "stream",
     "text": [
      "                                                                                                                       \r"
     ]
    },
    {
     "name": "stdout",
     "output_type": "stream",
     "text": [
      "Reconstruction Loss: 0.0966\n"
     ]
    },
    {
     "name": "stderr",
     "output_type": "stream",
     "text": [
      "                                                                                                                       \r"
     ]
    },
    {
     "name": "stdout",
     "output_type": "stream",
     "text": [
      "Reconstruction Loss: 0.0966\n"
     ]
    },
    {
     "data": {
      "image/png": "[encoded data removed]",
      "text/plain": [
       "<Figure size 800x600 with 1 Axes>"
      ]
     },
     "metadata": {},
     "output_type": "display_data"
    },
    {
     "name": "stdout",
     "output_type": "stream",
     "text": [
      "Validation loss: 0.07018917909251753\n",
      "Validation accuracy: 92.98108198227104%\n"
     ]
    }
   ],
   "source": [
    "file_path = \"data\\\\ml-100k\\\\u.data\"\n",
    "data = load_data(file_path)\n",
    "interaction_matrix = preprocess_data(data)\n",
    "\n",
    "\n",
    "interaction_tensor = torch.tensor(interaction_matrix.values, dtype=torch.float32)\n",
    "train_data, test_data = train_test_split(interaction_tensor.numpy(), test_size=0.2, random_state=42)\n",
    "\n",
    "train_data = torch.tensor(train_data, dtype=torch.float32)\n",
    "test_data = torch.tensor(test_data, dtype=torch.float32)\n",
    "\n",
    "device = torch.device('cuda' if torch.cuda.is_available() else 'cpu')\n",
    "\n",
    "num_visible = interaction_tensor.shape[1]\n",
    "num_hidden = 200\n",
    "rbm = RBM(num_visible=num_visible, num_hidden=num_hidden, device=device)\n",
    "\n",
    "losses = train_rbm(rbm, train_data, epochs=40, learning_rate=0.01, k=40, batch_size=32)\n",
    "\n",
    "plot_training_loss(losses, title=\"RBM Training Reconstruction Loss\", xlabel=\"Epoch\", ylabel=\"Reconstruction Loss\")\n",
    "loss, acc = evaluate_rbm(rbm, test_data, device)\n",
    "print(f\"Validation loss: {loss}\")\n",
    "print(f\"Validation accuracy: {acc*100}%\")"
   ]
  },
  {
   "cell_type": "markdown",
   "id": "44c0d57a-ee29-4bc5-b9fb-05d90c27cfda",
   "metadata": {},
   "source": [
    "## USAGE EXAMPLE\n",
    "First, load the movies dataframe"
   ]
  },
  {
   "cell_type": "code",
   "execution_count": 3,
   "id": "f4d42262-8bfb-415f-b2b5-d4ada4069e48",
   "metadata": {},
   "outputs": [],
   "source": [
    "movies = load_movies(\"data\\\\ml-100k\\\\u.item\")"
   ]
  },
  {
   "cell_type": "markdown",
   "id": "7110fb1c-c341-4b3d-b9f1-740f85005e2d",
   "metadata": {},
   "source": [
    "Now, we pick a random user."
   ]
  },
  {
   "cell_type": "code",
   "execution_count": 27,
   "id": "994e9e2c-a54e-4064-b17a-e30bffe1c7dd",
   "metadata": {},
   "outputs": [],
   "source": [
    "import random\n",
    "random_user = random.randint(1, len(test_data))\n",
    "watched = test_data[random_user]\n",
    "_,h = rbm.forward(watched)\n",
    "probs, v = rbm.backward(h)\n"
   ]
  },
  {
   "cell_type": "markdown",
   "id": "a1694e45-3723-4f3d-9910-56ae645666e6",
   "metadata": {},
   "source": [
    "We print out all the movies user has watched."
   ]
  },
  {
   "cell_type": "code",
   "execution_count": 28,
   "id": "c8c98d2e-3486-4ca9-9a70-d2c56c48cdce",
   "metadata": {},
   "outputs": [
    {
     "name": "stdout",
     "output_type": "stream",
     "text": [
      "'Toy Story (1995)' has the following genre:\n",
      "['movie_id', 'Animation', \"Children's\", 'Comedy']\n",
      "--------------------------------------------------\n",
      "'Truth About Cats & Dogs, The (1996)' has the following genre:\n",
      "['Comedy', 'Romance']\n",
      "--------------------------------------------------\n",
      "'Striptease (1996)' has the following genre:\n",
      "['Comedy', 'Crime']\n",
      "--------------------------------------------------\n",
      "'Mirror Has Two Faces, The (1996)' has the following genre:\n",
      "['Comedy', 'Romance']\n",
      "--------------------------------------------------\n",
      "'Jerry Maguire (1996)' has the following genre:\n",
      "['Drama', 'Romance']\n",
      "--------------------------------------------------\n",
      "'Devil's Own, The (1997)' has the following genre:\n",
      "['Action', 'Drama', 'Thriller', 'War']\n",
      "--------------------------------------------------\n",
      "'My Best Friend's Wedding (1997)' has the following genre:\n",
      "['Comedy', 'Romance']\n",
      "--------------------------------------------------\n",
      "'Sabrina (1995)' has the following genre:\n",
      "['Comedy', 'Romance']\n",
      "--------------------------------------------------\n",
      "'Bed of Roses (1996)' has the following genre:\n",
      "['Drama', 'Romance']\n",
      "--------------------------------------------------\n",
      "'Up Close and Personal (1996)' has the following genre:\n",
      "['Drama', 'Romance']\n",
      "--------------------------------------------------\n",
      "'Time to Kill, A (1996)' has the following genre:\n",
      "['Drama']\n",
      "--------------------------------------------------\n",
      "'Tin Cup (1996)' has the following genre:\n",
      "['Comedy', 'Romance']\n",
      "--------------------------------------------------\n",
      "'Scream (1996)' has the following genre:\n",
      "['Horror', 'Thriller']\n",
      "--------------------------------------------------\n",
      "'Liar Liar (1997)' has the following genre:\n",
      "['Comedy']\n",
      "--------------------------------------------------\n",
      "'Courage Under Fire (1996)' has the following genre:\n",
      "['Drama', 'War']\n",
      "--------------------------------------------------\n",
      "'First Wives Club, The (1996)' has the following genre:\n",
      "['Comedy']\n",
      "--------------------------------------------------\n",
      "'People vs. Larry Flynt, The (1996)' has the following genre:\n",
      "['Drama']\n",
      "--------------------------------------------------\n",
      "'Addicted to Love (1997)' has the following genre:\n",
      "['Comedy', 'Romance']\n",
      "--------------------------------------------------\n",
      "'Broken Arrow (1996)' has the following genre:\n",
      "['Action', 'Thriller']\n",
      "--------------------------------------------------\n",
      "'Fan, The (1996)' has the following genre:\n",
      "['Thriller']\n",
      "--------------------------------------------------\n",
      "'I Know What You Did Last Summer (1997)' has the following genre:\n",
      "['Horror', 'Mystery', 'Thriller']\n",
      "--------------------------------------------------\n",
      "'Saint, The (1997)' has the following genre:\n",
      "['Action', 'Romance', 'Thriller']\n",
      "--------------------------------------------------\n",
      "'Father of the Bride Part II (1995)' has the following genre:\n",
      "['Comedy']\n",
      "--------------------------------------------------\n",
      "'Happy Gilmore (1996)' has the following genre:\n",
      "['Comedy']\n",
      "--------------------------------------------------\n",
      "'One Fine Day (1996)' has the following genre:\n",
      "['Drama', 'Romance']\n",
      "--------------------------------------------------\n",
      "'That Thing You Do! (1996)' has the following genre:\n",
      "['Comedy']\n",
      "--------------------------------------------------\n",
      "'To Gillian on Her 37th Birthday (1996)' has the following genre:\n",
      "['Drama', 'Romance']\n",
      "--------------------------------------------------\n",
      "'Picture Perfect (1997)' has the following genre:\n",
      "['Comedy', 'Romance']\n",
      "--------------------------------------------------\n",
      "'One Night Stand (1997)' has the following genre:\n",
      "['Drama']\n",
      "--------------------------------------------------\n",
      "'Craft, The (1996)' has the following genre:\n",
      "['Drama', 'Horror']\n",
      "--------------------------------------------------\n",
      "'Preacher's Wife, The (1996)' has the following genre:\n",
      "['Drama']\n",
      "--------------------------------------------------\n",
      "'Booty Call (1997)' has the following genre:\n",
      "['Comedy', 'Romance']\n",
      "--------------------------------------------------\n",
      "'Fear (1996)' has the following genre:\n",
      "['Thriller']\n",
      "--------------------------------------------------\n",
      "'Beautician and the Beast, The (1997)' has the following genre:\n",
      "['Comedy', 'Romance']\n",
      "--------------------------------------------------\n",
      "'Romy and Michele's High School Reunion (1997)' has the following genre:\n",
      "['Comedy']\n",
      "--------------------------------------------------\n",
      "'High School High (1996)' has the following genre:\n",
      "['Comedy']\n",
      "--------------------------------------------------\n",
      "'In Love and War (1996)' has the following genre:\n",
      "['Romance', 'War']\n",
      "--------------------------------------------------\n",
      "'Set It Off (1996)' has the following genre:\n",
      "['Action', 'Crime']\n",
      "--------------------------------------------------\n",
      "'Selena (1997)' has the following genre:\n",
      "['Drama', 'Musical']\n",
      "--------------------------------------------------\n",
      "'Inventing the Abbotts (1997)' has the following genre:\n",
      "['Drama', 'Romance']\n",
      "--------------------------------------------------\n"
     ]
    }
   ],
   "source": [
    "movie_from_tensor(watched, movies)"
   ]
  },
  {
   "cell_type": "markdown",
   "id": "276bb0eb-6467-46cc-ad48-b61586fdb32b",
   "metadata": {},
   "source": [
    "Now, the idea is to reconstruct the users watched list, and keep the probabilities from reconstruction. We pick the largest n probabilities of movies the user has not watched as recommendation."
   ]
  },
  {
   "cell_type": "code",
   "execution_count": 30,
   "id": "ad722bc6-6967-42e2-9805-66ce3f24b269",
   "metadata": {},
   "outputs": [
    {
     "name": "stdout",
     "output_type": "stream",
     "text": [
      "'English Patient, The (1996)' has the following genre:\n",
      "['Drama', 'Romance', 'War']\n",
      "--------------------------------------------------\n",
      "'Absolute Power (1997)' has the following genre:\n",
      "['Mystery', 'Thriller']\n",
      "--------------------------------------------------\n",
      "'Face/Off (1997)' has the following genre:\n",
      "['Action', 'Sci-Fi', 'Thriller']\n",
      "--------------------------------------------------\n",
      "'Air Force One (1997)' has the following genre:\n",
      "['Action', 'Thriller']\n",
      "--------------------------------------------------\n",
      "'In & Out (1997)' has the following genre:\n",
      "['Comedy']\n",
      "--------------------------------------------------\n"
     ]
    }
   ],
   "source": [
    "to_recommend = recommend(watched, probs, 5)\n",
    "movie_from_tensor(to_recommend.cpu(), movies)"
   ]
  },
  {
   "cell_type": "code",
   "execution_count": null,
   "id": "c10fd397-a843-4733-8fd9-afdaeba34827",
   "metadata": {},
   "outputs": [],
   "source": []
  },
  {
   "cell_type": "code",
   "execution_count": null,
   "id": "25c0e7ae-af59-40ed-b4db-b5c72e4a2b29",
   "metadata": {},
   "outputs": [],
   "source": []
  }
 ],
 "metadata": {
  "kernelspec": {
   "display_name": "Python 3 (ipykernel)",
   "language": "python",
   "name": "python3"
  },
  "language_info": {
   "codemirror_mode": {
    "name": "ipython",
    "version": 3
   },
   "file_extension": ".py",
   "mimetype": "text/x-python",
   "name": "python",
   "nbconvert_exporter": "python",
   "pygments_lexer": "ipython3",
   "version": "3.11.5"
  }
 },
 "nbformat": 4,
 "nbformat_minor": 5
}
