{
 "cells": [
  {
   "cell_type": "markdown",
   "id": "3d50a162-ace0-4a88-86df-a4f25ca16682",
   "metadata": {},
   "source": [
    "# RBM Recommender system, training and example"
   ]
  },
  {
   "cell_type": "code",
   "execution_count": 1,
   "id": "94049012-c11b-42ba-8881-feb37cc9c1ae",
   "metadata": {},
   "outputs": [],
   "source": [
    "from src.eval import evaluate_rbm, evaluate_dbn\n",
    "from src.data_preprocessing import load_data, preprocess_data, load_movies\n",
    "from src.models import RBM, DBN\n",
    "from src.training import train_rbm, train_dbn\n",
    "from src.plot_utils import plot_training_loss\n",
    "from sklearn.model_selection import train_test_split\n",
    "from src.utils import recommend, movie_from_tensor, quantize, test_recommendation_ability\n",
    "import torch\n",
    "import random\n",
    "import copy"
   ]
  },
  {
   "cell_type": "markdown",
   "id": "0877dfb2-54b1-424f-b977-6642c38454c7",
   "metadata": {},
   "source": [
    "## TRAINING\n",
    "First we intialize our dataset and parameters. In our dataset, movies user hasn't watched are marked as 0 and rates are scaled from 1-5 to (0, 1]."
   ]
  },
  {
   "cell_type": "code",
   "execution_count": 2,
   "id": "cbde9830-6ee1-46db-93be-dd2375305c50",
   "metadata": {},
   "outputs": [],
   "source": [
    "file_path = \"data\\\\ml-100k\\\\u.data\"\n",
    "data = load_data(file_path)\n",
    "interaction_matrix = preprocess_data(data)\n",
    "\n",
    "\n",
    "interaction_tensor = torch.tensor(interaction_matrix.values, dtype=torch.float32)\n",
    "train_data, test_data = train_test_split(interaction_tensor.numpy(), test_size=0.2, random_state=42)\n",
    "\n",
    "train_data = torch.tensor(train_data, dtype=torch.float32)\n",
    "test_data = torch.tensor(test_data, dtype=torch.float32)\n",
    "\n",
    "device = torch.device('cuda' if torch.cuda.is_available() else 'cpu')\n",
    "\n",
    "num_visible = interaction_tensor.shape[1]\n",
    "num_hidden = 200\n",
    "num_hidden2 = 100"
   ]
  },
  {
   "cell_type": "markdown",
   "id": "fcec7cda",
   "metadata": {},
   "source": [
    "Next we train RBM on the given dataset."
   ]
  },
  {
   "cell_type": "code",
   "execution_count": 3,
   "id": "89d3c2fb",
   "metadata": {},
   "outputs": [
    {
     "name": "stderr",
     "output_type": "stream",
     "text": [
      "Epoch 1/40: 100%|██████████| 48/48 [00:03<00:00, 14.18it/s, Loss=0.234]\n"
     ]
    },
    {
     "name": "stdout",
     "output_type": "stream",
     "text": [
      "Reconstruction Loss: 0.3069\n"
     ]
    },
    {
     "name": "stderr",
     "output_type": "stream",
     "text": [
      "Epoch 2/40: 100%|██████████| 48/48 [00:03<00:00, 14.44it/s, Loss=0.198]\n"
     ]
    },
    {
     "name": "stdout",
     "output_type": "stream",
     "text": [
      "Reconstruction Loss: 0.2161\n"
     ]
    },
    {
     "name": "stderr",
     "output_type": "stream",
     "text": [
      "Epoch 3/40: 100%|██████████| 48/48 [00:03<00:00, 14.04it/s, Loss=0.19] \n"
     ]
    },
    {
     "name": "stdout",
     "output_type": "stream",
     "text": [
      "Reconstruction Loss: 0.1865\n"
     ]
    },
    {
     "name": "stderr",
     "output_type": "stream",
     "text": [
      "Epoch 4/40: 100%|██████████| 48/48 [00:03<00:00, 14.65it/s, Loss=0.147]\n"
     ]
    },
    {
     "name": "stdout",
     "output_type": "stream",
     "text": [
      "Reconstruction Loss: 0.1667\n"
     ]
    },
    {
     "name": "stderr",
     "output_type": "stream",
     "text": [
      "Epoch 5/40: 100%|██████████| 48/48 [00:03<00:00, 13.99it/s, Loss=0.169]\n"
     ]
    },
    {
     "name": "stdout",
     "output_type": "stream",
     "text": [
      "Reconstruction Loss: 0.1541\n"
     ]
    },
    {
     "name": "stderr",
     "output_type": "stream",
     "text": [
      "Epoch 6/40: 100%|██████████| 48/48 [00:03<00:00, 14.70it/s, Loss=0.133]\n"
     ]
    },
    {
     "name": "stdout",
     "output_type": "stream",
     "text": [
      "Reconstruction Loss: 0.1410\n"
     ]
    },
    {
     "name": "stderr",
     "output_type": "stream",
     "text": [
      "Epoch 7/40: 100%|██████████| 48/48 [00:03<00:00, 14.55it/s, Loss=0.114]\n"
     ]
    },
    {
     "name": "stdout",
     "output_type": "stream",
     "text": [
      "Reconstruction Loss: 0.1308\n"
     ]
    },
    {
     "name": "stderr",
     "output_type": "stream",
     "text": [
      "Epoch 8/40: 100%|██████████| 48/48 [00:03<00:00, 14.55it/s, Loss=0.123]\n"
     ]
    },
    {
     "name": "stdout",
     "output_type": "stream",
     "text": [
      "Reconstruction Loss: 0.1221\n"
     ]
    },
    {
     "name": "stderr",
     "output_type": "stream",
     "text": [
      "Epoch 9/40: 100%|██████████| 48/48 [00:03<00:00, 13.27it/s, Loss=0.109]\n"
     ]
    },
    {
     "name": "stdout",
     "output_type": "stream",
     "text": [
      "Reconstruction Loss: 0.1142\n"
     ]
    },
    {
     "name": "stderr",
     "output_type": "stream",
     "text": [
      "Epoch 10/40: 100%|██████████| 48/48 [00:03<00:00, 14.50it/s, Loss=0.111] \n"
     ]
    },
    {
     "name": "stdout",
     "output_type": "stream",
     "text": [
      "Reconstruction Loss: 0.1073\n"
     ]
    },
    {
     "name": "stderr",
     "output_type": "stream",
     "text": [
      "Epoch 11/40: 100%|██████████| 48/48 [00:03<00:00, 13.56it/s, Loss=0.0957]\n"
     ]
    },
    {
     "name": "stdout",
     "output_type": "stream",
     "text": [
      "Reconstruction Loss: 0.1007\n"
     ]
    },
    {
     "name": "stderr",
     "output_type": "stream",
     "text": [
      "Epoch 12/40: 100%|██████████| 48/48 [00:03<00:00, 13.93it/s, Loss=0.0711]\n"
     ]
    },
    {
     "name": "stdout",
     "output_type": "stream",
     "text": [
      "Reconstruction Loss: 0.0946\n"
     ]
    },
    {
     "name": "stderr",
     "output_type": "stream",
     "text": [
      "Epoch 13/40: 100%|██████████| 48/48 [00:03<00:00, 14.28it/s, Loss=0.0843]\n"
     ]
    },
    {
     "name": "stdout",
     "output_type": "stream",
     "text": [
      "Reconstruction Loss: 0.0901\n"
     ]
    },
    {
     "name": "stderr",
     "output_type": "stream",
     "text": [
      "Epoch 14/40: 100%|██████████| 48/48 [00:03<00:00, 14.75it/s, Loss=0.11]  \n"
     ]
    },
    {
     "name": "stdout",
     "output_type": "stream",
     "text": [
      "Reconstruction Loss: 0.0863\n"
     ]
    },
    {
     "name": "stderr",
     "output_type": "stream",
     "text": [
      "Epoch 15/40: 100%|██████████| 48/48 [00:03<00:00, 13.58it/s, Loss=0.0789]\n"
     ]
    },
    {
     "name": "stdout",
     "output_type": "stream",
     "text": [
      "Reconstruction Loss: 0.0810\n"
     ]
    },
    {
     "name": "stderr",
     "output_type": "stream",
     "text": [
      "Epoch 16/40: 100%|██████████| 48/48 [00:03<00:00, 14.36it/s, Loss=0.108] \n"
     ]
    },
    {
     "name": "stdout",
     "output_type": "stream",
     "text": [
      "Reconstruction Loss: 0.0778\n"
     ]
    },
    {
     "name": "stderr",
     "output_type": "stream",
     "text": [
      "Epoch 17/40: 100%|██████████| 48/48 [00:03<00:00, 13.89it/s, Loss=0.0917]\n"
     ]
    },
    {
     "name": "stdout",
     "output_type": "stream",
     "text": [
      "Reconstruction Loss: 0.0740\n"
     ]
    },
    {
     "name": "stderr",
     "output_type": "stream",
     "text": [
      "Epoch 18/40: 100%|██████████| 48/48 [00:03<00:00, 14.06it/s, Loss=0.0655]\n"
     ]
    },
    {
     "name": "stdout",
     "output_type": "stream",
     "text": [
      "Reconstruction Loss: 0.0713\n"
     ]
    },
    {
     "name": "stderr",
     "output_type": "stream",
     "text": [
      "Epoch 19/40: 100%|██████████| 48/48 [00:03<00:00, 13.98it/s, Loss=0.0684]\n"
     ]
    },
    {
     "name": "stdout",
     "output_type": "stream",
     "text": [
      "Reconstruction Loss: 0.0681\n"
     ]
    },
    {
     "name": "stderr",
     "output_type": "stream",
     "text": [
      "Epoch 20/40: 100%|██████████| 48/48 [00:03<00:00, 13.81it/s, Loss=0.0747]\n"
     ]
    },
    {
     "name": "stdout",
     "output_type": "stream",
     "text": [
      "Reconstruction Loss: 0.0668\n"
     ]
    },
    {
     "name": "stderr",
     "output_type": "stream",
     "text": [
      "Epoch 21/40: 100%|██████████| 48/48 [00:03<00:00, 13.63it/s, Loss=0.0771]\n"
     ]
    },
    {
     "name": "stdout",
     "output_type": "stream",
     "text": [
      "Reconstruction Loss: 0.0649\n"
     ]
    },
    {
     "name": "stderr",
     "output_type": "stream",
     "text": [
      "Epoch 22/40: 100%|██████████| 48/48 [00:03<00:00, 13.97it/s, Loss=0.0304]\n"
     ]
    },
    {
     "name": "stdout",
     "output_type": "stream",
     "text": [
      "Reconstruction Loss: 0.0615\n"
     ]
    },
    {
     "name": "stderr",
     "output_type": "stream",
     "text": [
      "Epoch 23/40: 100%|██████████| 48/48 [00:03<00:00, 13.62it/s, Loss=0.055] \n"
     ]
    },
    {
     "name": "stdout",
     "output_type": "stream",
     "text": [
      "Reconstruction Loss: 0.0604\n"
     ]
    },
    {
     "name": "stderr",
     "output_type": "stream",
     "text": [
      "Epoch 24/40: 100%|██████████| 48/48 [00:03<00:00, 14.10it/s, Loss=0.0602]\n"
     ]
    },
    {
     "name": "stdout",
     "output_type": "stream",
     "text": [
      "Reconstruction Loss: 0.0591\n"
     ]
    },
    {
     "name": "stderr",
     "output_type": "stream",
     "text": [
      "Epoch 25/40: 100%|██████████| 48/48 [00:03<00:00, 13.67it/s, Loss=0.0307]\n"
     ]
    },
    {
     "name": "stdout",
     "output_type": "stream",
     "text": [
      "Reconstruction Loss: 0.0573\n"
     ]
    },
    {
     "name": "stderr",
     "output_type": "stream",
     "text": [
      "Epoch 26/40: 100%|██████████| 48/48 [00:03<00:00, 13.40it/s, Loss=0.03]  \n"
     ]
    },
    {
     "name": "stdout",
     "output_type": "stream",
     "text": [
      "Reconstruction Loss: 0.0570\n"
     ]
    },
    {
     "name": "stderr",
     "output_type": "stream",
     "text": [
      "Epoch 27/40: 100%|██████████| 48/48 [00:03<00:00, 14.36it/s, Loss=0.039] \n"
     ]
    },
    {
     "name": "stdout",
     "output_type": "stream",
     "text": [
      "Reconstruction Loss: 0.0550\n"
     ]
    },
    {
     "name": "stderr",
     "output_type": "stream",
     "text": [
      "Epoch 28/40: 100%|██████████| 48/48 [00:03<00:00, 13.88it/s, Loss=0.0575]\n"
     ]
    },
    {
     "name": "stdout",
     "output_type": "stream",
     "text": [
      "Reconstruction Loss: 0.0544\n"
     ]
    },
    {
     "name": "stderr",
     "output_type": "stream",
     "text": [
      "Epoch 29/40: 100%|██████████| 48/48 [00:03<00:00, 14.09it/s, Loss=0.0532]\n"
     ]
    },
    {
     "name": "stdout",
     "output_type": "stream",
     "text": [
      "Reconstruction Loss: 0.0532\n"
     ]
    },
    {
     "name": "stderr",
     "output_type": "stream",
     "text": [
      "Epoch 30/40: 100%|██████████| 48/48 [00:03<00:00, 14.04it/s, Loss=0.0512]\n"
     ]
    },
    {
     "name": "stdout",
     "output_type": "stream",
     "text": [
      "Reconstruction Loss: 0.0524\n"
     ]
    },
    {
     "name": "stderr",
     "output_type": "stream",
     "text": [
      "Epoch 31/40: 100%|██████████| 48/48 [00:03<00:00, 14.24it/s, Loss=0.032] \n"
     ]
    },
    {
     "name": "stdout",
     "output_type": "stream",
     "text": [
      "Reconstruction Loss: 0.0507\n"
     ]
    },
    {
     "name": "stderr",
     "output_type": "stream",
     "text": [
      "Epoch 32/40: 100%|██████████| 48/48 [00:03<00:00, 14.15it/s, Loss=0.0673]\n"
     ]
    },
    {
     "name": "stdout",
     "output_type": "stream",
     "text": [
      "Reconstruction Loss: 0.0505\n"
     ]
    },
    {
     "name": "stderr",
     "output_type": "stream",
     "text": [
      "Epoch 33/40: 100%|██████████| 48/48 [00:03<00:00, 13.72it/s, Loss=0.0218]\n"
     ]
    },
    {
     "name": "stdout",
     "output_type": "stream",
     "text": [
      "Reconstruction Loss: 0.0488\n"
     ]
    },
    {
     "name": "stderr",
     "output_type": "stream",
     "text": [
      "Epoch 34/40: 100%|██████████| 48/48 [00:03<00:00, 14.24it/s, Loss=0.0576]\n"
     ]
    },
    {
     "name": "stdout",
     "output_type": "stream",
     "text": [
      "Reconstruction Loss: 0.0488\n"
     ]
    },
    {
     "name": "stderr",
     "output_type": "stream",
     "text": [
      "Epoch 35/40: 100%|██████████| 48/48 [00:03<00:00, 13.57it/s, Loss=0.0205]\n"
     ]
    },
    {
     "name": "stdout",
     "output_type": "stream",
     "text": [
      "Reconstruction Loss: 0.0467\n"
     ]
    },
    {
     "name": "stderr",
     "output_type": "stream",
     "text": [
      "Epoch 36/40: 100%|██████████| 48/48 [00:03<00:00, 13.55it/s, Loss=0.0622]\n"
     ]
    },
    {
     "name": "stdout",
     "output_type": "stream",
     "text": [
      "Reconstruction Loss: 0.0473\n"
     ]
    },
    {
     "name": "stderr",
     "output_type": "stream",
     "text": [
      "Epoch 37/40: 100%|██████████| 48/48 [00:03<00:00, 13.72it/s, Loss=0.0315]\n"
     ]
    },
    {
     "name": "stdout",
     "output_type": "stream",
     "text": [
      "Reconstruction Loss: 0.0459\n"
     ]
    },
    {
     "name": "stderr",
     "output_type": "stream",
     "text": [
      "Epoch 38/40: 100%|██████████| 48/48 [00:03<00:00, 13.62it/s, Loss=0.0359]\n"
     ]
    },
    {
     "name": "stdout",
     "output_type": "stream",
     "text": [
      "Reconstruction Loss: 0.0457\n"
     ]
    },
    {
     "name": "stderr",
     "output_type": "stream",
     "text": [
      "Epoch 39/40: 100%|██████████| 48/48 [00:03<00:00, 13.36it/s, Loss=0.0382]\n"
     ]
    },
    {
     "name": "stdout",
     "output_type": "stream",
     "text": [
      "Reconstruction Loss: 0.0450\n"
     ]
    },
    {
     "name": "stderr",
     "output_type": "stream",
     "text": [
      "Epoch 40/40: 100%|██████████| 48/48 [00:03<00:00, 13.83it/s, Loss=0.062] \n"
     ]
    },
    {
     "name": "stdout",
     "output_type": "stream",
     "text": [
      "Reconstruction Loss: 0.0449\n"
     ]
    },
    {
     "data": {
      "image/png": "[encoded data removed]",
      "text/plain": [
       "<Figure size 800x600 with 1 Axes>"
      ]
     },
     "metadata": {},
     "output_type": "display_data"
    },
    {
     "name": "stdout",
     "output_type": "stream",
     "text": [
      "Validation loss: 0.04341442897797577\n",
      "Validation accuracy: 74.60946592932324%\n"
     ]
    }
   ],
   "source": [
    "rbm = RBM(num_visible=num_visible, num_hidden=num_hidden, device=device)\n",
    "\n",
    "losses = train_rbm(rbm, train_data, epochs=40, learning_rate=0.01, k=10, batch_size=16)\n",
    "\n",
    "plot_training_loss(losses, title=\"RBM Training Reconstruction Loss\", xlabel=\"Epoch\", ylabel=\"Reconstruction Loss\")\n",
    "loss, acc = evaluate_rbm(rbm, test_data, device)\n",
    "print(f\"Validation loss: {loss}\")\n",
    "print(f\"Validation accuracy: {acc*100}%\")"
   ]
  },
  {
   "cell_type": "markdown",
   "id": "bc6329e3",
   "metadata": {},
   "source": [
    "Furthermore, we train DBN on the same dataset. The goal is to compare them."
   ]
  },
  {
   "cell_type": "code",
   "execution_count": 4,
   "id": "c2285778",
   "metadata": {},
   "outputs": [
    {
     "name": "stderr",
     "output_type": "stream",
     "text": [
      "Epoch 0/30: 100%|██████████| 48/48 [00:00<00:00, 120.53it/s, Loss=0.345]\n"
     ]
    },
    {
     "name": "stdout",
     "output_type": "stream",
     "text": [
      "Reconstruction Loss: 0.3970\n"
     ]
    },
    {
     "name": "stderr",
     "output_type": "stream",
     "text": [
      "Epoch 1/30: 100%|██████████| 48/48 [00:00<00:00, 126.88it/s, Loss=0.308]\n"
     ]
    },
    {
     "name": "stdout",
     "output_type": "stream",
     "text": [
      "Reconstruction Loss: 0.3085\n"
     ]
    },
    {
     "name": "stderr",
     "output_type": "stream",
     "text": [
      "Epoch 2/30: 100%|██████████| 48/48 [00:00<00:00, 126.86it/s, Loss=0.222]\n"
     ]
    },
    {
     "name": "stdout",
     "output_type": "stream",
     "text": [
      "Reconstruction Loss: 0.2720\n"
     ]
    },
    {
     "name": "stderr",
     "output_type": "stream",
     "text": [
      "Epoch 3/30: 100%|██████████| 48/48 [00:00<00:00, 128.00it/s, Loss=0.292]\n"
     ]
    },
    {
     "name": "stdout",
     "output_type": "stream",
     "text": [
      "Reconstruction Loss: 0.2543\n"
     ]
    },
    {
     "name": "stderr",
     "output_type": "stream",
     "text": [
      "Epoch 4/30: 100%|██████████| 48/48 [00:00<00:00, 133.76it/s, Loss=0.245]\n"
     ]
    },
    {
     "name": "stdout",
     "output_type": "stream",
     "text": [
      "Reconstruction Loss: 0.2397\n"
     ]
    },
    {
     "name": "stderr",
     "output_type": "stream",
     "text": [
      "Epoch 5/30: 100%|██████████| 48/48 [00:00<00:00, 133.59it/s, Loss=0.252]\n"
     ]
    },
    {
     "name": "stdout",
     "output_type": "stream",
     "text": [
      "Reconstruction Loss: 0.2280\n"
     ]
    },
    {
     "name": "stderr",
     "output_type": "stream",
     "text": [
      "Epoch 6/30: 100%|██████████| 48/48 [00:00<00:00, 138.77it/s, Loss=0.172]\n"
     ]
    },
    {
     "name": "stdout",
     "output_type": "stream",
     "text": [
      "Reconstruction Loss: 0.2147\n"
     ]
    },
    {
     "name": "stderr",
     "output_type": "stream",
     "text": [
      "Epoch 7/30: 100%|██████████| 48/48 [00:00<00:00, 134.78it/s, Loss=0.19] \n"
     ]
    },
    {
     "name": "stdout",
     "output_type": "stream",
     "text": [
      "Reconstruction Loss: 0.2085\n"
     ]
    },
    {
     "name": "stderr",
     "output_type": "stream",
     "text": [
      "Epoch 8/30: 100%|██████████| 48/48 [00:00<00:00, 128.62it/s, Loss=0.21] \n"
     ]
    },
    {
     "name": "stdout",
     "output_type": "stream",
     "text": [
      "Reconstruction Loss: 0.2036\n"
     ]
    },
    {
     "name": "stderr",
     "output_type": "stream",
     "text": [
      "Epoch 9/30: 100%|██████████| 48/48 [00:00<00:00, 123.78it/s, Loss=0.192]\n"
     ]
    },
    {
     "name": "stdout",
     "output_type": "stream",
     "text": [
      "Reconstruction Loss: 0.1945\n"
     ]
    },
    {
     "name": "stderr",
     "output_type": "stream",
     "text": [
      "Epoch 10/30: 100%|██████████| 48/48 [00:00<00:00, 134.12it/s, Loss=0.14] \n"
     ]
    },
    {
     "name": "stdout",
     "output_type": "stream",
     "text": [
      "Reconstruction Loss: 0.1888\n"
     ]
    },
    {
     "name": "stderr",
     "output_type": "stream",
     "text": [
      "Epoch 11/30: 100%|██████████| 48/48 [00:00<00:00, 133.88it/s, Loss=0.25] \n"
     ]
    },
    {
     "name": "stdout",
     "output_type": "stream",
     "text": [
      "Reconstruction Loss: 0.1839\n"
     ]
    },
    {
     "name": "stderr",
     "output_type": "stream",
     "text": [
      "Epoch 12/30: 100%|██████████| 48/48 [00:00<00:00, 135.94it/s, Loss=0.16] \n"
     ]
    },
    {
     "name": "stdout",
     "output_type": "stream",
     "text": [
      "Reconstruction Loss: 0.1778\n"
     ]
    },
    {
     "name": "stderr",
     "output_type": "stream",
     "text": [
      "Epoch 13/30: 100%|██████████| 48/48 [00:00<00:00, 129.06it/s, Loss=0.153]\n"
     ]
    },
    {
     "name": "stdout",
     "output_type": "stream",
     "text": [
      "Reconstruction Loss: 0.1749\n"
     ]
    },
    {
     "name": "stderr",
     "output_type": "stream",
     "text": [
      "Epoch 14/30: 100%|██████████| 48/48 [00:00<00:00, 133.93it/s, Loss=0.145]\n"
     ]
    },
    {
     "name": "stdout",
     "output_type": "stream",
     "text": [
      "Reconstruction Loss: 0.1680\n"
     ]
    },
    {
     "name": "stderr",
     "output_type": "stream",
     "text": [
      "Epoch 15/30: 100%|██████████| 48/48 [00:00<00:00, 130.89it/s, Loss=0.237]\n"
     ]
    },
    {
     "name": "stdout",
     "output_type": "stream",
     "text": [
      "Reconstruction Loss: 0.1656\n"
     ]
    },
    {
     "name": "stderr",
     "output_type": "stream",
     "text": [
      "Epoch 16/30: 100%|██████████| 48/48 [00:00<00:00, 127.97it/s, Loss=0.0725]\n"
     ]
    },
    {
     "name": "stdout",
     "output_type": "stream",
     "text": [
      "Reconstruction Loss: 0.1592\n"
     ]
    },
    {
     "name": "stderr",
     "output_type": "stream",
     "text": [
      "Epoch 17/30: 100%|██████████| 48/48 [00:00<00:00, 125.79it/s, Loss=0.145]\n"
     ]
    },
    {
     "name": "stdout",
     "output_type": "stream",
     "text": [
      "Reconstruction Loss: 0.1554\n"
     ]
    },
    {
     "name": "stderr",
     "output_type": "stream",
     "text": [
      "Epoch 18/30: 100%|██████████| 48/48 [00:00<00:00, 134.95it/s, Loss=0.02]  \n"
     ]
    },
    {
     "name": "stdout",
     "output_type": "stream",
     "text": [
      "Reconstruction Loss: 0.1503\n"
     ]
    },
    {
     "name": "stderr",
     "output_type": "stream",
     "text": [
      "Epoch 19/30: 100%|██████████| 48/48 [00:00<00:00, 135.50it/s, Loss=0.0175]\n"
     ]
    },
    {
     "name": "stdout",
     "output_type": "stream",
     "text": [
      "Reconstruction Loss: 0.1483\n"
     ]
    },
    {
     "name": "stderr",
     "output_type": "stream",
     "text": [
      "Epoch 20/30: 100%|██████████| 48/48 [00:00<00:00, 134.13it/s, Loss=0.155] \n"
     ]
    },
    {
     "name": "stdout",
     "output_type": "stream",
     "text": [
      "Reconstruction Loss: 0.1513\n"
     ]
    },
    {
     "name": "stderr",
     "output_type": "stream",
     "text": [
      "Epoch 21/30: 100%|██████████| 48/48 [00:00<00:00, 130.32it/s, Loss=0.125] \n"
     ]
    },
    {
     "name": "stdout",
     "output_type": "stream",
     "text": [
      "Reconstruction Loss: 0.1501\n"
     ]
    },
    {
     "name": "stderr",
     "output_type": "stream",
     "text": [
      "Epoch 22/30: 100%|██████████| 48/48 [00:00<00:00, 130.66it/s, Loss=0.278] \n"
     ]
    },
    {
     "name": "stdout",
     "output_type": "stream",
     "text": [
      "Reconstruction Loss: 0.1499\n"
     ]
    },
    {
     "name": "stderr",
     "output_type": "stream",
     "text": [
      "Epoch 23/30: 100%|██████████| 48/48 [00:00<00:00, 128.09it/s, Loss=0.0025]\n"
     ]
    },
    {
     "name": "stdout",
     "output_type": "stream",
     "text": [
      "Reconstruction Loss: 0.1440\n"
     ]
    },
    {
     "name": "stderr",
     "output_type": "stream",
     "text": [
      "Epoch 24/30: 100%|██████████| 48/48 [00:00<00:00, 129.34it/s, Loss=0]     \n"
     ]
    },
    {
     "name": "stdout",
     "output_type": "stream",
     "text": [
      "Reconstruction Loss: 0.1429\n"
     ]
    },
    {
     "name": "stderr",
     "output_type": "stream",
     "text": [
      "Epoch 25/30: 100%|██████████| 48/48 [00:00<00:00, 123.53it/s, Loss=0.248]\n"
     ]
    },
    {
     "name": "stdout",
     "output_type": "stream",
     "text": [
      "Reconstruction Loss: 0.1477\n"
     ]
    },
    {
     "name": "stderr",
     "output_type": "stream",
     "text": [
      "Epoch 26/30: 100%|██████████| 48/48 [00:00<00:00, 122.62it/s, Loss=0.168] \n"
     ]
    },
    {
     "name": "stdout",
     "output_type": "stream",
     "text": [
      "Reconstruction Loss: 0.1472\n"
     ]
    },
    {
     "name": "stderr",
     "output_type": "stream",
     "text": [
      "Epoch 27/30: 100%|██████████| 48/48 [00:00<00:00, 133.67it/s, Loss=0.172] \n"
     ]
    },
    {
     "name": "stdout",
     "output_type": "stream",
     "text": [
      "Reconstruction Loss: 0.1457\n"
     ]
    },
    {
     "name": "stderr",
     "output_type": "stream",
     "text": [
      "Epoch 28/30: 100%|██████████| 48/48 [00:00<00:00, 136.74it/s, Loss=0.105]\n"
     ]
    },
    {
     "name": "stdout",
     "output_type": "stream",
     "text": [
      "Reconstruction Loss: 0.1431\n"
     ]
    },
    {
     "name": "stderr",
     "output_type": "stream",
     "text": [
      "Epoch 29/30: 100%|██████████| 48/48 [00:00<00:00, 139.90it/s, Loss=0.278] \n"
     ]
    },
    {
     "name": "stdout",
     "output_type": "stream",
     "text": [
      "Reconstruction Loss: 0.1485\n"
     ]
    },
    {
     "data": {
      "image/png": "[encoded data removed]",
      "text/plain": [
       "<Figure size 800x600 with 1 Axes>"
      ]
     },
     "metadata": {},
     "output_type": "display_data"
    },
    {
     "name": "stdout",
     "output_type": "stream",
     "text": [
      "Validation loss: 0.0415\n",
      "Validation accuracy: 75.10%\n"
     ]
    }
   ],
   "source": [
    "rbm_for_dbn = copy.deepcopy(rbm)\n",
    "dbn = DBN(rbm_for_dbn, num_hidden2, device=device)\n",
    "\n",
    "losses = train_dbn(dbn, train_data, epochs=30, learning_rate=0.01, batch_size=16)\n",
    "\n",
    "plot_training_loss(losses, title=\"DBN Training Reconstruction Loss\", xlabel=\"Epoch\", ylabel=\"Reconstruction Loss\")\n",
    "\n",
    "loss, acc = evaluate_dbn(dbn, test_data, device)\n",
    "print(f\"Validation loss: {loss:.4f}\")\n",
    "print(f\"Validation accuracy: {acc*100:.2f}%\")"
   ]
  },
  {
   "cell_type": "markdown",
   "id": "379d978e",
   "metadata": {},
   "source": [
    "## RECOMMENDATION ACCURACY\n",
    "Validation accuracies from above are actually reconstruction accuracies.\n",
    "Now we will take users from test data, hide some of their ratings and check if the movies our models recommend were actually rated with high rates."
   ]
  },
  {
   "cell_type": "code",
   "execution_count": 5,
   "id": "2fd3fbde",
   "metadata": {},
   "outputs": [
    {
     "name": "stdout",
     "output_type": "stream",
     "text": [
      "Recommendation accuracy: 89.61%\n"
     ]
    }
   ],
   "source": [
    "hide_fraction = 0.2 \n",
    "accuracy = test_recommendation_ability(rbm, test_data, device, hide_fraction=hide_fraction, k=10)\n",
    "print(f\"Recommendation accuracy: {accuracy*100:.2f}%\")"
   ]
  },
  {
   "cell_type": "code",
   "execution_count": 6,
   "id": "17012442",
   "metadata": {},
   "outputs": [
    {
     "name": "stdout",
     "output_type": "stream",
     "text": [
      "Recommendation accuracy: 91.86%\n"
     ]
    }
   ],
   "source": [
    "accuracy = test_recommendation_ability(dbn, test_data, device, hide_fraction=hide_fraction, k=10)\n",
    "print(f\"Recommendation accuracy: {accuracy*100:.2f}%\")"
   ]
  },
  {
   "cell_type": "markdown",
   "id": "44c0d57a-ee29-4bc5-b9fb-05d90c27cfda",
   "metadata": {},
   "source": [
    "## USAGE EXAMPLE\n",
    "First, we load the movies dataframe."
   ]
  },
  {
   "cell_type": "code",
   "execution_count": 7,
   "id": "f4d42262-8bfb-415f-b2b5-d4ada4069e48",
   "metadata": {},
   "outputs": [],
   "source": [
    "movies = load_movies(\"data\\\\ml-100k\\\\u.item\")"
   ]
  },
  {
   "cell_type": "markdown",
   "id": "7110fb1c-c341-4b3d-b9f1-740f85005e2d",
   "metadata": {},
   "source": [
    "Now, we pick a random user and print movies they liked (rate >=3 means they liked the movie)."
   ]
  },
  {
   "cell_type": "code",
   "execution_count": 14,
   "id": "994e9e2c-a54e-4064-b17a-e30bffe1c7dd",
   "metadata": {},
   "outputs": [
    {
     "name": "stdout",
     "output_type": "stream",
     "text": [
      "'Twelve Monkeys (1995)' has the following genre:\n",
      "['Drama', 'Sci-Fi']\n",
      "--------------------------------------------------\n",
      "'Usual Suspects, The (1995)' has the following genre:\n",
      "['Crime', 'Thriller']\n",
      "--------------------------------------------------\n",
      "'Apollo 13 (1995)' has the following genre:\n",
      "['Action', 'Drama', 'Thriller']\n",
      "--------------------------------------------------\n",
      "'Crumb (1994)' has the following genre:\n",
      "['Documentary']\n",
      "--------------------------------------------------\n",
      "'Pulp Fiction (1994)' has the following genre:\n",
      "['Crime', 'Drama']\n",
      "--------------------------------------------------\n",
      "'Three Colors: Red (1994)' has the following genre:\n",
      "['Drama']\n",
      "--------------------------------------------------\n",
      "'Shawshank Redemption, The (1994)' has the following genre:\n",
      "['Drama']\n",
      "--------------------------------------------------\n",
      "'Hudsucker Proxy, The (1994)' has the following genre:\n",
      "['Comedy', 'Romance']\n",
      "--------------------------------------------------\n",
      "'Blade Runner (1982)' has the following genre:\n",
      "['Film-Noir', 'Sci-Fi']\n",
      "--------------------------------------------------\n",
      "'Fargo (1996)' has the following genre:\n",
      "['Crime', 'Drama', 'Thriller']\n",
      "--------------------------------------------------\n",
      "'Godfather, The (1972)' has the following genre:\n",
      "['Action', 'Crime', 'Drama']\n",
      "--------------------------------------------------\n",
      "'Bound (1996)' has the following genre:\n",
      "['Crime', 'Drama', 'Romance', 'Thriller']\n",
      "--------------------------------------------------\n",
      "'2001: A Space Odyssey (1968)' has the following genre:\n",
      "['Drama', 'Mystery', 'Sci-Fi', 'Thriller']\n",
      "--------------------------------------------------\n",
      "'Sleeper (1973)' has the following genre:\n",
      "['Comedy', 'Sci-Fi']\n",
      "--------------------------------------------------\n",
      "'Fish Called Wanda, A (1988)' has the following genre:\n",
      "['Comedy']\n",
      "--------------------------------------------------\n",
      "'Monty Python's Life of Brian (1979)' has the following genre:\n",
      "['Comedy']\n",
      "--------------------------------------------------\n",
      "'Reservoir Dogs (1992)' has the following genre:\n",
      "['Crime', 'Thriller']\n",
      "--------------------------------------------------\n",
      "'Delicatessen (1991)' has the following genre:\n",
      "['Comedy', 'Sci-Fi']\n",
      "--------------------------------------------------\n",
      "'Princess Bride, The (1987)' has the following genre:\n",
      "['Action', 'Adventure', 'Comedy', 'Romance']\n",
      "--------------------------------------------------\n",
      "'Brazil (1985)' has the following genre:\n",
      "['Sci-Fi']\n",
      "--------------------------------------------------\n",
      "'Clockwork Orange, A (1971)' has the following genre:\n",
      "['Sci-Fi']\n",
      "--------------------------------------------------\n",
      "'Apocalypse Now (1979)' has the following genre:\n",
      "['Drama', 'War']\n",
      "--------------------------------------------------\n",
      "'Alien (1979)' has the following genre:\n",
      "['Action', 'Horror', 'Sci-Fi', 'Thriller']\n",
      "--------------------------------------------------\n",
      "'Godfather: Part II, The (1974)' has the following genre:\n",
      "['Action', 'Crime', 'Drama']\n",
      "--------------------------------------------------\n",
      "'Full Metal Jacket (1987)' has the following genre:\n",
      "['Action', 'Drama', 'War']\n",
      "--------------------------------------------------\n",
      "'Dead Poets Society (1989)' has the following genre:\n",
      "['Drama']\n",
      "--------------------------------------------------\n",
      "'Graduate, The (1967)' has the following genre:\n",
      "['Drama', 'Romance']\n",
      "--------------------------------------------------\n",
      "'Akira (1988)' has the following genre:\n",
      "['Adventure', 'Animation', 'Sci-Fi', 'Thriller']\n",
      "--------------------------------------------------\n",
      "'Room with a View, A (1986)' has the following genre:\n",
      "['Drama', 'Romance']\n",
      "--------------------------------------------------\n",
      "'Chasing Amy (1997)' has the following genre:\n",
      "['Drama', 'Romance']\n",
      "--------------------------------------------------\n",
      "'Chasing Amy (1997)' has the following genre:\n",
      "['Drama', 'Romance']\n",
      "--------------------------------------------------\n",
      "'Full Monty, The (1997)' has the following genre:\n",
      "['Comedy']\n",
      "--------------------------------------------------\n",
      "'Good Will Hunting (1997)' has the following genre:\n",
      "['Drama']\n",
      "--------------------------------------------------\n",
      "'Secrets & Lies (1996)' has the following genre:\n",
      "['Drama']\n",
      "--------------------------------------------------\n",
      "'English Patient, The (1996)' has the following genre:\n",
      "['Drama', 'Romance', 'War']\n",
      "--------------------------------------------------\n",
      "'Scream (1996)' has the following genre:\n",
      "['Horror', 'Thriller']\n",
      "--------------------------------------------------\n",
      "'Schindler's List (1993)' has the following genre:\n",
      "['Drama', 'War']\n",
      "--------------------------------------------------\n",
      "'One Flew Over the Cuckoo's Nest (1975)' has the following genre:\n",
      "['Drama']\n",
      "--------------------------------------------------\n",
      "'Adventures of Priscilla, Queen of the Desert, The (1994)' has the following genre:\n",
      "['Comedy', 'Drama']\n",
      "--------------------------------------------------\n",
      "'Heathers (1989)' has the following genre:\n",
      "['Comedy']\n",
      "--------------------------------------------------\n",
      "'Dr. Strangelove or: How I Learned to Stop Worrying and Love the Bomb (1963)' has the following genre:\n",
      "['Sci-Fi', 'War']\n",
      "--------------------------------------------------\n",
      "'Trainspotting (1996)' has the following genre:\n",
      "['Drama']\n",
      "--------------------------------------------------\n",
      "'Vertigo (1958)' has the following genre:\n",
      "['Mystery', 'Thriller']\n",
      "--------------------------------------------------\n",
      "'North by Northwest (1959)' has the following genre:\n",
      "['Comedy', 'Thriller']\n",
      "--------------------------------------------------\n",
      "'Streetcar Named Desire, A (1951)' has the following genre:\n",
      "['Drama']\n",
      "--------------------------------------------------\n",
      "'Annie Hall (1977)' has the following genre:\n",
      "['Comedy', 'Romance']\n",
      "--------------------------------------------------\n",
      "'Miller's Crossing (1990)' has the following genre:\n",
      "['Drama']\n",
      "--------------------------------------------------\n",
      "'Seventh Seal, The (Sjunde inseglet, Det) (1957)' has the following genre:\n",
      "['Drama']\n",
      "--------------------------------------------------\n",
      "'Manchurian Candidate, The (1962)' has the following genre:\n",
      "['Film-Noir', 'Thriller']\n",
      "--------------------------------------------------\n",
      "'Fried Green Tomatoes (1991)' has the following genre:\n",
      "['Drama']\n",
      "--------------------------------------------------\n",
      "'Raise the Red Lantern (1991)' has the following genre:\n",
      "['Drama']\n",
      "--------------------------------------------------\n",
      "'Shallow Grave (1994)' has the following genre:\n",
      "['Thriller']\n",
      "--------------------------------------------------\n",
      "'Walkabout (1971)' has the following genre:\n",
      "['Drama']\n",
      "--------------------------------------------------\n"
     ]
    }
   ],
   "source": [
    "random_user = random.randint(1, len(test_data))\n",
    "rates = test_data[random_user]\n",
    "movie_from_tensor(rates, movies)"
   ]
  },
  {
   "cell_type": "markdown",
   "id": "276bb0eb-6467-46cc-ad48-b61586fdb32b",
   "metadata": {},
   "source": [
    "Now, the idea is to reconstruct the users watched list, and keep the probabilities from reconstruction. We pick the largest n=5 probabilities of movies the user has not watched as recommendation."
   ]
  },
  {
   "cell_type": "markdown",
   "id": "8bf79f7c",
   "metadata": {},
   "source": [
    "First we use RBM."
   ]
  },
  {
   "cell_type": "code",
   "execution_count": 15,
   "id": "ad722bc6-6967-42e2-9805-66ce3f24b269",
   "metadata": {},
   "outputs": [
    {
     "name": "stdout",
     "output_type": "stream",
     "text": [
      "'Fugitive, The (1993)' has the following genre:\n",
      "['Action', 'Thriller']\n",
      "--------------------------------------------------\n",
      "'Indiana Jones and the Last Crusade (1989)' has the following genre:\n",
      "['Action', 'Adventure']\n",
      "--------------------------------------------------\n",
      "'Grosse Pointe Blank (1997)' has the following genre:\n",
      "['Comedy', 'Crime']\n",
      "--------------------------------------------------\n",
      "'Up Close and Personal (1996)' has the following genre:\n",
      "['Drama', 'Romance']\n",
      "--------------------------------------------------\n",
      "'Air Force One (1997)' has the following genre:\n",
      "['Action', 'Thriller']\n",
      "--------------------------------------------------\n"
     ]
    }
   ],
   "source": [
    "_,h = rbm.forward(rates)\n",
    "probs, v = rbm.backward(h)\n",
    "\n",
    "watched = torch.zeros_like(rates)\n",
    "watched[rates != 0] = 1\n",
    "to_recommend = recommend(watched, probs, 5)\n",
    "movie_from_tensor(to_recommend.cpu(), movies)"
   ]
  },
  {
   "cell_type": "markdown",
   "id": "94459366",
   "metadata": {},
   "source": [
    "Then we use DBN."
   ]
  },
  {
   "cell_type": "code",
   "execution_count": 16,
   "id": "d154229b",
   "metadata": {},
   "outputs": [
    {
     "name": "stdout",
     "output_type": "stream",
     "text": [
      "'Rumble in the Bronx (1995)' has the following genre:\n",
      "['Action', 'Adventure', 'Crime']\n",
      "--------------------------------------------------\n",
      "'Gattaca (1997)' has the following genre:\n",
      "['Drama', 'Sci-Fi', 'Thriller']\n",
      "--------------------------------------------------\n",
      "'My Left Foot (1989)' has the following genre:\n",
      "['Drama']\n",
      "--------------------------------------------------\n",
      "'How to Make an American Quilt (1995)' has the following genre:\n",
      "['Drama', 'Romance']\n",
      "--------------------------------------------------\n",
      "'I Love Trouble (1994)' has the following genre:\n",
      "['Action', 'Comedy']\n",
      "--------------------------------------------------\n"
     ]
    }
   ],
   "source": [
    "h_prob1_up, h_sample1_up, h_prob2_up, h_sample2_up = dbn.forward(watched)\n",
    "h_sample2_down = h_sample2_up.clone()\n",
    "for _ in range(1):\n",
    "    h_prob1_down, h_sample1_down = dbn.rbm2.backward(h_sample2_down)\n",
    "    h_prob2_down, h_sample2_down = dbn.rbm2.forward(h_sample1_down)\n",
    "\n",
    "probs, v = dbn.rbm1.backward(h_sample1_down)\n",
    "to_recommend = recommend(watched, probs, 5)\n",
    "movie_from_tensor(to_recommend.cpu(), movies)"
   ]
  },
  {
   "cell_type": "markdown",
   "id": "137b75b1",
   "metadata": {},
   "source": [
    "We see there are couple of movies that both RBM and DBN recommend."
   ]
  }
 ],
 "metadata": {
  "kernelspec": {
   "display_name": "base",
   "language": "python",
   "name": "python3"
  },
  "language_info": {
   "codemirror_mode": {
    "name": "ipython",
    "version": 3
   },
   "file_extension": ".py",
   "mimetype": "text/x-python",
   "name": "python",
   "nbconvert_exporter": "python",
   "pygments_lexer": "ipython3",
   "version": "3.10.9"
  }
 },
 "nbformat": 4,
 "nbformat_minor": 5
}
