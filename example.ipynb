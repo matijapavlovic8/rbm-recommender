{
 "cells": [
  {
   "cell_type": "markdown",
   "id": "3d50a162-ace0-4a88-86df-a4f25ca16682",
   "metadata": {},
   "source": [
    "# RBM Recommender system, training and example"
   ]
  },
  {
   "cell_type": "code",
   "execution_count": 2,
   "id": "94049012-c11b-42ba-8881-feb37cc9c1ae",
   "metadata": {},
   "outputs": [],
   "source": [
    "from src.eval import evaluate_rbm, evaluate_dbn\n",
    "from src.data_preprocessing import load_data, preprocess_data, load_movies\n",
    "from src.models import GaussianBernoulliRBM, DBN\n",
    "from src.plot_utils import plot_training_loss\n",
    "from sklearn.model_selection import train_test_split\n",
    "import torch\n",
    "from src.utils import test_recommendation_ability, movie_from_tensor, recommend\n",
    "import random"
   ]
  },
  {
   "cell_type": "markdown",
   "id": "0877dfb2-54b1-424f-b977-6642c38454c7",
   "metadata": {},
   "source": [
    "## TRAINING\n",
    "First we intialize our dataset and parameters. In our dataset, movies user hasn't watched are marked as 0 and rates are scaled from 1-5 to (0, 1]."
   ]
  },
  {
   "cell_type": "code",
   "execution_count": 3,
   "id": "cbde9830-6ee1-46db-93be-dd2375305c50",
   "metadata": {},
   "outputs": [],
   "source": [
    "file_path = \"data\\\\ml-100k\\\\u.data\"\n",
    "data = load_data(file_path)\n",
    "interaction_matrix = preprocess_data(data)\n",
    "\n",
    "\n",
    "interaction_tensor = torch.tensor(interaction_matrix.values, dtype=torch.float32)\n",
    "train_data, test_data = train_test_split(interaction_tensor.numpy(), test_size=0.3, random_state=42)\n",
    "\n",
    "train_data = torch.tensor(train_data, dtype=torch.float32)\n",
    "test_data = torch.tensor(test_data, dtype=torch.float32)\n",
    "\n",
    "device = torch.device('cuda' if torch.cuda.is_available() else 'cpu')"
   ]
  },
  {
   "cell_type": "markdown",
   "id": "fcec7cda",
   "metadata": {},
   "source": [
    "Next we train Gaussian Benroulli RBM on the given dataset."
   ]
  },
  {
   "cell_type": "code",
   "execution_count": 7,
   "id": "89d3c2fb",
   "metadata": {},
   "outputs": [
    {
     "name": "stdout",
     "output_type": "stream",
     "text": [
      "\n",
      "Training Gaussian-Bernoulli RBM\n"
     ]
    },
    {
     "name": "stderr",
     "output_type": "stream",
     "text": [
      "Epoch 1/30: 100%|██████████| 42/42 [00:01<00:00, 36.98it/s, Loss=0.0414]\n"
     ]
    },
    {
     "name": "stdout",
     "output_type": "stream",
     "text": [
      "Reconstruction Loss: 0.0366\n"
     ]
    },
    {
     "name": "stderr",
     "output_type": "stream",
     "text": [
      "Epoch 2/30: 100%|██████████| 42/42 [00:01<00:00, 39.82it/s, Loss=0.0594]\n"
     ]
    },
    {
     "name": "stdout",
     "output_type": "stream",
     "text": [
      "Reconstruction Loss: 0.0339\n"
     ]
    },
    {
     "name": "stderr",
     "output_type": "stream",
     "text": [
      "Epoch 3/30: 100%|██████████| 42/42 [00:01<00:00, 39.08it/s, Loss=0.0334]\n"
     ]
    },
    {
     "name": "stdout",
     "output_type": "stream",
     "text": [
      "Reconstruction Loss: 0.0323\n"
     ]
    },
    {
     "name": "stderr",
     "output_type": "stream",
     "text": [
      "Epoch 4/30: 100%|██████████| 42/42 [00:01<00:00, 38.62it/s, Loss=0.0435]\n"
     ]
    },
    {
     "name": "stdout",
     "output_type": "stream",
     "text": [
      "Reconstruction Loss: 0.0313\n"
     ]
    },
    {
     "name": "stderr",
     "output_type": "stream",
     "text": [
      "Epoch 5/30: 100%|██████████| 42/42 [00:01<00:00, 39.02it/s, Loss=0.0368]\n"
     ]
    },
    {
     "name": "stdout",
     "output_type": "stream",
     "text": [
      "Reconstruction Loss: 0.0306\n"
     ]
    },
    {
     "name": "stderr",
     "output_type": "stream",
     "text": [
      "Epoch 6/30: 100%|██████████| 42/42 [00:01<00:00, 40.98it/s, Loss=0.0476]\n"
     ]
    },
    {
     "name": "stdout",
     "output_type": "stream",
     "text": [
      "Reconstruction Loss: 0.0303\n"
     ]
    },
    {
     "name": "stderr",
     "output_type": "stream",
     "text": [
      "Epoch 7/30: 100%|██████████| 42/42 [00:01<00:00, 36.82it/s, Loss=0.0286]\n"
     ]
    },
    {
     "name": "stdout",
     "output_type": "stream",
     "text": [
      "Reconstruction Loss: 0.0295\n"
     ]
    },
    {
     "name": "stderr",
     "output_type": "stream",
     "text": [
      "Epoch 8/30: 100%|██████████| 42/42 [00:01<00:00, 39.06it/s, Loss=0.0315]\n"
     ]
    },
    {
     "name": "stdout",
     "output_type": "stream",
     "text": [
      "Reconstruction Loss: 0.0291\n"
     ]
    },
    {
     "name": "stderr",
     "output_type": "stream",
     "text": [
      "Epoch 9/30: 100%|██████████| 42/42 [00:01<00:00, 40.37it/s, Loss=0.0248]\n"
     ]
    },
    {
     "name": "stdout",
     "output_type": "stream",
     "text": [
      "Reconstruction Loss: 0.0286\n"
     ]
    },
    {
     "name": "stderr",
     "output_type": "stream",
     "text": [
      "Epoch 10/30: 100%|██████████| 42/42 [00:01<00:00, 39.19it/s, Loss=0.0202]\n"
     ]
    },
    {
     "name": "stdout",
     "output_type": "stream",
     "text": [
      "Reconstruction Loss: 0.0283\n"
     ]
    },
    {
     "name": "stderr",
     "output_type": "stream",
     "text": [
      "Epoch 11/30: 100%|██████████| 42/42 [00:01<00:00, 41.62it/s, Loss=0.017] \n"
     ]
    },
    {
     "name": "stdout",
     "output_type": "stream",
     "text": [
      "Reconstruction Loss: 0.0279\n"
     ]
    },
    {
     "name": "stderr",
     "output_type": "stream",
     "text": [
      "Epoch 12/30: 100%|██████████| 42/42 [00:01<00:00, 36.78it/s, Loss=0.0302]\n"
     ]
    },
    {
     "name": "stdout",
     "output_type": "stream",
     "text": [
      "Reconstruction Loss: 0.0278\n"
     ]
    },
    {
     "name": "stderr",
     "output_type": "stream",
     "text": [
      "Epoch 13/30: 100%|██████████| 42/42 [00:01<00:00, 37.74it/s, Loss=0.0395]\n"
     ]
    },
    {
     "name": "stdout",
     "output_type": "stream",
     "text": [
      "Reconstruction Loss: 0.0277\n"
     ]
    },
    {
     "name": "stderr",
     "output_type": "stream",
     "text": [
      "Epoch 14/30: 100%|██████████| 42/42 [00:01<00:00, 37.95it/s, Loss=0.0305]\n"
     ]
    },
    {
     "name": "stdout",
     "output_type": "stream",
     "text": [
      "Reconstruction Loss: 0.0274\n"
     ]
    },
    {
     "name": "stderr",
     "output_type": "stream",
     "text": [
      "Epoch 15/30: 100%|██████████| 42/42 [00:01<00:00, 40.39it/s, Loss=0.0369]\n"
     ]
    },
    {
     "name": "stdout",
     "output_type": "stream",
     "text": [
      "Reconstruction Loss: 0.0272\n"
     ]
    },
    {
     "name": "stderr",
     "output_type": "stream",
     "text": [
      "Epoch 16/30: 100%|██████████| 42/42 [00:01<00:00, 39.80it/s, Loss=0.0324]\n"
     ]
    },
    {
     "name": "stdout",
     "output_type": "stream",
     "text": [
      "Reconstruction Loss: 0.0268\n"
     ]
    },
    {
     "name": "stderr",
     "output_type": "stream",
     "text": [
      "Epoch 17/30: 100%|██████████| 42/42 [00:01<00:00, 41.30it/s, Loss=0.024] \n"
     ]
    },
    {
     "name": "stdout",
     "output_type": "stream",
     "text": [
      "Reconstruction Loss: 0.0264\n"
     ]
    },
    {
     "name": "stderr",
     "output_type": "stream",
     "text": [
      "Epoch 18/30: 100%|██████████| 42/42 [00:01<00:00, 38.93it/s, Loss=0.0272]\n"
     ]
    },
    {
     "name": "stdout",
     "output_type": "stream",
     "text": [
      "Reconstruction Loss: 0.0262\n"
     ]
    },
    {
     "name": "stderr",
     "output_type": "stream",
     "text": [
      "Epoch 19/30: 100%|██████████| 42/42 [00:01<00:00, 38.94it/s, Loss=0.0244]\n"
     ]
    },
    {
     "name": "stdout",
     "output_type": "stream",
     "text": [
      "Reconstruction Loss: 0.0260\n"
     ]
    },
    {
     "name": "stderr",
     "output_type": "stream",
     "text": [
      "Epoch 20/30: 100%|██████████| 42/42 [00:01<00:00, 37.36it/s, Loss=0.0295]\n"
     ]
    },
    {
     "name": "stdout",
     "output_type": "stream",
     "text": [
      "Reconstruction Loss: 0.0258\n"
     ]
    },
    {
     "name": "stderr",
     "output_type": "stream",
     "text": [
      "Epoch 21/30: 100%|██████████| 42/42 [00:01<00:00, 38.56it/s, Loss=0.0303]\n"
     ]
    },
    {
     "name": "stdout",
     "output_type": "stream",
     "text": [
      "Reconstruction Loss: 0.0257\n"
     ]
    },
    {
     "name": "stderr",
     "output_type": "stream",
     "text": [
      "Epoch 22/30: 100%|██████████| 42/42 [00:01<00:00, 39.96it/s, Loss=0.0316]\n"
     ]
    },
    {
     "name": "stdout",
     "output_type": "stream",
     "text": [
      "Reconstruction Loss: 0.0255\n"
     ]
    },
    {
     "name": "stderr",
     "output_type": "stream",
     "text": [
      "Epoch 23/30: 100%|██████████| 42/42 [00:01<00:00, 40.19it/s, Loss=0.0239]\n"
     ]
    },
    {
     "name": "stdout",
     "output_type": "stream",
     "text": [
      "Reconstruction Loss: 0.0253\n"
     ]
    },
    {
     "name": "stderr",
     "output_type": "stream",
     "text": [
      "Epoch 24/30: 100%|██████████| 42/42 [00:01<00:00, 39.13it/s, Loss=0.0294]\n"
     ]
    },
    {
     "name": "stdout",
     "output_type": "stream",
     "text": [
      "Reconstruction Loss: 0.0251\n"
     ]
    },
    {
     "name": "stderr",
     "output_type": "stream",
     "text": [
      "Epoch 25/30: 100%|██████████| 42/42 [00:01<00:00, 38.01it/s, Loss=0.0306]\n"
     ]
    },
    {
     "name": "stdout",
     "output_type": "stream",
     "text": [
      "Reconstruction Loss: 0.0249\n"
     ]
    },
    {
     "name": "stderr",
     "output_type": "stream",
     "text": [
      "Epoch 26/30: 100%|██████████| 42/42 [00:01<00:00, 37.77it/s, Loss=0.0256]\n"
     ]
    },
    {
     "name": "stdout",
     "output_type": "stream",
     "text": [
      "Reconstruction Loss: 0.0247\n"
     ]
    },
    {
     "name": "stderr",
     "output_type": "stream",
     "text": [
      "Epoch 27/30: 100%|██████████| 42/42 [00:01<00:00, 40.50it/s, Loss=0.042] \n"
     ]
    },
    {
     "name": "stdout",
     "output_type": "stream",
     "text": [
      "Reconstruction Loss: 0.0249\n"
     ]
    },
    {
     "name": "stderr",
     "output_type": "stream",
     "text": [
      "Epoch 28/30: 100%|██████████| 42/42 [00:01<00:00, 37.53it/s, Loss=0.0232]\n"
     ]
    },
    {
     "name": "stdout",
     "output_type": "stream",
     "text": [
      "Reconstruction Loss: 0.0245\n"
     ]
    },
    {
     "name": "stderr",
     "output_type": "stream",
     "text": [
      "Epoch 29/30: 100%|██████████| 42/42 [00:01<00:00, 38.91it/s, Loss=0.0307]\n"
     ]
    },
    {
     "name": "stdout",
     "output_type": "stream",
     "text": [
      "Reconstruction Loss: 0.0243\n"
     ]
    },
    {
     "name": "stderr",
     "output_type": "stream",
     "text": [
      "Epoch 30/30: 100%|██████████| 42/42 [00:00<00:00, 42.99it/s, Loss=0.0189]\n"
     ]
    },
    {
     "name": "stdout",
     "output_type": "stream",
     "text": [
      "Reconstruction Loss: 0.0240\n"
     ]
    },
    {
     "data": {
      "image/png": "[encoded data removed]",
      "text/plain": [
       "<Figure size 800x600 with 1 Axes>"
      ]
     },
     "metadata": {},
     "output_type": "display_data"
    },
    {
     "name": "stdout",
     "output_type": "stream",
     "text": [
      "Validation loss: 0.04198333732586341\n",
      "Validation accuracy: 66.58487498056748%\n"
     ]
    }
   ],
   "source": [
    "num_visible = interaction_tensor.shape[1]\n",
    "num_hidden = 300\n",
    "rbm = GaussianBernoulliRBM(num_visible=num_visible, num_hidden=num_hidden, device=device, sigma=0.1)\n",
    "\n",
    "losses = rbm.train_rbm(train_data, batch_size=16, epochs=30, learning_rate=0.01, device=device)\n",
    "\n",
    "plot_training_loss(losses, title=\"Gaussian Bernoulli RBM Training Reconstruction Loss\", xlabel=\"Epoch\", ylabel=\"Reconstruction Loss\")\n",
    "loss, acc = evaluate_rbm(rbm, test_data, device)\n",
    "print(f\"Validation loss: {loss}\")\n",
    "print(f\"Validation accuracy: {acc*100}%\")\n",
    "\n",
    "with open('models/rbm.th', 'wb') as f:\n",
    "    torch.save({\n",
    "        'rbm_w': rbm.W,\n",
    "        'rbm_v': rbm.v_bias,\n",
    "        'rbm_h': rbm.h_bias,\n",
    "        'num_hidden': num_hidden,\n",
    "        'num_visible': num_visible,\n",
    "        'sigma': rbm.sigma\n",
    "    }, f)"
   ]
  },
  {
   "cell_type": "markdown",
   "id": "bc6329e3",
   "metadata": {},
   "source": [
    "Furthermore, we train DBN on the same dataset. DBN consists of one Gaussian Bernoulli RBM, and rest of the RBM models are usual Binary RBMs.  \n",
    "The goal is to compare standalone RBM to DBN."
   ]
  },
  {
   "cell_type": "code",
   "execution_count": 13,
   "id": "c2285778",
   "metadata": {},
   "outputs": [
    {
     "name": "stdout",
     "output_type": "stream",
     "text": [
      "\n",
      "Training Deep Belief Network\n",
      "\n",
      "First RBM already trained\n",
      "\n",
      "Training 1. Binary-Binary RBM layer\n"
     ]
    },
    {
     "name": "stderr",
     "output_type": "stream",
     "text": [
      "Epoch 1/30: 100%|██████████| 42/42 [00:00<00:00, 189.38it/s, Loss=0.178]\n"
     ]
    },
    {
     "name": "stdout",
     "output_type": "stream",
     "text": [
      "Reconstruction Loss: 0.1951\n"
     ]
    },
    {
     "name": "stderr",
     "output_type": "stream",
     "text": [
      "Epoch 2/30: 100%|██████████| 42/42 [00:00<00:00, 198.58it/s, Loss=0.168]\n"
     ]
    },
    {
     "name": "stdout",
     "output_type": "stream",
     "text": [
      "Reconstruction Loss: 0.1802\n"
     ]
    },
    {
     "name": "stderr",
     "output_type": "stream",
     "text": [
      "Epoch 3/30: 100%|██████████| 42/42 [00:00<00:00, 216.36it/s, Loss=0.167]\n"
     ]
    },
    {
     "name": "stdout",
     "output_type": "stream",
     "text": [
      "Reconstruction Loss: 0.1744\n"
     ]
    },
    {
     "name": "stderr",
     "output_type": "stream",
     "text": [
      "Epoch 4/30: 100%|██████████| 42/42 [00:00<00:00, 200.89it/s, Loss=0.176]\n"
     ]
    },
    {
     "name": "stdout",
     "output_type": "stream",
     "text": [
      "Reconstruction Loss: 0.1712\n"
     ]
    },
    {
     "name": "stderr",
     "output_type": "stream",
     "text": [
      "Epoch 5/30: 100%|██████████| 42/42 [00:00<00:00, 177.69it/s, Loss=0.154]\n"
     ]
    },
    {
     "name": "stdout",
     "output_type": "stream",
     "text": [
      "Reconstruction Loss: 0.1687\n"
     ]
    },
    {
     "name": "stderr",
     "output_type": "stream",
     "text": [
      "Epoch 6/30: 100%|██████████| 42/42 [00:00<00:00, 186.44it/s, Loss=0.155]\n"
     ]
    },
    {
     "name": "stdout",
     "output_type": "stream",
     "text": [
      "Reconstruction Loss: 0.1672\n"
     ]
    },
    {
     "name": "stderr",
     "output_type": "stream",
     "text": [
      "Epoch 7/30: 100%|██████████| 42/42 [00:00<00:00, 194.95it/s, Loss=0.164]\n"
     ]
    },
    {
     "name": "stdout",
     "output_type": "stream",
     "text": [
      "Reconstruction Loss: 0.1652\n"
     ]
    },
    {
     "name": "stderr",
     "output_type": "stream",
     "text": [
      "Epoch 8/30: 100%|██████████| 42/42 [00:00<00:00, 189.01it/s, Loss=0.163]\n"
     ]
    },
    {
     "name": "stdout",
     "output_type": "stream",
     "text": [
      "Reconstruction Loss: 0.1639\n"
     ]
    },
    {
     "name": "stderr",
     "output_type": "stream",
     "text": [
      "Epoch 9/30: 100%|██████████| 42/42 [00:00<00:00, 214.23it/s, Loss=0.162]\n"
     ]
    },
    {
     "name": "stdout",
     "output_type": "stream",
     "text": [
      "Reconstruction Loss: 0.1622\n"
     ]
    },
    {
     "name": "stderr",
     "output_type": "stream",
     "text": [
      "Epoch 10/30: 100%|██████████| 42/42 [00:00<00:00, 217.24it/s, Loss=0.181]\n"
     ]
    },
    {
     "name": "stdout",
     "output_type": "stream",
     "text": [
      "Reconstruction Loss: 0.1614\n"
     ]
    },
    {
     "name": "stderr",
     "output_type": "stream",
     "text": [
      "Epoch 11/30: 100%|██████████| 42/42 [00:00<00:00, 190.20it/s, Loss=0.129]\n"
     ]
    },
    {
     "name": "stdout",
     "output_type": "stream",
     "text": [
      "Reconstruction Loss: 0.1590\n"
     ]
    },
    {
     "name": "stderr",
     "output_type": "stream",
     "text": [
      "Epoch 12/30: 100%|██████████| 42/42 [00:00<00:00, 193.81it/s, Loss=0.115]\n"
     ]
    },
    {
     "name": "stdout",
     "output_type": "stream",
     "text": [
      "Reconstruction Loss: 0.1579\n"
     ]
    },
    {
     "name": "stderr",
     "output_type": "stream",
     "text": [
      "Epoch 13/30: 100%|██████████| 42/42 [00:00<00:00, 193.66it/s, Loss=0.171]\n"
     ]
    },
    {
     "name": "stdout",
     "output_type": "stream",
     "text": [
      "Reconstruction Loss: 0.1574\n"
     ]
    },
    {
     "name": "stderr",
     "output_type": "stream",
     "text": [
      "Epoch 14/30: 100%|██████████| 42/42 [00:00<00:00, 205.11it/s, Loss=0.158]\n"
     ]
    },
    {
     "name": "stdout",
     "output_type": "stream",
     "text": [
      "Reconstruction Loss: 0.1561\n"
     ]
    },
    {
     "name": "stderr",
     "output_type": "stream",
     "text": [
      "Epoch 15/30: 100%|██████████| 42/42 [00:00<00:00, 184.75it/s, Loss=0.144]\n"
     ]
    },
    {
     "name": "stdout",
     "output_type": "stream",
     "text": [
      "Reconstruction Loss: 0.1547\n"
     ]
    },
    {
     "name": "stderr",
     "output_type": "stream",
     "text": [
      "Epoch 16/30: 100%|██████████| 42/42 [00:00<00:00, 187.94it/s, Loss=0.148]\n"
     ]
    },
    {
     "name": "stdout",
     "output_type": "stream",
     "text": [
      "Reconstruction Loss: 0.1538\n"
     ]
    },
    {
     "name": "stderr",
     "output_type": "stream",
     "text": [
      "Epoch 17/30: 100%|██████████| 42/42 [00:00<00:00, 187.45it/s, Loss=0.2]  \n"
     ]
    },
    {
     "name": "stdout",
     "output_type": "stream",
     "text": [
      "Reconstruction Loss: 0.1541\n"
     ]
    },
    {
     "name": "stderr",
     "output_type": "stream",
     "text": [
      "Epoch 18/30: 100%|██████████| 42/42 [00:00<00:00, 204.10it/s, Loss=0.169]\n"
     ]
    },
    {
     "name": "stdout",
     "output_type": "stream",
     "text": [
      "Reconstruction Loss: 0.1524\n"
     ]
    },
    {
     "name": "stderr",
     "output_type": "stream",
     "text": [
      "Epoch 19/30: 100%|██████████| 42/42 [00:00<00:00, 205.63it/s, Loss=0.153]\n"
     ]
    },
    {
     "name": "stdout",
     "output_type": "stream",
     "text": [
      "Reconstruction Loss: 0.1512\n"
     ]
    },
    {
     "name": "stderr",
     "output_type": "stream",
     "text": [
      "Epoch 20/30: 100%|██████████| 42/42 [00:00<00:00, 207.29it/s, Loss=0.143]\n"
     ]
    },
    {
     "name": "stdout",
     "output_type": "stream",
     "text": [
      "Reconstruction Loss: 0.1511\n"
     ]
    },
    {
     "name": "stderr",
     "output_type": "stream",
     "text": [
      "Epoch 21/30: 100%|██████████| 42/42 [00:00<00:00, 189.20it/s, Loss=0.165]\n"
     ]
    },
    {
     "name": "stdout",
     "output_type": "stream",
     "text": [
      "Reconstruction Loss: 0.1504\n"
     ]
    },
    {
     "name": "stderr",
     "output_type": "stream",
     "text": [
      "Epoch 22/30: 100%|██████████| 42/42 [00:00<00:00, 202.54it/s, Loss=0.156]\n"
     ]
    },
    {
     "name": "stdout",
     "output_type": "stream",
     "text": [
      "Reconstruction Loss: 0.1493\n"
     ]
    },
    {
     "name": "stderr",
     "output_type": "stream",
     "text": [
      "Epoch 23/30: 100%|██████████| 42/42 [00:00<00:00, 197.64it/s, Loss=0.14] \n"
     ]
    },
    {
     "name": "stdout",
     "output_type": "stream",
     "text": [
      "Reconstruction Loss: 0.1490\n"
     ]
    },
    {
     "name": "stderr",
     "output_type": "stream",
     "text": [
      "Epoch 24/30: 100%|██████████| 42/42 [00:00<00:00, 185.97it/s, Loss=0.147]\n"
     ]
    },
    {
     "name": "stdout",
     "output_type": "stream",
     "text": [
      "Reconstruction Loss: 0.1485\n"
     ]
    },
    {
     "name": "stderr",
     "output_type": "stream",
     "text": [
      "Epoch 25/30: 100%|██████████| 42/42 [00:00<00:00, 186.61it/s, Loss=0.0967]\n"
     ]
    },
    {
     "name": "stdout",
     "output_type": "stream",
     "text": [
      "Reconstruction Loss: 0.1469\n"
     ]
    },
    {
     "name": "stderr",
     "output_type": "stream",
     "text": [
      "Epoch 26/30: 100%|██████████| 42/42 [00:00<00:00, 212.31it/s, Loss=0.14] \n"
     ]
    },
    {
     "name": "stdout",
     "output_type": "stream",
     "text": [
      "Reconstruction Loss: 0.1467\n"
     ]
    },
    {
     "name": "stderr",
     "output_type": "stream",
     "text": [
      "Epoch 27/30: 100%|██████████| 42/42 [00:00<00:00, 225.30it/s, Loss=0.137]\n"
     ]
    },
    {
     "name": "stdout",
     "output_type": "stream",
     "text": [
      "Reconstruction Loss: 0.1461\n"
     ]
    },
    {
     "name": "stderr",
     "output_type": "stream",
     "text": [
      "Epoch 28/30: 100%|██████████| 42/42 [00:00<00:00, 220.15it/s, Loss=0.142]\n"
     ]
    },
    {
     "name": "stdout",
     "output_type": "stream",
     "text": [
      "Reconstruction Loss: 0.1459\n"
     ]
    },
    {
     "name": "stderr",
     "output_type": "stream",
     "text": [
      "Epoch 29/30: 100%|██████████| 42/42 [00:00<00:00, 190.35it/s, Loss=0.136]\n"
     ]
    },
    {
     "name": "stdout",
     "output_type": "stream",
     "text": [
      "Reconstruction Loss: 0.1447\n"
     ]
    },
    {
     "name": "stderr",
     "output_type": "stream",
     "text": [
      "Epoch 30/30: 100%|██████████| 42/42 [00:00<00:00, 193.72it/s, Loss=0.146]\n"
     ]
    },
    {
     "name": "stdout",
     "output_type": "stream",
     "text": [
      "Reconstruction Loss: 0.1446\n"
     ]
    },
    {
     "data": {
      "image/png": "[encoded data removed]",
      "text/plain": [
       "<Figure size 800x600 with 1 Axes>"
      ]
     },
     "metadata": {},
     "output_type": "display_data"
    },
    {
     "name": "stdout",
     "output_type": "stream",
     "text": [
      "Validation loss: 0.0388\n",
      "Validation accuracy: 66.05%\n"
     ]
    }
   ],
   "source": [
    "num_hidden2 = 200\n",
    "rbm_layers = [num_visible, num_hidden, num_hidden2]\n",
    "dbn = DBN(rbm_layers, rbm_path='models/rbm.th', device=device)\n",
    "\n",
    "dbn.pretrain(train_data, epochs=[30,30], learning_rate=[0.01, 0.01], batch_size=16, device=device)\n",
    "\n",
    "loss, acc = evaluate_dbn(dbn, test_data, device)\n",
    "print(f\"Validation loss: {loss:.4f}\")\n",
    "print(f\"Validation accuracy: {acc*100:.2f}%\")\n",
    "\n",
    "DBN.save_dbn(dbn, 'models/dbn.th')"
   ]
  },
  {
   "cell_type": "markdown",
   "id": "379d978e",
   "metadata": {},
   "source": [
    "## RECOMMENDATION ACCURACY\n",
    "Validation accuracies from above are actually reconstruction accuracies.\n",
    "Now we will take users from test data, hide some of their ratings and check if our models rates those movies in the same manner."
   ]
  },
  {
   "cell_type": "code",
   "execution_count": 14,
   "id": "2fd3fbde",
   "metadata": {},
   "outputs": [
    {
     "name": "stdout",
     "output_type": "stream",
     "text": [
      "GB RBM Recommendation accuracy: 93.51%\n",
      "DBN Recommendation accuracy: 94.85%\n"
     ]
    }
   ],
   "source": [
    "hide_fraction = 0.2  # Hide 20% of rated movies\n",
    "accuracy_rbm, accuracy_dbn = test_recommendation_ability(rbm, dbn, test_data, device, hide_fraction=hide_fraction, k=1)\n",
    "print(f\"GB RBM Recommendation accuracy: {accuracy_rbm*100:.2f}%\")\n",
    "print(f\"DBN Recommendation accuracy: {accuracy_dbn*100:.2f}%\")"
   ]
  },
  {
   "cell_type": "markdown",
   "id": "44c0d57a-ee29-4bc5-b9fb-05d90c27cfda",
   "metadata": {},
   "source": [
    "## USAGE EXAMPLE\n",
    "First, we load the movies dataframe."
   ]
  },
  {
   "cell_type": "code",
   "execution_count": 15,
   "id": "f4d42262-8bfb-415f-b2b5-d4ada4069e48",
   "metadata": {},
   "outputs": [],
   "source": [
    "movies = load_movies(\"data\\\\ml-100k\\\\u.item\")"
   ]
  },
  {
   "cell_type": "markdown",
   "id": "7110fb1c-c341-4b3d-b9f1-740f85005e2d",
   "metadata": {},
   "source": [
    "Now, we pick a random user and print movies they liked (rate >=3 means they liked the movie)."
   ]
  },
  {
   "cell_type": "code",
   "execution_count": 16,
   "id": "994e9e2c-a54e-4064-b17a-e30bffe1c7dd",
   "metadata": {},
   "outputs": [
    {
     "name": "stdout",
     "output_type": "stream",
     "text": [
      "'Toy Story (1995)' has the following genres:\n",
      "Animation, Children's, Comedy\n",
      "--------------------------------------------------\n",
      "'Braveheart (1995)' has the following genres:\n",
      "Drama, War\n",
      "--------------------------------------------------\n",
      "'Star Wars (1977)' has the following genres:\n",
      "Adventure, Romance, Sci-Fi, War\n",
      "--------------------------------------------------\n",
      "'Shawshank Redemption, The (1994)' has the following genres:\n",
      "\n",
      "--------------------------------------------------\n",
      "'Fargo (1996)' has the following genres:\n",
      "Drama, Thriller\n",
      "--------------------------------------------------\n",
      "'Wallace & Gromit: The Best of Aardman Animation (1996)' has the following genres:\n",
      "\n",
      "--------------------------------------------------\n",
      "'Rock, The (1996)' has the following genres:\n",
      "Adventure, Thriller\n",
      "--------------------------------------------------\n",
      "'Wizard of Oz, The (1939)' has the following genres:\n",
      "Children's, Drama, Musical\n",
      "--------------------------------------------------\n",
      "'Die Hard (1988)' has the following genres:\n",
      "Thriller\n",
      "--------------------------------------------------\n",
      "'Monty Python and the Holy Grail (1974)' has the following genres:\n",
      "\n",
      "--------------------------------------------------\n",
      "'Wrong Trousers, The (1993)' has the following genres:\n",
      "Comedy\n",
      "--------------------------------------------------\n",
      "'Empire Strikes Back, The (1980)' has the following genres:\n",
      "Adventure, Drama, Romance, Sci-Fi, War\n",
      "--------------------------------------------------\n",
      "'Princess Bride, The (1987)' has the following genres:\n",
      "Adventure, Comedy, Romance\n",
      "--------------------------------------------------\n",
      "'Raiders of the Lost Ark (1981)' has the following genres:\n",
      "Adventure\n",
      "--------------------------------------------------\n",
      "'Return of the Jedi (1983)' has the following genres:\n",
      "Adventure, Romance, Sci-Fi, War\n",
      "--------------------------------------------------\n",
      "'Right Stuff, The (1983)' has the following genres:\n",
      "\n",
      "--------------------------------------------------\n",
      "'Star Trek: First Contact (1996)' has the following genres:\n",
      "Adventure, Sci-Fi\n",
      "--------------------------------------------------\n",
      "'Devil's Own, The (1997)' has the following genres:\n",
      "Drama, Thriller, War\n",
      "--------------------------------------------------\n",
      "'Fifth Element, The (1997)' has the following genres:\n",
      "Sci-Fi\n",
      "--------------------------------------------------\n",
      "'My Best Friend's Wedding (1997)' has the following genres:\n",
      "Romance\n",
      "--------------------------------------------------\n",
      "'Men in Black (1997)' has the following genres:\n",
      "Adventure, Comedy, Sci-Fi\n",
      "--------------------------------------------------\n",
      "'George of the Jungle (1997)' has the following genres:\n",
      "Comedy\n",
      "--------------------------------------------------\n",
      "'Hunt for Red October, The (1990)' has the following genres:\n",
      "Thriller\n",
      "--------------------------------------------------\n",
      "'Gattaca (1997)' has the following genres:\n",
      "Sci-Fi, Thriller\n",
      "--------------------------------------------------\n",
      "'Starship Troopers (1997)' has the following genres:\n",
      "Adventure, Sci-Fi, War\n",
      "--------------------------------------------------\n",
      "'Good Will Hunting (1997)' has the following genres:\n",
      "\n",
      "--------------------------------------------------\n",
      "'English Patient, The (1996)' has the following genres:\n",
      "Romance, War\n",
      "--------------------------------------------------\n",
      "'Liar Liar (1997)' has the following genres:\n",
      "\n",
      "--------------------------------------------------\n",
      "'Air Force One (1997)' has the following genres:\n",
      "Thriller\n",
      "--------------------------------------------------\n",
      "'L.A. Confidential (1997)' has the following genres:\n",
      "Film-Noir, Mystery, Thriller\n",
      "--------------------------------------------------\n",
      "'Ulee's Gold (1997)' has the following genres:\n",
      "\n",
      "--------------------------------------------------\n",
      "'Titanic (1997)' has the following genres:\n",
      "Drama, Romance\n",
      "--------------------------------------------------\n",
      "'Apt Pupil (1998)' has the following genres:\n",
      "Thriller\n",
      "--------------------------------------------------\n",
      "'As Good As It Gets (1997)' has the following genres:\n",
      "Drama\n",
      "--------------------------------------------------\n",
      "'Schindler's List (1993)' has the following genres:\n",
      "War\n",
      "--------------------------------------------------\n",
      "'Conspiracy Theory (1997)' has the following genres:\n",
      "Mystery, Romance, Thriller\n",
      "--------------------------------------------------\n",
      "'Apostle, The (1997)' has the following genres:\n",
      "\n",
      "--------------------------------------------------\n",
      "'Wedding Singer, The (1998)' has the following genres:\n",
      "Romance\n",
      "--------------------------------------------------\n",
      "'Courage Under Fire (1996)' has the following genres:\n",
      "War\n",
      "--------------------------------------------------\n",
      "'North by Northwest (1959)' has the following genres:\n",
      "Thriller\n",
      "--------------------------------------------------\n",
      "'Some Like It Hot (1959)' has the following genres:\n",
      "Crime\n",
      "--------------------------------------------------\n",
      "'Casablanca (1942)' has the following genres:\n",
      "Romance, War\n",
      "--------------------------------------------------\n",
      "'Great Escape, The (1963)' has the following genres:\n",
      "War\n",
      "--------------------------------------------------\n",
      "'Anastasia (1997)' has the following genres:\n",
      "Children's, Musical\n",
      "--------------------------------------------------\n",
      "'Mouse Hunt (1997)' has the following genres:\n",
      "Comedy\n",
      "--------------------------------------------------\n",
      "'Broken Arrow (1996)' has the following genres:\n",
      "Thriller\n",
      "--------------------------------------------------\n",
      "'Saint, The (1997)' has the following genres:\n",
      "Romance, Thriller\n",
      "--------------------------------------------------\n",
      "'Amistad (1997)' has the following genres:\n",
      "\n",
      "--------------------------------------------------\n",
      "'Tomorrow Never Dies (1997)' has the following genres:\n",
      "Romance, Thriller\n",
      "--------------------------------------------------\n",
      "'That Thing You Do! (1996)' has the following genres:\n",
      "\n",
      "--------------------------------------------------\n",
      "'Peacemaker, The (1997)' has the following genres:\n",
      "Thriller, War\n",
      "--------------------------------------------------\n",
      "'Flubber (1997)' has the following genres:\n",
      "Comedy, Fantasy\n",
      "--------------------------------------------------\n",
      "'Big Lebowski, The (1998)' has the following genres:\n",
      "Crime, Mystery, Thriller\n",
      "--------------------------------------------------\n",
      "'U.S. Marshalls (1998)' has the following genres:\n",
      "Thriller\n",
      "--------------------------------------------------\n",
      "'Lost in Space (1998)' has the following genres:\n",
      "Sci-Fi, Thriller\n",
      "--------------------------------------------------\n",
      "'Ruby in Paradise (1993)' has the following genres:\n",
      "\n",
      "--------------------------------------------------\n",
      "'Hercules (1997)' has the following genres:\n",
      "Animation, Children's, Comedy, Musical\n",
      "--------------------------------------------------\n",
      "'Man in the Iron Mask, The (1998)' has the following genres:\n",
      "Drama, Romance\n",
      "--------------------------------------------------\n"
     ]
    }
   ],
   "source": [
    "random.seed(100)\n",
    "random_user = random.randint(1, len(test_data))\n",
    "rates = test_data[random_user]\n",
    "movie_from_tensor(rates, movies)\n",
    "\n",
    "watched = torch.zeros_like(rates)\n",
    "watched[rates != 0] = 1"
   ]
  },
  {
   "cell_type": "markdown",
   "id": "276bb0eb-6467-46cc-ad48-b61586fdb32b",
   "metadata": {},
   "source": [
    "Now, the idea is to reconstruct the users watched list, and keep the probabilities from reconstruction. We pick the largest n=5 probabilities of movies the user has not watched as recommendation."
   ]
  },
  {
   "cell_type": "markdown",
   "id": "8bf79f7c",
   "metadata": {},
   "source": [
    "First we use RBM."
   ]
  },
  {
   "cell_type": "code",
   "execution_count": 17,
   "id": "ad722bc6-6967-42e2-9805-66ce3f24b269",
   "metadata": {},
   "outputs": [
    {
     "name": "stdout",
     "output_type": "stream",
     "text": [
      "'Usual Suspects, The (1995)' has the following genres:\n",
      "Thriller\n",
      "--------------------------------------------------\n",
      "'Terminator 2: Judgment Day (1991)' has the following genres:\n",
      "Sci-Fi, Thriller\n",
      "--------------------------------------------------\n",
      "'Godfather, The (1972)' has the following genres:\n",
      "Crime, Drama\n",
      "--------------------------------------------------\n",
      "'Fish Called Wanda, A (1988)' has the following genres:\n",
      "\n",
      "--------------------------------------------------\n",
      "'Terminator, The (1984)' has the following genres:\n",
      "Sci-Fi, Thriller\n",
      "--------------------------------------------------\n"
     ]
    }
   ],
   "source": [
    "v = rbm.reconstruct(rates)\n",
    "to_recommend = recommend(watched, v, 5)\n",
    "movie_from_tensor(to_recommend, movies)"
   ]
  },
  {
   "cell_type": "markdown",
   "id": "94459366",
   "metadata": {},
   "source": [
    "Then we use DBN."
   ]
  },
  {
   "cell_type": "code",
   "execution_count": 18,
   "id": "d154229b",
   "metadata": {},
   "outputs": [
    {
     "name": "stdout",
     "output_type": "stream",
     "text": [
      "'Usual Suspects, The (1995)' has the following genres:\n",
      "Thriller\n",
      "--------------------------------------------------\n",
      "'Apollo 13 (1995)' has the following genres:\n",
      "Drama, Thriller\n",
      "--------------------------------------------------\n",
      "'Pulp Fiction (1994)' has the following genres:\n",
      "Drama\n",
      "--------------------------------------------------\n",
      "'Blade Runner (1982)' has the following genres:\n",
      "Sci-Fi\n",
      "--------------------------------------------------\n",
      "'Silence of the Lambs, The (1991)' has the following genres:\n",
      "Thriller\n",
      "--------------------------------------------------\n"
     ]
    }
   ],
   "source": [
    "v = dbn.reconstruct(rates)\n",
    "to_recommend = recommend(watched, v, 5)\n",
    "movie_from_tensor(to_recommend, movies)"
   ]
  }
 ],
 "metadata": {
  "kernelspec": {
   "display_name": "base",
   "language": "python",
   "name": "python3"
  },
  "language_info": {
   "codemirror_mode": {
    "name": "ipython",
    "version": 3
   },
   "file_extension": ".py",
   "mimetype": "text/x-python",
   "name": "python",
   "nbconvert_exporter": "python",
   "pygments_lexer": "ipython3",
   "version": "3.10.9"
  }
 },
 "nbformat": 4,
 "nbformat_minor": 5
}
