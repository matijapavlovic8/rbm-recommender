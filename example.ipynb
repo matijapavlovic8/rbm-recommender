{
 "cells": [
  {
   "cell_type": "markdown",
   "id": "3d50a162-ace0-4a88-86df-a4f25ca16682",
   "metadata": {},
   "source": [
    "# RBM Recommender system, training and example"
   ]
  },
  {
   "cell_type": "code",
   "execution_count": 1,
   "id": "94049012-c11b-42ba-8881-feb37cc9c1ae",
   "metadata": {},
   "outputs": [],
   "source": [
    "from src.eval import evaluate_rbm, evaluate_dbn\n",
    "from src.data_preprocessing import load_data, preprocess_data, load_movies\n",
    "from src.rbm_model import RBM, DBN\n",
    "from src.training import train_rbm, train_dbn\n",
    "from src.plot_utils import plot_training_loss\n",
    "from sklearn.model_selection import train_test_split\n",
    "from src.utils import recommend, movie_from_tensor\n",
    "import torch\n",
    "import random\n",
    "import copy"
   ]
  },
  {
   "cell_type": "markdown",
   "id": "0877dfb2-54b1-424f-b977-6642c38454c7",
   "metadata": {},
   "source": [
    "## TRAINING\n",
    "First we intialize our dataset and parameters"
   ]
  },
  {
   "cell_type": "code",
   "execution_count": 2,
   "id": "cbde9830-6ee1-46db-93be-dd2375305c50",
   "metadata": {},
   "outputs": [],
   "source": [
    "file_path = \"data\\\\ml-100k\\\\u.data\"\n",
    "data = load_data(file_path)\n",
    "interaction_matrix = preprocess_data(data)\n",
    "\n",
    "\n",
    "interaction_tensor = torch.tensor(interaction_matrix.values, dtype=torch.float32)\n",
    "train_data, test_data = train_test_split(interaction_tensor.numpy(), test_size=0.2, random_state=42)\n",
    "\n",
    "train_data = torch.tensor(train_data, dtype=torch.float32)\n",
    "test_data = torch.tensor(test_data, dtype=torch.float32)\n",
    "\n",
    "device = torch.device('cuda' if torch.cuda.is_available() else 'cpu')\n",
    "\n",
    "num_visible = interaction_tensor.shape[1]\n",
    "num_hidden = 200\n",
    "num_hidden2 = 100"
   ]
  },
  {
   "cell_type": "markdown",
   "id": "fcec7cda",
   "metadata": {},
   "source": [
    "Next we train RBM on the given dataset."
   ]
  },
  {
   "cell_type": "code",
   "execution_count": 9,
   "id": "89d3c2fb",
   "metadata": {},
   "outputs": [
    {
     "name": "stderr",
     "output_type": "stream",
     "text": [
      "Epoch 0/40: 100%|██████████| 24/24 [00:03<00:00,  7.20it/s, Loss=0.326]\n"
     ]
    },
    {
     "name": "stdout",
     "output_type": "stream",
     "text": [
      "Reconstruction Loss: 0.3898\n"
     ]
    },
    {
     "name": "stderr",
     "output_type": "stream",
     "text": [
      "Epoch 1/40: 100%|██████████| 24/24 [00:03<00:00,  7.52it/s, Loss=0.279]\n"
     ]
    },
    {
     "name": "stdout",
     "output_type": "stream",
     "text": [
      "Reconstruction Loss: 0.3020\n"
     ]
    },
    {
     "name": "stderr",
     "output_type": "stream",
     "text": [
      "Epoch 2/40: 100%|██████████| 24/24 [00:03<00:00,  7.45it/s, Loss=0.26] \n"
     ]
    },
    {
     "name": "stdout",
     "output_type": "stream",
     "text": [
      "Reconstruction Loss: 0.2714\n"
     ]
    },
    {
     "name": "stderr",
     "output_type": "stream",
     "text": [
      "Epoch 3/40: 100%|██████████| 24/24 [00:03<00:00,  7.52it/s, Loss=0.238]\n"
     ]
    },
    {
     "name": "stdout",
     "output_type": "stream",
     "text": [
      "Reconstruction Loss: 0.2525\n"
     ]
    },
    {
     "name": "stderr",
     "output_type": "stream",
     "text": [
      "Epoch 4/40: 100%|██████████| 24/24 [00:03<00:00,  7.33it/s, Loss=0.234]\n"
     ]
    },
    {
     "name": "stdout",
     "output_type": "stream",
     "text": [
      "Reconstruction Loss: 0.2398\n"
     ]
    },
    {
     "name": "stderr",
     "output_type": "stream",
     "text": [
      "Epoch 5/40: 100%|██████████| 24/24 [00:03<00:00,  7.73it/s, Loss=0.234]\n"
     ]
    },
    {
     "name": "stdout",
     "output_type": "stream",
     "text": [
      "Reconstruction Loss: 0.2296\n"
     ]
    },
    {
     "name": "stderr",
     "output_type": "stream",
     "text": [
      "Epoch 6/40: 100%|██████████| 24/24 [00:03<00:00,  7.47it/s, Loss=0.212]\n"
     ]
    },
    {
     "name": "stdout",
     "output_type": "stream",
     "text": [
      "Reconstruction Loss: 0.2204\n"
     ]
    },
    {
     "name": "stderr",
     "output_type": "stream",
     "text": [
      "Epoch 7/40: 100%|██████████| 24/24 [00:03<00:00,  7.46it/s, Loss=0.23] \n"
     ]
    },
    {
     "name": "stdout",
     "output_type": "stream",
     "text": [
      "Reconstruction Loss: 0.2148\n"
     ]
    },
    {
     "name": "stderr",
     "output_type": "stream",
     "text": [
      "Epoch 8/40: 100%|██████████| 24/24 [00:03<00:00,  7.20it/s, Loss=0.19] \n"
     ]
    },
    {
     "name": "stdout",
     "output_type": "stream",
     "text": [
      "Reconstruction Loss: 0.2070\n"
     ]
    },
    {
     "name": "stderr",
     "output_type": "stream",
     "text": [
      "Epoch 9/40: 100%|██████████| 24/24 [00:03<00:00,  7.57it/s, Loss=0.193]\n"
     ]
    },
    {
     "name": "stdout",
     "output_type": "stream",
     "text": [
      "Reconstruction Loss: 0.2029\n"
     ]
    },
    {
     "name": "stderr",
     "output_type": "stream",
     "text": [
      "Epoch 10/40: 100%|██████████| 24/24 [00:03<00:00,  7.57it/s, Loss=0.198]\n"
     ]
    },
    {
     "name": "stdout",
     "output_type": "stream",
     "text": [
      "Reconstruction Loss: 0.1976\n"
     ]
    },
    {
     "name": "stderr",
     "output_type": "stream",
     "text": [
      "Epoch 11/40: 100%|██████████| 24/24 [00:03<00:00,  7.32it/s, Loss=0.179]\n"
     ]
    },
    {
     "name": "stdout",
     "output_type": "stream",
     "text": [
      "Reconstruction Loss: 0.1916\n"
     ]
    },
    {
     "name": "stderr",
     "output_type": "stream",
     "text": [
      "Epoch 12/40: 100%|██████████| 24/24 [00:03<00:00,  7.48it/s, Loss=0.181]\n"
     ]
    },
    {
     "name": "stdout",
     "output_type": "stream",
     "text": [
      "Reconstruction Loss: 0.1870\n"
     ]
    },
    {
     "name": "stderr",
     "output_type": "stream",
     "text": [
      "Epoch 13/40: 100%|██████████| 24/24 [00:03<00:00,  7.14it/s, Loss=0.174]\n"
     ]
    },
    {
     "name": "stdout",
     "output_type": "stream",
     "text": [
      "Reconstruction Loss: 0.1825\n"
     ]
    },
    {
     "name": "stderr",
     "output_type": "stream",
     "text": [
      "Epoch 14/40: 100%|██████████| 24/24 [00:03<00:00,  7.27it/s, Loss=0.164]\n"
     ]
    },
    {
     "name": "stdout",
     "output_type": "stream",
     "text": [
      "Reconstruction Loss: 0.1782\n"
     ]
    },
    {
     "name": "stderr",
     "output_type": "stream",
     "text": [
      "Epoch 15/40: 100%|██████████| 24/24 [00:03<00:00,  7.80it/s, Loss=0.204]\n"
     ]
    },
    {
     "name": "stdout",
     "output_type": "stream",
     "text": [
      "Reconstruction Loss: 0.1754\n"
     ]
    },
    {
     "name": "stderr",
     "output_type": "stream",
     "text": [
      "Epoch 16/40: 100%|██████████| 24/24 [00:03<00:00,  7.36it/s, Loss=0.175]\n"
     ]
    },
    {
     "name": "stdout",
     "output_type": "stream",
     "text": [
      "Reconstruction Loss: 0.1700\n"
     ]
    },
    {
     "name": "stderr",
     "output_type": "stream",
     "text": [
      "Epoch 17/40: 100%|██████████| 24/24 [00:03<00:00,  7.28it/s, Loss=0.164]\n"
     ]
    },
    {
     "name": "stdout",
     "output_type": "stream",
     "text": [
      "Reconstruction Loss: 0.1670\n"
     ]
    },
    {
     "name": "stderr",
     "output_type": "stream",
     "text": [
      "Epoch 18/40: 100%|██████████| 24/24 [00:03<00:00,  7.46it/s, Loss=0.173]\n"
     ]
    },
    {
     "name": "stdout",
     "output_type": "stream",
     "text": [
      "Reconstruction Loss: 0.1638\n"
     ]
    },
    {
     "name": "stderr",
     "output_type": "stream",
     "text": [
      "Epoch 19/40: 100%|██████████| 24/24 [00:03<00:00,  7.49it/s, Loss=0.18] \n"
     ]
    },
    {
     "name": "stdout",
     "output_type": "stream",
     "text": [
      "Reconstruction Loss: 0.1589\n"
     ]
    },
    {
     "name": "stderr",
     "output_type": "stream",
     "text": [
      "Epoch 20/40: 100%|██████████| 24/24 [00:03<00:00,  7.34it/s, Loss=0.143]\n"
     ]
    },
    {
     "name": "stdout",
     "output_type": "stream",
     "text": [
      "Reconstruction Loss: 0.1562\n"
     ]
    },
    {
     "name": "stderr",
     "output_type": "stream",
     "text": [
      "Epoch 21/40: 100%|██████████| 24/24 [00:03<00:00,  6.97it/s, Loss=0.176]\n"
     ]
    },
    {
     "name": "stdout",
     "output_type": "stream",
     "text": [
      "Reconstruction Loss: 0.1534\n"
     ]
    },
    {
     "name": "stderr",
     "output_type": "stream",
     "text": [
      "Epoch 22/40: 100%|██████████| 24/24 [00:03<00:00,  6.79it/s, Loss=0.169]\n"
     ]
    },
    {
     "name": "stdout",
     "output_type": "stream",
     "text": [
      "Reconstruction Loss: 0.1504\n"
     ]
    },
    {
     "name": "stderr",
     "output_type": "stream",
     "text": [
      "Epoch 23/40: 100%|██████████| 24/24 [00:03<00:00,  7.23it/s, Loss=0.145]\n"
     ]
    },
    {
     "name": "stdout",
     "output_type": "stream",
     "text": [
      "Reconstruction Loss: 0.1476\n"
     ]
    },
    {
     "name": "stderr",
     "output_type": "stream",
     "text": [
      "Epoch 24/40: 100%|██████████| 24/24 [00:03<00:00,  7.21it/s, Loss=0.155]\n"
     ]
    },
    {
     "name": "stdout",
     "output_type": "stream",
     "text": [
      "Reconstruction Loss: 0.1454\n"
     ]
    },
    {
     "name": "stderr",
     "output_type": "stream",
     "text": [
      "Epoch 25/40: 100%|██████████| 24/24 [00:03<00:00,  7.27it/s, Loss=0.127]\n"
     ]
    },
    {
     "name": "stdout",
     "output_type": "stream",
     "text": [
      "Reconstruction Loss: 0.1425\n"
     ]
    },
    {
     "name": "stderr",
     "output_type": "stream",
     "text": [
      "Epoch 26/40: 100%|██████████| 24/24 [00:03<00:00,  7.12it/s, Loss=0.165]\n"
     ]
    },
    {
     "name": "stdout",
     "output_type": "stream",
     "text": [
      "Reconstruction Loss: 0.1401\n"
     ]
    },
    {
     "name": "stderr",
     "output_type": "stream",
     "text": [
      "Epoch 27/40: 100%|██████████| 24/24 [00:03<00:00,  7.22it/s, Loss=0.164]\n"
     ]
    },
    {
     "name": "stdout",
     "output_type": "stream",
     "text": [
      "Reconstruction Loss: 0.1388\n"
     ]
    },
    {
     "name": "stderr",
     "output_type": "stream",
     "text": [
      "Epoch 28/40: 100%|██████████| 24/24 [00:03<00:00,  7.23it/s, Loss=0.151]\n"
     ]
    },
    {
     "name": "stdout",
     "output_type": "stream",
     "text": [
      "Reconstruction Loss: 0.1359\n"
     ]
    },
    {
     "name": "stderr",
     "output_type": "stream",
     "text": [
      "Epoch 29/40: 100%|██████████| 24/24 [00:03<00:00,  7.49it/s, Loss=0.136]\n"
     ]
    },
    {
     "name": "stdout",
     "output_type": "stream",
     "text": [
      "Reconstruction Loss: 0.1338\n"
     ]
    },
    {
     "name": "stderr",
     "output_type": "stream",
     "text": [
      "Epoch 30/40: 100%|██████████| 24/24 [00:03<00:00,  7.57it/s, Loss=0.147]\n"
     ]
    },
    {
     "name": "stdout",
     "output_type": "stream",
     "text": [
      "Reconstruction Loss: 0.1317\n"
     ]
    },
    {
     "name": "stderr",
     "output_type": "stream",
     "text": [
      "Epoch 31/40: 100%|██████████| 24/24 [00:03<00:00,  7.31it/s, Loss=0.117]\n"
     ]
    },
    {
     "name": "stdout",
     "output_type": "stream",
     "text": [
      "Reconstruction Loss: 0.1291\n"
     ]
    },
    {
     "name": "stderr",
     "output_type": "stream",
     "text": [
      "Epoch 32/40: 100%|██████████| 24/24 [00:03<00:00,  7.33it/s, Loss=0.137] \n"
     ]
    },
    {
     "name": "stdout",
     "output_type": "stream",
     "text": [
      "Reconstruction Loss: 0.1280\n"
     ]
    },
    {
     "name": "stderr",
     "output_type": "stream",
     "text": [
      "Epoch 33/40: 100%|██████████| 24/24 [00:03<00:00,  7.37it/s, Loss=0.143]\n"
     ]
    },
    {
     "name": "stdout",
     "output_type": "stream",
     "text": [
      "Reconstruction Loss: 0.1269\n"
     ]
    },
    {
     "name": "stderr",
     "output_type": "stream",
     "text": [
      "Epoch 34/40: 100%|██████████| 24/24 [00:03<00:00,  7.38it/s, Loss=0.146]\n"
     ]
    },
    {
     "name": "stdout",
     "output_type": "stream",
     "text": [
      "Reconstruction Loss: 0.1245\n"
     ]
    },
    {
     "name": "stderr",
     "output_type": "stream",
     "text": [
      "Epoch 35/40: 100%|██████████| 24/24 [00:03<00:00,  7.51it/s, Loss=0.145]\n"
     ]
    },
    {
     "name": "stdout",
     "output_type": "stream",
     "text": [
      "Reconstruction Loss: 0.1227\n"
     ]
    },
    {
     "name": "stderr",
     "output_type": "stream",
     "text": [
      "Epoch 36/40: 100%|██████████| 24/24 [00:03<00:00,  7.52it/s, Loss=0.117] \n"
     ]
    },
    {
     "name": "stdout",
     "output_type": "stream",
     "text": [
      "Reconstruction Loss: 0.1208\n"
     ]
    },
    {
     "name": "stderr",
     "output_type": "stream",
     "text": [
      "Epoch 37/40: 100%|██████████| 24/24 [00:03<00:00,  7.25it/s, Loss=0.128] \n"
     ]
    },
    {
     "name": "stdout",
     "output_type": "stream",
     "text": [
      "Reconstruction Loss: 0.1212\n"
     ]
    },
    {
     "name": "stderr",
     "output_type": "stream",
     "text": [
      "Epoch 38/40: 100%|██████████| 24/24 [00:03<00:00,  7.46it/s, Loss=0.112]\n"
     ]
    },
    {
     "name": "stdout",
     "output_type": "stream",
     "text": [
      "Reconstruction Loss: 0.1182\n"
     ]
    },
    {
     "name": "stderr",
     "output_type": "stream",
     "text": [
      "Epoch 39/40: 100%|██████████| 24/24 [00:03<00:00,  7.47it/s, Loss=0.118] \n"
     ]
    },
    {
     "name": "stdout",
     "output_type": "stream",
     "text": [
      "Reconstruction Loss: 0.1178\n"
     ]
    },
    {
     "data": {
      "image/png": "[encoded data removed]",
      "text/plain": [
       "<Figure size 800x600 with 1 Axes>"
      ]
     },
     "metadata": {},
     "output_type": "display_data"
    },
    {
     "name": "stdout",
     "output_type": "stream",
     "text": [
      "Validation loss: 0.11534831935549697\n",
      "Validation accuracy: 88.46516807277806%\n"
     ]
    }
   ],
   "source": [
    "rbm = RBM(num_visible=num_visible, num_hidden=num_hidden, device=device)\n",
    "\n",
    "losses = train_rbm(rbm, train_data, epochs=40, learning_rate=0.01, k=10, batch_size=32)\n",
    "\n",
    "plot_training_loss(losses, title=\"RBM Training Reconstruction Loss\", xlabel=\"Epoch\", ylabel=\"Reconstruction Loss\")\n",
    "loss, acc = evaluate_rbm(rbm, test_data, device)\n",
    "print(f\"Validation loss: {loss}\")\n",
    "print(f\"Validation accuracy: {acc*100}%\")"
   ]
  },
  {
   "cell_type": "markdown",
   "id": "bc6329e3",
   "metadata": {},
   "source": [
    "Furthermore, we train DBN on the same dataset. The goal is to compare them."
   ]
  },
  {
   "cell_type": "code",
   "execution_count": 10,
   "id": "c2285778",
   "metadata": {},
   "outputs": [
    {
     "name": "stderr",
     "output_type": "stream",
     "text": [
      "Epoch 0/50: 100%|██████████| 24/24 [00:00<00:00, 62.01it/s, Loss=0.394]\n"
     ]
    },
    {
     "name": "stdout",
     "output_type": "stream",
     "text": [
      "Reconstruction Loss: 0.4600\n"
     ]
    },
    {
     "name": "stderr",
     "output_type": "stream",
     "text": [
      "Epoch 1/50: 100%|██████████| 24/24 [00:00<00:00, 74.80it/s, Loss=0.356]\n"
     ]
    },
    {
     "name": "stdout",
     "output_type": "stream",
     "text": [
      "Reconstruction Loss: 0.3700\n"
     ]
    },
    {
     "name": "stderr",
     "output_type": "stream",
     "text": [
      "Epoch 2/50: 100%|██████████| 24/24 [00:00<00:00, 76.81it/s, Loss=0.318]\n"
     ]
    },
    {
     "name": "stdout",
     "output_type": "stream",
     "text": [
      "Reconstruction Loss: 0.3378\n"
     ]
    },
    {
     "name": "stderr",
     "output_type": "stream",
     "text": [
      "Epoch 3/50: 100%|██████████| 24/24 [00:00<00:00, 72.65it/s, Loss=0.311]\n"
     ]
    },
    {
     "name": "stdout",
     "output_type": "stream",
     "text": [
      "Reconstruction Loss: 0.3209\n"
     ]
    },
    {
     "name": "stderr",
     "output_type": "stream",
     "text": [
      "Epoch 4/50: 100%|██████████| 24/24 [00:00<00:00, 78.06it/s, Loss=0.291]\n"
     ]
    },
    {
     "name": "stdout",
     "output_type": "stream",
     "text": [
      "Reconstruction Loss: 0.3050\n"
     ]
    },
    {
     "name": "stderr",
     "output_type": "stream",
     "text": [
      "Epoch 5/50: 100%|██████████| 24/24 [00:00<00:00, 79.73it/s, Loss=0.271]\n"
     ]
    },
    {
     "name": "stdout",
     "output_type": "stream",
     "text": [
      "Reconstruction Loss: 0.2954\n"
     ]
    },
    {
     "name": "stderr",
     "output_type": "stream",
     "text": [
      "Epoch 6/50: 100%|██████████| 24/24 [00:00<00:00, 79.97it/s, Loss=0.303]\n"
     ]
    },
    {
     "name": "stdout",
     "output_type": "stream",
     "text": [
      "Reconstruction Loss: 0.2887\n"
     ]
    },
    {
     "name": "stderr",
     "output_type": "stream",
     "text": [
      "Epoch 7/50: 100%|██████████| 24/24 [00:00<00:00, 74.78it/s, Loss=0.245]\n"
     ]
    },
    {
     "name": "stdout",
     "output_type": "stream",
     "text": [
      "Reconstruction Loss: 0.2800\n"
     ]
    },
    {
     "name": "stderr",
     "output_type": "stream",
     "text": [
      "Epoch 8/50: 100%|██████████| 24/24 [00:00<00:00, 80.22it/s, Loss=0.272]\n"
     ]
    },
    {
     "name": "stdout",
     "output_type": "stream",
     "text": [
      "Reconstruction Loss: 0.2742\n"
     ]
    },
    {
     "name": "stderr",
     "output_type": "stream",
     "text": [
      "Epoch 9/50: 100%|██████████| 24/24 [00:00<00:00, 77.03it/s, Loss=0.285]\n"
     ]
    },
    {
     "name": "stdout",
     "output_type": "stream",
     "text": [
      "Reconstruction Loss: 0.2703\n"
     ]
    },
    {
     "name": "stderr",
     "output_type": "stream",
     "text": [
      "Epoch 10/50: 100%|██████████| 24/24 [00:00<00:00, 75.01it/s, Loss=0.287]\n"
     ]
    },
    {
     "name": "stdout",
     "output_type": "stream",
     "text": [
      "Reconstruction Loss: 0.2645\n"
     ]
    },
    {
     "name": "stderr",
     "output_type": "stream",
     "text": [
      "Epoch 11/50: 100%|██████████| 24/24 [00:00<00:00, 77.81it/s, Loss=0.238]\n"
     ]
    },
    {
     "name": "stdout",
     "output_type": "stream",
     "text": [
      "Reconstruction Loss: 0.2618\n"
     ]
    },
    {
     "name": "stderr",
     "output_type": "stream",
     "text": [
      "Epoch 12/50: 100%|██████████| 24/24 [00:00<00:00, 71.40it/s, Loss=0.266]\n"
     ]
    },
    {
     "name": "stdout",
     "output_type": "stream",
     "text": [
      "Reconstruction Loss: 0.2571\n"
     ]
    },
    {
     "name": "stderr",
     "output_type": "stream",
     "text": [
      "Epoch 13/50: 100%|██████████| 24/24 [00:00<00:00, 75.57it/s, Loss=0.286]\n"
     ]
    },
    {
     "name": "stdout",
     "output_type": "stream",
     "text": [
      "Reconstruction Loss: 0.2535\n"
     ]
    },
    {
     "name": "stderr",
     "output_type": "stream",
     "text": [
      "Epoch 14/50: 100%|██████████| 24/24 [00:00<00:00, 73.81it/s, Loss=0.261]\n"
     ]
    },
    {
     "name": "stdout",
     "output_type": "stream",
     "text": [
      "Reconstruction Loss: 0.2508\n"
     ]
    },
    {
     "name": "stderr",
     "output_type": "stream",
     "text": [
      "Epoch 15/50: 100%|██████████| 24/24 [00:00<00:00, 76.73it/s, Loss=0.241]\n"
     ]
    },
    {
     "name": "stdout",
     "output_type": "stream",
     "text": [
      "Reconstruction Loss: 0.2465\n"
     ]
    },
    {
     "name": "stderr",
     "output_type": "stream",
     "text": [
      "Epoch 16/50: 100%|██████████| 24/24 [00:00<00:00, 77.20it/s, Loss=0.252]\n"
     ]
    },
    {
     "name": "stdout",
     "output_type": "stream",
     "text": [
      "Reconstruction Loss: 0.2445\n"
     ]
    },
    {
     "name": "stderr",
     "output_type": "stream",
     "text": [
      "Epoch 17/50: 100%|██████████| 24/24 [00:00<00:00, 75.77it/s, Loss=0.226]\n"
     ]
    },
    {
     "name": "stdout",
     "output_type": "stream",
     "text": [
      "Reconstruction Loss: 0.2426\n"
     ]
    },
    {
     "name": "stderr",
     "output_type": "stream",
     "text": [
      "Epoch 18/50: 100%|██████████| 24/24 [00:00<00:00, 75.21it/s, Loss=0.185]\n"
     ]
    },
    {
     "name": "stdout",
     "output_type": "stream",
     "text": [
      "Reconstruction Loss: 0.2394\n"
     ]
    },
    {
     "name": "stderr",
     "output_type": "stream",
     "text": [
      "Epoch 19/50: 100%|██████████| 24/24 [00:00<00:00, 75.23it/s, Loss=0.236]\n"
     ]
    },
    {
     "name": "stdout",
     "output_type": "stream",
     "text": [
      "Reconstruction Loss: 0.2366\n"
     ]
    },
    {
     "name": "stderr",
     "output_type": "stream",
     "text": [
      "Epoch 20/50: 100%|██████████| 24/24 [00:00<00:00, 74.75it/s, Loss=0.202]\n"
     ]
    },
    {
     "name": "stdout",
     "output_type": "stream",
     "text": [
      "Reconstruction Loss: 0.2337\n"
     ]
    },
    {
     "name": "stderr",
     "output_type": "stream",
     "text": [
      "Epoch 21/50: 100%|██████████| 24/24 [00:00<00:00, 73.57it/s, Loss=0.203]\n"
     ]
    },
    {
     "name": "stdout",
     "output_type": "stream",
     "text": [
      "Reconstruction Loss: 0.2345\n"
     ]
    },
    {
     "name": "stderr",
     "output_type": "stream",
     "text": [
      "Epoch 22/50: 100%|██████████| 24/24 [00:00<00:00, 74.85it/s, Loss=0.253]\n"
     ]
    },
    {
     "name": "stdout",
     "output_type": "stream",
     "text": [
      "Reconstruction Loss: 0.2332\n"
     ]
    },
    {
     "name": "stderr",
     "output_type": "stream",
     "text": [
      "Epoch 23/50: 100%|██████████| 24/24 [00:00<00:00, 76.03it/s, Loss=0.282]\n"
     ]
    },
    {
     "name": "stdout",
     "output_type": "stream",
     "text": [
      "Reconstruction Loss: 0.2326\n"
     ]
    },
    {
     "name": "stderr",
     "output_type": "stream",
     "text": [
      "Epoch 24/50: 100%|██████████| 24/24 [00:00<00:00, 69.36it/s, Loss=0.212]\n"
     ]
    },
    {
     "name": "stdout",
     "output_type": "stream",
     "text": [
      "Reconstruction Loss: 0.2293\n"
     ]
    },
    {
     "name": "stderr",
     "output_type": "stream",
     "text": [
      "Epoch 25/50: 100%|██████████| 24/24 [00:00<00:00, 73.92it/s, Loss=0.23] \n"
     ]
    },
    {
     "name": "stdout",
     "output_type": "stream",
     "text": [
      "Reconstruction Loss: 0.2309\n"
     ]
    },
    {
     "name": "stderr",
     "output_type": "stream",
     "text": [
      "Epoch 26/50: 100%|██████████| 24/24 [00:00<00:00, 71.55it/s, Loss=0.218]\n"
     ]
    },
    {
     "name": "stdout",
     "output_type": "stream",
     "text": [
      "Reconstruction Loss: 0.2285\n"
     ]
    },
    {
     "name": "stderr",
     "output_type": "stream",
     "text": [
      "Epoch 27/50: 100%|██████████| 24/24 [00:00<00:00, 75.56it/s, Loss=0.186]\n"
     ]
    },
    {
     "name": "stdout",
     "output_type": "stream",
     "text": [
      "Reconstruction Loss: 0.2240\n"
     ]
    },
    {
     "name": "stderr",
     "output_type": "stream",
     "text": [
      "Epoch 28/50: 100%|██████████| 24/24 [00:00<00:00, 72.96it/s, Loss=0.231]\n"
     ]
    },
    {
     "name": "stdout",
     "output_type": "stream",
     "text": [
      "Reconstruction Loss: 0.2260\n"
     ]
    },
    {
     "name": "stderr",
     "output_type": "stream",
     "text": [
      "Epoch 29/50: 100%|██████████| 24/24 [00:00<00:00, 76.55it/s, Loss=0.202]\n"
     ]
    },
    {
     "name": "stdout",
     "output_type": "stream",
     "text": [
      "Reconstruction Loss: 0.2240\n"
     ]
    },
    {
     "name": "stderr",
     "output_type": "stream",
     "text": [
      "Epoch 30/50: 100%|██████████| 24/24 [00:00<00:00, 74.07it/s, Loss=0.222]\n"
     ]
    },
    {
     "name": "stdout",
     "output_type": "stream",
     "text": [
      "Reconstruction Loss: 0.2215\n"
     ]
    },
    {
     "name": "stderr",
     "output_type": "stream",
     "text": [
      "Epoch 31/50: 100%|██████████| 24/24 [00:00<00:00, 71.99it/s, Loss=0.232]\n"
     ]
    },
    {
     "name": "stdout",
     "output_type": "stream",
     "text": [
      "Reconstruction Loss: 0.2213\n"
     ]
    },
    {
     "name": "stderr",
     "output_type": "stream",
     "text": [
      "Epoch 32/50: 100%|██████████| 24/24 [00:00<00:00, 74.47it/s, Loss=0.229]\n"
     ]
    },
    {
     "name": "stdout",
     "output_type": "stream",
     "text": [
      "Reconstruction Loss: 0.2211\n"
     ]
    },
    {
     "name": "stderr",
     "output_type": "stream",
     "text": [
      "Epoch 33/50: 100%|██████████| 24/24 [00:00<00:00, 73.71it/s, Loss=0.245]\n"
     ]
    },
    {
     "name": "stdout",
     "output_type": "stream",
     "text": [
      "Reconstruction Loss: 0.2237\n"
     ]
    },
    {
     "name": "stderr",
     "output_type": "stream",
     "text": [
      "Epoch 34/50: 100%|██████████| 24/24 [00:00<00:00, 74.60it/s, Loss=0.243]\n"
     ]
    },
    {
     "name": "stdout",
     "output_type": "stream",
     "text": [
      "Reconstruction Loss: 0.2212\n"
     ]
    },
    {
     "name": "stderr",
     "output_type": "stream",
     "text": [
      "Epoch 35/50: 100%|██████████| 24/24 [00:00<00:00, 73.79it/s, Loss=0.213]\n"
     ]
    },
    {
     "name": "stdout",
     "output_type": "stream",
     "text": [
      "Reconstruction Loss: 0.2197\n"
     ]
    },
    {
     "name": "stderr",
     "output_type": "stream",
     "text": [
      "Epoch 36/50: 100%|██████████| 24/24 [00:00<00:00, 74.55it/s, Loss=0.244]\n"
     ]
    },
    {
     "name": "stdout",
     "output_type": "stream",
     "text": [
      "Reconstruction Loss: 0.2204\n"
     ]
    },
    {
     "name": "stderr",
     "output_type": "stream",
     "text": [
      "Epoch 37/50: 100%|██████████| 24/24 [00:00<00:00, 72.54it/s, Loss=0.216]\n"
     ]
    },
    {
     "name": "stdout",
     "output_type": "stream",
     "text": [
      "Reconstruction Loss: 0.2205\n"
     ]
    },
    {
     "name": "stderr",
     "output_type": "stream",
     "text": [
      "Epoch 38/50: 100%|██████████| 24/24 [00:00<00:00, 72.79it/s, Loss=0.241]\n"
     ]
    },
    {
     "name": "stdout",
     "output_type": "stream",
     "text": [
      "Reconstruction Loss: 0.2211\n"
     ]
    },
    {
     "name": "stderr",
     "output_type": "stream",
     "text": [
      "Epoch 39/50: 100%|██████████| 24/24 [00:00<00:00, 75.40it/s, Loss=0.219]\n"
     ]
    },
    {
     "name": "stdout",
     "output_type": "stream",
     "text": [
      "Reconstruction Loss: 0.2216\n"
     ]
    },
    {
     "name": "stderr",
     "output_type": "stream",
     "text": [
      "Epoch 40/50: 100%|██████████| 24/24 [00:00<00:00, 72.23it/s, Loss=0.192]\n"
     ]
    },
    {
     "name": "stdout",
     "output_type": "stream",
     "text": [
      "Reconstruction Loss: 0.2211\n"
     ]
    },
    {
     "name": "stderr",
     "output_type": "stream",
     "text": [
      "Epoch 41/50: 100%|██████████| 24/24 [00:00<00:00, 75.54it/s, Loss=0.162]\n"
     ]
    },
    {
     "name": "stdout",
     "output_type": "stream",
     "text": [
      "Reconstruction Loss: 0.2177\n"
     ]
    },
    {
     "name": "stderr",
     "output_type": "stream",
     "text": [
      "Epoch 42/50: 100%|██████████| 24/24 [00:00<00:00, 73.48it/s, Loss=0.24] \n"
     ]
    },
    {
     "name": "stdout",
     "output_type": "stream",
     "text": [
      "Reconstruction Loss: 0.2227\n"
     ]
    },
    {
     "name": "stderr",
     "output_type": "stream",
     "text": [
      "Epoch 43/50: 100%|██████████| 24/24 [00:00<00:00, 72.73it/s, Loss=0.218]\n"
     ]
    },
    {
     "name": "stdout",
     "output_type": "stream",
     "text": [
      "Reconstruction Loss: 0.2210\n"
     ]
    },
    {
     "name": "stderr",
     "output_type": "stream",
     "text": [
      "Epoch 44/50: 100%|██████████| 24/24 [00:00<00:00, 75.51it/s, Loss=0.218]\n"
     ]
    },
    {
     "name": "stdout",
     "output_type": "stream",
     "text": [
      "Reconstruction Loss: 0.2203\n"
     ]
    },
    {
     "name": "stderr",
     "output_type": "stream",
     "text": [
      "Epoch 45/50: 100%|██████████| 24/24 [00:00<00:00, 73.69it/s, Loss=0.212]\n"
     ]
    },
    {
     "name": "stdout",
     "output_type": "stream",
     "text": [
      "Reconstruction Loss: 0.2188\n"
     ]
    },
    {
     "name": "stderr",
     "output_type": "stream",
     "text": [
      "Epoch 46/50: 100%|██████████| 24/24 [00:00<00:00, 74.50it/s, Loss=0.184]\n"
     ]
    },
    {
     "name": "stdout",
     "output_type": "stream",
     "text": [
      "Reconstruction Loss: 0.2190\n"
     ]
    },
    {
     "name": "stderr",
     "output_type": "stream",
     "text": [
      "Epoch 47/50: 100%|██████████| 24/24 [00:00<00:00, 72.01it/s, Loss=0.288]\n"
     ]
    },
    {
     "name": "stdout",
     "output_type": "stream",
     "text": [
      "Reconstruction Loss: 0.2213\n"
     ]
    },
    {
     "name": "stderr",
     "output_type": "stream",
     "text": [
      "Epoch 48/50: 100%|██████████| 24/24 [00:00<00:00, 75.33it/s, Loss=0.268]\n"
     ]
    },
    {
     "name": "stdout",
     "output_type": "stream",
     "text": [
      "Reconstruction Loss: 0.2226\n"
     ]
    },
    {
     "name": "stderr",
     "output_type": "stream",
     "text": [
      "Epoch 49/50: 100%|██████████| 24/24 [00:00<00:00, 74.72it/s, Loss=0.269]\n"
     ]
    },
    {
     "name": "stdout",
     "output_type": "stream",
     "text": [
      "Reconstruction Loss: 0.2208\n"
     ]
    },
    {
     "data": {
      "image/png": "[encoded data removed]",
      "text/plain": [
       "<Figure size 800x600 with 1 Axes>"
      ]
     },
     "metadata": {},
     "output_type": "display_data"
    },
    {
     "name": "stdout",
     "output_type": "stream",
     "text": [
      "Validation loss: 0.0906\n",
      "Validation accuracy: 90.94%\n"
     ]
    }
   ],
   "source": [
    "rbm_for_dbn = copy.deepcopy(rbm)\n",
    "dbn = DBN(rbm_for_dbn, num_hidden2, device=device)\n",
    "\n",
    "losses = train_dbn(dbn, train_data, epochs=50, learning_rate=0.01, batch_size=32)\n",
    "\n",
    "plot_training_loss(losses, title=\"DBN Training Reconstruction Loss\", xlabel=\"Epoch\", ylabel=\"Reconstruction Loss\")\n",
    "\n",
    "loss, acc = evaluate_dbn(dbn, test_data, device)\n",
    "print(f\"Validation loss: {loss:.4f}\")\n",
    "print(f\"Validation accuracy: {acc*100:.2f}%\")"
   ]
  },
  {
   "cell_type": "markdown",
   "id": "44c0d57a-ee29-4bc5-b9fb-05d90c27cfda",
   "metadata": {},
   "source": [
    "## USAGE EXAMPLE\n",
    "First, load the movies dataframe"
   ]
  },
  {
   "cell_type": "code",
   "execution_count": 11,
   "id": "f4d42262-8bfb-415f-b2b5-d4ada4069e48",
   "metadata": {},
   "outputs": [],
   "source": [
    "movies = load_movies(\"data\\\\ml-100k\\\\u.item\")"
   ]
  },
  {
   "cell_type": "markdown",
   "id": "7110fb1c-c341-4b3d-b9f1-740f85005e2d",
   "metadata": {},
   "source": [
    "Now, we pick a random user and print movies they liked (rate >=3 means they liked the movie)."
   ]
  },
  {
   "cell_type": "code",
   "execution_count": 12,
   "id": "994e9e2c-a54e-4064-b17a-e30bffe1c7dd",
   "metadata": {},
   "outputs": [
    {
     "name": "stdout",
     "output_type": "stream",
     "text": [
      "'Mr. Holland's Opus (1995)' has the following genre:\n",
      "['Drama']\n",
      "--------------------------------------------------\n",
      "'Bad Boys (1995)' has the following genre:\n",
      "['Action']\n",
      "--------------------------------------------------\n",
      "'Net, The (1995)' has the following genre:\n",
      "['Sci-Fi', 'Thriller']\n",
      "--------------------------------------------------\n",
      "'Twister (1996)' has the following genre:\n",
      "['Action', 'Adventure', 'Thriller']\n",
      "--------------------------------------------------\n",
      "'Independence Day (ID4) (1996)' has the following genre:\n",
      "['Action', 'Sci-Fi', 'War']\n",
      "--------------------------------------------------\n",
      "'Gone with the Wind (1939)' has the following genre:\n",
      "['Drama', 'Romance', 'War']\n",
      "--------------------------------------------------\n",
      "'Sound of Music, The (1965)' has the following genre:\n",
      "['Musical']\n",
      "--------------------------------------------------\n",
      "'Empire Strikes Back, The (1980)' has the following genre:\n",
      "['Action', 'Adventure', 'Drama', 'Romance', 'Sci-Fi', 'War']\n",
      "--------------------------------------------------\n",
      "'Raiders of the Lost Ark (1981)' has the following genre:\n",
      "['Action', 'Adventure']\n",
      "--------------------------------------------------\n",
      "'Graduate, The (1967)' has the following genre:\n",
      "['Drama', 'Romance']\n",
      "--------------------------------------------------\n",
      "'Cyrano de Bergerac (1990)' has the following genre:\n",
      "['Action', 'Drama', 'Romance']\n",
      "--------------------------------------------------\n",
      "'Jaws (1975)' has the following genre:\n",
      "['Action', 'Horror']\n",
      "--------------------------------------------------\n",
      "'Scream (1996)' has the following genre:\n",
      "['Horror', 'Thriller']\n",
      "--------------------------------------------------\n",
      "'Face/Off (1997)' has the following genre:\n",
      "['Action', 'Sci-Fi', 'Thriller']\n",
      "--------------------------------------------------\n",
      "'Thinner (1996)' has the following genre:\n",
      "['Horror', 'Thriller']\n",
      "--------------------------------------------------\n",
      "'William Shakespeare's Romeo and Juliet (1996)' has the following genre:\n",
      "['Drama', 'Romance']\n",
      "--------------------------------------------------\n",
      "'To Kill a Mockingbird (1962)' has the following genre:\n",
      "['Drama']\n",
      "--------------------------------------------------\n",
      "'Speed (1994)' has the following genre:\n",
      "['Action', 'Romance', 'Thriller']\n",
      "--------------------------------------------------\n",
      "'Beauty and the Beast (1991)' has the following genre:\n",
      "['Animation', \"Children's\", 'Musical']\n",
      "--------------------------------------------------\n",
      "'Sword in the Stone, The (1963)' has the following genre:\n",
      "['Animation', \"Children's\"]\n",
      "--------------------------------------------------\n",
      "'Christmas Carol, A (1938)' has the following genre:\n",
      "['Drama']\n",
      "--------------------------------------------------\n",
      "'Crucible, The (1996)' has the following genre:\n",
      "['Drama']\n",
      "--------------------------------------------------\n",
      "'Craft, The (1996)' has the following genre:\n",
      "['Drama', 'Horror']\n",
      "--------------------------------------------------\n"
     ]
    }
   ],
   "source": [
    "random_user = random.randint(1, len(test_data))\n",
    "liked = test_data[random_user]\n",
    "movie_from_tensor(liked, movies)"
   ]
  },
  {
   "cell_type": "markdown",
   "id": "276bb0eb-6467-46cc-ad48-b61586fdb32b",
   "metadata": {},
   "source": [
    "Now, the idea is to reconstruct the users watched list, and keep the probabilities from reconstruction. We pick the largest n=5 probabilities of movies the user has not watched as recommendation."
   ]
  },
  {
   "cell_type": "markdown",
   "id": "8bf79f7c",
   "metadata": {},
   "source": [
    "First we use RBM."
   ]
  },
  {
   "cell_type": "code",
   "execution_count": 16,
   "id": "ad722bc6-6967-42e2-9805-66ce3f24b269",
   "metadata": {},
   "outputs": [
    {
     "name": "stdout",
     "output_type": "stream",
     "text": [
      "'Star Wars (1977)' has the following genre:\n",
      "['Action', 'Adventure', 'Romance', 'Sci-Fi', 'War']\n",
      "--------------------------------------------------\n",
      "'Contact (1997)' has the following genre:\n",
      "['Drama', 'Sci-Fi']\n",
      "--------------------------------------------------\n",
      "'Secrets & Lies (1996)' has the following genre:\n",
      "['Drama']\n",
      "--------------------------------------------------\n",
      "'Titanic (1997)' has the following genre:\n",
      "['Action', 'Drama', 'Romance']\n",
      "--------------------------------------------------\n",
      "'Singin' in the Rain (1952)' has the following genre:\n",
      "['Musical', 'Romance']\n",
      "--------------------------------------------------\n"
     ]
    }
   ],
   "source": [
    "_,h = rbm.forward(liked)\n",
    "probs, v = rbm.backward(h)\n",
    "to_recommend = recommend(liked, probs, 5)\n",
    "movie_from_tensor(to_recommend.cpu(), movies)"
   ]
  },
  {
   "cell_type": "markdown",
   "id": "94459366",
   "metadata": {},
   "source": [
    "Then we use DBN."
   ]
  },
  {
   "cell_type": "code",
   "execution_count": 15,
   "id": "d154229b",
   "metadata": {},
   "outputs": [
    {
     "name": "stdout",
     "output_type": "stream",
     "text": [
      "'Star Wars (1977)' has the following genre:\n",
      "['Action', 'Adventure', 'Romance', 'Sci-Fi', 'War']\n",
      "--------------------------------------------------\n",
      "'Leaving Las Vegas (1995)' has the following genre:\n",
      "['Drama', 'Romance']\n",
      "--------------------------------------------------\n",
      "'Air Force One (1997)' has the following genre:\n",
      "['Action', 'Thriller']\n",
      "--------------------------------------------------\n",
      "'Fly Away Home (1996)' has the following genre:\n",
      "['Adventure', \"Children's\"]\n",
      "--------------------------------------------------\n",
      "'Titanic (1997)' has the following genre:\n",
      "['Action', 'Drama', 'Romance']\n",
      "--------------------------------------------------\n"
     ]
    }
   ],
   "source": [
    "h_prob1_up, h_sample1_up, h_prob2_up, h_sample2_up = dbn.forward(liked)\n",
    "h_sample2_down = h_sample2_up.clone()\n",
    "for _ in range(1):\n",
    "    h_prob1_down, h_sample1_down = dbn.rbm2.backward(h_sample2_down)\n",
    "    h_prob2_down, h_sample2_down = dbn.rbm2.forward(h_sample1_down)\n",
    "\n",
    "probs, v = dbn.rbm1.backward(h_sample1_down)\n",
    "to_recommend = recommend(liked, probs, 5)\n",
    "movie_from_tensor(to_recommend.cpu(), movies)"
   ]
  },
  {
   "cell_type": "markdown",
   "id": "137b75b1",
   "metadata": {},
   "source": [
    "We see RBM and DBN both recommend Star wars and Titanic."
   ]
  }
 ],
 "metadata": {
  "kernelspec": {
   "display_name": "base",
   "language": "python",
   "name": "python3"
  },
  "language_info": {
   "codemirror_mode": {
    "name": "ipython",
    "version": 3
   },
   "file_extension": ".py",
   "mimetype": "text/x-python",
   "name": "python",
   "nbconvert_exporter": "python",
   "pygments_lexer": "ipython3",
   "version": "3.10.9"
  }
 },
 "nbformat": 4,
 "nbformat_minor": 5
}
