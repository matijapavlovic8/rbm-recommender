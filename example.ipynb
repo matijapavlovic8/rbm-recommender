{
 "cells": [
  {
   "cell_type": "markdown",
   "id": "3d50a162-ace0-4a88-86df-a4f25ca16682",
   "metadata": {},
   "source": [
    "# RBM Recommender system, training and example"
   ]
  },
  {
   "cell_type": "code",
   "execution_count": 1,
   "id": "94049012-c11b-42ba-8881-feb37cc9c1ae",
   "metadata": {},
   "outputs": [],
   "source": [
    "from src.eval import evaluate_rbm, evaluate_dbn\n",
    "from src.data_preprocessing import load_data, preprocess_data, load_movies\n",
    "from src.models import RBM, DBN\n",
    "from src.training import train_rbm, train_dbn\n",
    "from src.plot_utils import plot_training_loss\n",
    "from sklearn.model_selection import train_test_split\n",
    "from src.utils import recommend, movie_from_tensor, test_recommendation_ability\n",
    "import torch\n",
    "import random\n",
    "import copy"
   ]
  },
  {
   "cell_type": "markdown",
   "id": "0877dfb2-54b1-424f-b977-6642c38454c7",
   "metadata": {},
   "source": [
    "## TRAINING\n",
    "First we intialize our dataset and parameters. In our dataset, movies user hasn't watched are marked as 0 and rates are scaled from 1-5 to (0, 1]."
   ]
  },
  {
   "cell_type": "code",
   "execution_count": 2,
   "id": "cbde9830-6ee1-46db-93be-dd2375305c50",
   "metadata": {},
   "outputs": [],
   "source": [
    "file_path = \"data\\\\ml-100k\\\\u.data\"\n",
    "data = load_data(file_path)\n",
    "interaction_matrix = preprocess_data(data)\n",
    "\n",
    "\n",
    "interaction_tensor = torch.tensor(interaction_matrix.values, dtype=torch.float32)\n",
    "train_data, test_data = train_test_split(interaction_tensor.numpy(), test_size=0.3, random_state=42)\n",
    "\n",
    "train_data = torch.tensor(train_data, dtype=torch.float32)\n",
    "test_data = torch.tensor(test_data, dtype=torch.float32)\n",
    "\n",
    "device = torch.device('cuda' if torch.cuda.is_available() else 'cpu')\n",
    "\n",
    "num_visible = interaction_tensor.shape[1]\n",
    "num_hidden = 200"
   ]
  },
  {
   "cell_type": "markdown",
   "id": "fcec7cda",
   "metadata": {},
   "source": [
    "Next we train RBM on the given dataset."
   ]
  },
  {
   "cell_type": "code",
   "execution_count": 3,
   "id": "89d3c2fb",
   "metadata": {},
   "outputs": [
    {
     "name": "stderr",
     "output_type": "stream",
     "text": [
      "Epoch 1/40: 100%|██████████| 42/42 [00:00<00:00, 44.21it/s, Loss=0.225]\n"
     ]
    },
    {
     "name": "stdout",
     "output_type": "stream",
     "text": [
      "Reconstruction Loss: 0.3033\n"
     ]
    },
    {
     "name": "stderr",
     "output_type": "stream",
     "text": [
      "Epoch 2/40: 100%|██████████| 42/42 [00:00<00:00, 42.16it/s, Loss=0.17] \n"
     ]
    },
    {
     "name": "stdout",
     "output_type": "stream",
     "text": [
      "Reconstruction Loss: 0.1954\n"
     ]
    },
    {
     "name": "stderr",
     "output_type": "stream",
     "text": [
      "Epoch 3/40: 100%|██████████| 42/42 [00:00<00:00, 43.92it/s, Loss=0.142]\n"
     ]
    },
    {
     "name": "stdout",
     "output_type": "stream",
     "text": [
      "Reconstruction Loss: 0.1621\n"
     ]
    },
    {
     "name": "stderr",
     "output_type": "stream",
     "text": [
      "Epoch 4/40: 100%|██████████| 42/42 [00:00<00:00, 43.29it/s, Loss=0.111]\n"
     ]
    },
    {
     "name": "stdout",
     "output_type": "stream",
     "text": [
      "Reconstruction Loss: 0.1436\n"
     ]
    },
    {
     "name": "stderr",
     "output_type": "stream",
     "text": [
      "Epoch 5/40: 100%|██████████| 42/42 [00:00<00:00, 45.58it/s, Loss=0.122]\n"
     ]
    },
    {
     "name": "stdout",
     "output_type": "stream",
     "text": [
      "Reconstruction Loss: 0.1316\n"
     ]
    },
    {
     "name": "stderr",
     "output_type": "stream",
     "text": [
      "Epoch 6/40: 100%|██████████| 42/42 [00:00<00:00, 45.23it/s, Loss=0.0919]\n"
     ]
    },
    {
     "name": "stdout",
     "output_type": "stream",
     "text": [
      "Reconstruction Loss: 0.1222\n"
     ]
    },
    {
     "name": "stderr",
     "output_type": "stream",
     "text": [
      "Epoch 7/40: 100%|██████████| 42/42 [00:00<00:00, 45.80it/s, Loss=0.141] \n"
     ]
    },
    {
     "name": "stdout",
     "output_type": "stream",
     "text": [
      "Reconstruction Loss: 0.1157\n"
     ]
    },
    {
     "name": "stderr",
     "output_type": "stream",
     "text": [
      "Epoch 8/40: 100%|██████████| 42/42 [00:00<00:00, 46.25it/s, Loss=0.106] \n"
     ]
    },
    {
     "name": "stdout",
     "output_type": "stream",
     "text": [
      "Reconstruction Loss: 0.1089\n"
     ]
    },
    {
     "name": "stderr",
     "output_type": "stream",
     "text": [
      "Epoch 9/40: 100%|██████████| 42/42 [00:01<00:00, 40.68it/s, Loss=0.0778]\n"
     ]
    },
    {
     "name": "stdout",
     "output_type": "stream",
     "text": [
      "Reconstruction Loss: 0.1028\n"
     ]
    },
    {
     "name": "stderr",
     "output_type": "stream",
     "text": [
      "Epoch 10/40: 100%|██████████| 42/42 [00:00<00:00, 45.36it/s, Loss=0.0845]\n"
     ]
    },
    {
     "name": "stdout",
     "output_type": "stream",
     "text": [
      "Reconstruction Loss: 0.0977\n"
     ]
    },
    {
     "name": "stderr",
     "output_type": "stream",
     "text": [
      "Epoch 11/40: 100%|██████████| 42/42 [00:00<00:00, 43.80it/s, Loss=0.121] \n"
     ]
    },
    {
     "name": "stdout",
     "output_type": "stream",
     "text": [
      "Reconstruction Loss: 0.0938\n"
     ]
    },
    {
     "name": "stderr",
     "output_type": "stream",
     "text": [
      "Epoch 12/40: 100%|██████████| 42/42 [00:00<00:00, 44.36it/s, Loss=0.123] \n"
     ]
    },
    {
     "name": "stdout",
     "output_type": "stream",
     "text": [
      "Reconstruction Loss: 0.0893\n"
     ]
    },
    {
     "name": "stderr",
     "output_type": "stream",
     "text": [
      "Epoch 13/40: 100%|██████████| 42/42 [00:01<00:00, 41.68it/s, Loss=0.0647]\n"
     ]
    },
    {
     "name": "stdout",
     "output_type": "stream",
     "text": [
      "Reconstruction Loss: 0.0841\n"
     ]
    },
    {
     "name": "stderr",
     "output_type": "stream",
     "text": [
      "Epoch 14/40: 100%|██████████| 42/42 [00:00<00:00, 46.27it/s, Loss=0.0891]\n"
     ]
    },
    {
     "name": "stdout",
     "output_type": "stream",
     "text": [
      "Reconstruction Loss: 0.0808\n"
     ]
    },
    {
     "name": "stderr",
     "output_type": "stream",
     "text": [
      "Epoch 15/40: 100%|██████████| 42/42 [00:00<00:00, 45.00it/s, Loss=0.0772]\n"
     ]
    },
    {
     "name": "stdout",
     "output_type": "stream",
     "text": [
      "Reconstruction Loss: 0.0773\n"
     ]
    },
    {
     "name": "stderr",
     "output_type": "stream",
     "text": [
      "Epoch 16/40: 100%|██████████| 42/42 [00:00<00:00, 44.17it/s, Loss=0.0667]\n"
     ]
    },
    {
     "name": "stdout",
     "output_type": "stream",
     "text": [
      "Reconstruction Loss: 0.0739\n"
     ]
    },
    {
     "name": "stderr",
     "output_type": "stream",
     "text": [
      "Epoch 17/40: 100%|██████████| 42/42 [00:00<00:00, 44.72it/s, Loss=0.0387]\n"
     ]
    },
    {
     "name": "stdout",
     "output_type": "stream",
     "text": [
      "Reconstruction Loss: 0.0706\n"
     ]
    },
    {
     "name": "stderr",
     "output_type": "stream",
     "text": [
      "Epoch 18/40: 100%|██████████| 42/42 [00:00<00:00, 42.64it/s, Loss=0.0596]\n"
     ]
    },
    {
     "name": "stdout",
     "output_type": "stream",
     "text": [
      "Reconstruction Loss: 0.0686\n"
     ]
    },
    {
     "name": "stderr",
     "output_type": "stream",
     "text": [
      "Epoch 19/40: 100%|██████████| 42/42 [00:00<00:00, 46.30it/s, Loss=0.0525]\n"
     ]
    },
    {
     "name": "stdout",
     "output_type": "stream",
     "text": [
      "Reconstruction Loss: 0.0663\n"
     ]
    },
    {
     "name": "stderr",
     "output_type": "stream",
     "text": [
      "Epoch 20/40: 100%|██████████| 42/42 [00:00<00:00, 42.63it/s, Loss=0.0395]\n"
     ]
    },
    {
     "name": "stdout",
     "output_type": "stream",
     "text": [
      "Reconstruction Loss: 0.0641\n"
     ]
    },
    {
     "name": "stderr",
     "output_type": "stream",
     "text": [
      "Epoch 21/40: 100%|██████████| 42/42 [00:00<00:00, 45.92it/s, Loss=0.0559]\n"
     ]
    },
    {
     "name": "stdout",
     "output_type": "stream",
     "text": [
      "Reconstruction Loss: 0.0625\n"
     ]
    },
    {
     "name": "stderr",
     "output_type": "stream",
     "text": [
      "Epoch 22/40: 100%|██████████| 42/42 [00:00<00:00, 42.75it/s, Loss=0.0643]\n"
     ]
    },
    {
     "name": "stdout",
     "output_type": "stream",
     "text": [
      "Reconstruction Loss: 0.0609\n"
     ]
    },
    {
     "name": "stderr",
     "output_type": "stream",
     "text": [
      "Epoch 23/40: 100%|██████████| 42/42 [00:01<00:00, 41.88it/s, Loss=0.0781]\n"
     ]
    },
    {
     "name": "stdout",
     "output_type": "stream",
     "text": [
      "Reconstruction Loss: 0.0595\n"
     ]
    },
    {
     "name": "stderr",
     "output_type": "stream",
     "text": [
      "Epoch 24/40: 100%|██████████| 42/42 [00:00<00:00, 42.92it/s, Loss=0.0443]\n"
     ]
    },
    {
     "name": "stdout",
     "output_type": "stream",
     "text": [
      "Reconstruction Loss: 0.0575\n"
     ]
    },
    {
     "name": "stderr",
     "output_type": "stream",
     "text": [
      "Epoch 25/40: 100%|██████████| 42/42 [00:01<00:00, 39.81it/s, Loss=0.0542]\n"
     ]
    },
    {
     "name": "stdout",
     "output_type": "stream",
     "text": [
      "Reconstruction Loss: 0.0561\n"
     ]
    },
    {
     "name": "stderr",
     "output_type": "stream",
     "text": [
      "Epoch 26/40: 100%|██████████| 42/42 [00:00<00:00, 43.05it/s, Loss=0.0545]\n"
     ]
    },
    {
     "name": "stdout",
     "output_type": "stream",
     "text": [
      "Reconstruction Loss: 0.0547\n"
     ]
    },
    {
     "name": "stderr",
     "output_type": "stream",
     "text": [
      "Epoch 27/40: 100%|██████████| 42/42 [00:00<00:00, 46.01it/s, Loss=0.0494]\n"
     ]
    },
    {
     "name": "stdout",
     "output_type": "stream",
     "text": [
      "Reconstruction Loss: 0.0534\n"
     ]
    },
    {
     "name": "stderr",
     "output_type": "stream",
     "text": [
      "Epoch 28/40: 100%|██████████| 42/42 [00:01<00:00, 39.14it/s, Loss=0.0322]\n"
     ]
    },
    {
     "name": "stdout",
     "output_type": "stream",
     "text": [
      "Reconstruction Loss: 0.0519\n"
     ]
    },
    {
     "name": "stderr",
     "output_type": "stream",
     "text": [
      "Epoch 29/40: 100%|██████████| 42/42 [00:00<00:00, 44.27it/s, Loss=0.0579]\n"
     ]
    },
    {
     "name": "stdout",
     "output_type": "stream",
     "text": [
      "Reconstruction Loss: 0.0511\n"
     ]
    },
    {
     "name": "stderr",
     "output_type": "stream",
     "text": [
      "Epoch 30/40: 100%|██████████| 42/42 [00:00<00:00, 44.65it/s, Loss=0.0362]\n"
     ]
    },
    {
     "name": "stdout",
     "output_type": "stream",
     "text": [
      "Reconstruction Loss: 0.0497\n"
     ]
    },
    {
     "name": "stderr",
     "output_type": "stream",
     "text": [
      "Epoch 31/40: 100%|██████████| 42/42 [00:01<00:00, 39.05it/s, Loss=0.0375]\n"
     ]
    },
    {
     "name": "stdout",
     "output_type": "stream",
     "text": [
      "Reconstruction Loss: 0.0486\n"
     ]
    },
    {
     "name": "stderr",
     "output_type": "stream",
     "text": [
      "Epoch 32/40: 100%|██████████| 42/42 [00:01<00:00, 40.42it/s, Loss=0.0295]\n"
     ]
    },
    {
     "name": "stdout",
     "output_type": "stream",
     "text": [
      "Reconstruction Loss: 0.0475\n"
     ]
    },
    {
     "name": "stderr",
     "output_type": "stream",
     "text": [
      "Epoch 33/40: 100%|██████████| 42/42 [00:01<00:00, 40.34it/s, Loss=0.0368]\n"
     ]
    },
    {
     "name": "stdout",
     "output_type": "stream",
     "text": [
      "Reconstruction Loss: 0.0468\n"
     ]
    },
    {
     "name": "stderr",
     "output_type": "stream",
     "text": [
      "Epoch 34/40: 100%|██████████| 42/42 [00:00<00:00, 45.13it/s, Loss=0.0651]\n"
     ]
    },
    {
     "name": "stdout",
     "output_type": "stream",
     "text": [
      "Reconstruction Loss: 0.0464\n"
     ]
    },
    {
     "name": "stderr",
     "output_type": "stream",
     "text": [
      "Epoch 35/40: 100%|██████████| 42/42 [00:00<00:00, 47.88it/s, Loss=0.0595]\n"
     ]
    },
    {
     "name": "stdout",
     "output_type": "stream",
     "text": [
      "Reconstruction Loss: 0.0456\n"
     ]
    },
    {
     "name": "stderr",
     "output_type": "stream",
     "text": [
      "Epoch 36/40: 100%|██████████| 42/42 [00:00<00:00, 45.95it/s, Loss=0.0473]\n"
     ]
    },
    {
     "name": "stdout",
     "output_type": "stream",
     "text": [
      "Reconstruction Loss: 0.0446\n"
     ]
    },
    {
     "name": "stderr",
     "output_type": "stream",
     "text": [
      "Epoch 37/40: 100%|██████████| 42/42 [00:00<00:00, 46.57it/s, Loss=0.0149]\n"
     ]
    },
    {
     "name": "stdout",
     "output_type": "stream",
     "text": [
      "Reconstruction Loss: 0.0434\n"
     ]
    },
    {
     "name": "stderr",
     "output_type": "stream",
     "text": [
      "Epoch 38/40: 100%|██████████| 42/42 [00:00<00:00, 44.98it/s, Loss=0.0317]\n"
     ]
    },
    {
     "name": "stdout",
     "output_type": "stream",
     "text": [
      "Reconstruction Loss: 0.0430\n"
     ]
    },
    {
     "name": "stderr",
     "output_type": "stream",
     "text": [
      "Epoch 39/40: 100%|██████████| 42/42 [00:00<00:00, 43.04it/s, Loss=0.0277]\n"
     ]
    },
    {
     "name": "stdout",
     "output_type": "stream",
     "text": [
      "Reconstruction Loss: 0.0422\n"
     ]
    },
    {
     "name": "stderr",
     "output_type": "stream",
     "text": [
      "Epoch 40/40: 100%|██████████| 42/42 [00:00<00:00, 43.95it/s, Loss=0.0604]\n"
     ]
    },
    {
     "name": "stdout",
     "output_type": "stream",
     "text": [
      "Reconstruction Loss: 0.0422\n"
     ]
    },
    {
     "data": {
      "image/png": "[encoded data removed]",
      "text/plain": [
       "<Figure size 800x600 with 1 Axes>"
      ]
     },
     "metadata": {},
     "output_type": "display_data"
    },
    {
     "name": "stdout",
     "output_type": "stream",
     "text": [
      "Validation loss: 0.05852438935963931\n",
      "Validation accuracy: 66.17920782511145%\n"
     ]
    }
   ],
   "source": [
    "rbm = RBM(num_visible=num_visible, num_hidden=num_hidden, device=device)\n",
    "\n",
    "losses = train_rbm(rbm, train_data, epochs=40, learning_rate=0.01, batch_size=16)\n",
    "\n",
    "plot_training_loss(losses, title=\"RBM Training Reconstruction Loss\", xlabel=\"Epoch\", ylabel=\"Reconstruction Loss\")\n",
    "loss, acc = evaluate_rbm(rbm, test_data, device)\n",
    "print(f\"Validation loss: {loss}\")\n",
    "print(f\"Validation accuracy: {acc*100}%\")"
   ]
  },
  {
   "cell_type": "markdown",
   "id": "bc6329e3",
   "metadata": {},
   "source": [
    "Furthermore, we train DBN on the same dataset. The goal is to compare them."
   ]
  },
  {
   "cell_type": "code",
   "execution_count": 4,
   "id": "c2285778",
   "metadata": {},
   "outputs": [
    {
     "name": "stderr",
     "output_type": "stream",
     "text": [
      "Epoch 1/40: 100%|██████████| 42/42 [00:00<00:00, 71.09it/s, Loss=0.273]\n"
     ]
    },
    {
     "name": "stdout",
     "output_type": "stream",
     "text": [
      "Reconstruction Loss: 0.3583\n"
     ]
    },
    {
     "name": "stderr",
     "output_type": "stream",
     "text": [
      "Epoch 2/40: 100%|██████████| 42/42 [00:00<00:00, 70.63it/s, Loss=0.195]\n"
     ]
    },
    {
     "name": "stdout",
     "output_type": "stream",
     "text": [
      "Reconstruction Loss: 0.2315\n"
     ]
    },
    {
     "name": "stderr",
     "output_type": "stream",
     "text": [
      "Epoch 3/40: 100%|██████████| 42/42 [00:00<00:00, 61.42it/s, Loss=0.141]\n"
     ]
    },
    {
     "name": "stdout",
     "output_type": "stream",
     "text": [
      "Reconstruction Loss: 0.1822\n"
     ]
    },
    {
     "name": "stderr",
     "output_type": "stream",
     "text": [
      "Epoch 4/40: 100%|██████████| 42/42 [00:00<00:00, 61.51it/s, Loss=0.17] \n"
     ]
    },
    {
     "name": "stdout",
     "output_type": "stream",
     "text": [
      "Reconstruction Loss: 0.1507\n"
     ]
    },
    {
     "name": "stderr",
     "output_type": "stream",
     "text": [
      "Epoch 5/40: 100%|██████████| 42/42 [00:00<00:00, 65.45it/s, Loss=0.109] \n"
     ]
    },
    {
     "name": "stdout",
     "output_type": "stream",
     "text": [
      "Reconstruction Loss: 0.1249\n"
     ]
    },
    {
     "name": "stderr",
     "output_type": "stream",
     "text": [
      "Epoch 6/40: 100%|██████████| 42/42 [00:00<00:00, 71.50it/s, Loss=0.129] \n"
     ]
    },
    {
     "name": "stdout",
     "output_type": "stream",
     "text": [
      "Reconstruction Loss: 0.1128\n"
     ]
    },
    {
     "name": "stderr",
     "output_type": "stream",
     "text": [
      "Epoch 7/40: 100%|██████████| 42/42 [00:00<00:00, 67.01it/s, Loss=0.0812]\n"
     ]
    },
    {
     "name": "stdout",
     "output_type": "stream",
     "text": [
      "Reconstruction Loss: 0.1037\n"
     ]
    },
    {
     "name": "stderr",
     "output_type": "stream",
     "text": [
      "Epoch 8/40: 100%|██████████| 42/42 [00:00<00:00, 69.63it/s, Loss=0.0925]\n"
     ]
    },
    {
     "name": "stdout",
     "output_type": "stream",
     "text": [
      "Reconstruction Loss: 0.0957\n"
     ]
    },
    {
     "name": "stderr",
     "output_type": "stream",
     "text": [
      "Epoch 9/40: 100%|██████████| 42/42 [00:00<00:00, 65.02it/s, Loss=0.0425]\n"
     ]
    },
    {
     "name": "stdout",
     "output_type": "stream",
     "text": [
      "Reconstruction Loss: 0.0924\n"
     ]
    },
    {
     "name": "stderr",
     "output_type": "stream",
     "text": [
      "Epoch 10/40: 100%|██████████| 42/42 [00:00<00:00, 65.97it/s, Loss=0.0262]\n"
     ]
    },
    {
     "name": "stdout",
     "output_type": "stream",
     "text": [
      "Reconstruction Loss: 0.0881\n"
     ]
    },
    {
     "name": "stderr",
     "output_type": "stream",
     "text": [
      "Epoch 11/40: 100%|██████████| 42/42 [00:00<00:00, 68.69it/s, Loss=0.125] \n"
     ]
    },
    {
     "name": "stdout",
     "output_type": "stream",
     "text": [
      "Reconstruction Loss: 0.0873\n"
     ]
    },
    {
     "name": "stderr",
     "output_type": "stream",
     "text": [
      "Epoch 12/40: 100%|██████████| 42/42 [00:00<00:00, 66.73it/s, Loss=0.0975]\n"
     ]
    },
    {
     "name": "stdout",
     "output_type": "stream",
     "text": [
      "Reconstruction Loss: 0.0847\n"
     ]
    },
    {
     "name": "stderr",
     "output_type": "stream",
     "text": [
      "Epoch 13/40: 100%|██████████| 42/42 [00:00<00:00, 65.68it/s, Loss=0.0413]\n"
     ]
    },
    {
     "name": "stdout",
     "output_type": "stream",
     "text": [
      "Reconstruction Loss: 0.0831\n"
     ]
    },
    {
     "name": "stderr",
     "output_type": "stream",
     "text": [
      "Epoch 14/40: 100%|██████████| 42/42 [00:00<00:00, 67.91it/s, Loss=0.065] \n"
     ]
    },
    {
     "name": "stdout",
     "output_type": "stream",
     "text": [
      "Reconstruction Loss: 0.0810\n"
     ]
    },
    {
     "name": "stderr",
     "output_type": "stream",
     "text": [
      "Epoch 15/40: 100%|██████████| 42/42 [00:00<00:00, 66.00it/s, Loss=0.0887]\n"
     ]
    },
    {
     "name": "stdout",
     "output_type": "stream",
     "text": [
      "Reconstruction Loss: 0.0806\n"
     ]
    },
    {
     "name": "stderr",
     "output_type": "stream",
     "text": [
      "Epoch 16/40: 100%|██████████| 42/42 [00:00<00:00, 70.01it/s, Loss=0.055] \n"
     ]
    },
    {
     "name": "stdout",
     "output_type": "stream",
     "text": [
      "Reconstruction Loss: 0.0788\n"
     ]
    },
    {
     "name": "stderr",
     "output_type": "stream",
     "text": [
      "Epoch 17/40: 100%|██████████| 42/42 [00:00<00:00, 62.25it/s, Loss=0.03]  \n"
     ]
    },
    {
     "name": "stdout",
     "output_type": "stream",
     "text": [
      "Reconstruction Loss: 0.0783\n"
     ]
    },
    {
     "name": "stderr",
     "output_type": "stream",
     "text": [
      "Epoch 18/40: 100%|██████████| 42/42 [00:00<00:00, 65.13it/s, Loss=0.0413]\n"
     ]
    },
    {
     "name": "stdout",
     "output_type": "stream",
     "text": [
      "Reconstruction Loss: 0.0771\n"
     ]
    },
    {
     "name": "stderr",
     "output_type": "stream",
     "text": [
      "Epoch 19/40: 100%|██████████| 42/42 [00:00<00:00, 59.54it/s, Loss=0.045] \n"
     ]
    },
    {
     "name": "stdout",
     "output_type": "stream",
     "text": [
      "Reconstruction Loss: 0.0755\n"
     ]
    },
    {
     "name": "stderr",
     "output_type": "stream",
     "text": [
      "Epoch 20/40: 100%|██████████| 42/42 [00:00<00:00, 62.68it/s, Loss=0.0538]\n"
     ]
    },
    {
     "name": "stdout",
     "output_type": "stream",
     "text": [
      "Reconstruction Loss: 0.0757\n"
     ]
    },
    {
     "name": "stderr",
     "output_type": "stream",
     "text": [
      "Epoch 21/40: 100%|██████████| 42/42 [00:00<00:00, 63.88it/s, Loss=0.0838]\n"
     ]
    },
    {
     "name": "stdout",
     "output_type": "stream",
     "text": [
      "Reconstruction Loss: 0.0760\n"
     ]
    },
    {
     "name": "stderr",
     "output_type": "stream",
     "text": [
      "Epoch 22/40: 100%|██████████| 42/42 [00:00<00:00, 68.09it/s, Loss=0.0988]\n"
     ]
    },
    {
     "name": "stdout",
     "output_type": "stream",
     "text": [
      "Reconstruction Loss: 0.0766\n"
     ]
    },
    {
     "name": "stderr",
     "output_type": "stream",
     "text": [
      "Epoch 23/40: 100%|██████████| 42/42 [00:00<00:00, 60.61it/s, Loss=0.005] \n"
     ]
    },
    {
     "name": "stdout",
     "output_type": "stream",
     "text": [
      "Reconstruction Loss: 0.0733\n"
     ]
    },
    {
     "name": "stderr",
     "output_type": "stream",
     "text": [
      "Epoch 24/40: 100%|██████████| 42/42 [00:00<00:00, 67.90it/s, Loss=0.0763]\n"
     ]
    },
    {
     "name": "stdout",
     "output_type": "stream",
     "text": [
      "Reconstruction Loss: 0.0740\n"
     ]
    },
    {
     "name": "stderr",
     "output_type": "stream",
     "text": [
      "Epoch 25/40: 100%|██████████| 42/42 [00:00<00:00, 69.90it/s, Loss=0.106] \n"
     ]
    },
    {
     "name": "stdout",
     "output_type": "stream",
     "text": [
      "Reconstruction Loss: 0.0742\n"
     ]
    },
    {
     "name": "stderr",
     "output_type": "stream",
     "text": [
      "Epoch 26/40: 100%|██████████| 42/42 [00:00<00:00, 74.72it/s, Loss=0.0862]\n"
     ]
    },
    {
     "name": "stdout",
     "output_type": "stream",
     "text": [
      "Reconstruction Loss: 0.0736\n"
     ]
    },
    {
     "name": "stderr",
     "output_type": "stream",
     "text": [
      "Epoch 27/40: 100%|██████████| 42/42 [00:00<00:00, 69.46it/s, Loss=0.0763]\n"
     ]
    },
    {
     "name": "stdout",
     "output_type": "stream",
     "text": [
      "Reconstruction Loss: 0.0731\n"
     ]
    },
    {
     "name": "stderr",
     "output_type": "stream",
     "text": [
      "Epoch 28/40: 100%|██████████| 42/42 [00:00<00:00, 62.39it/s, Loss=0.0712]\n"
     ]
    },
    {
     "name": "stdout",
     "output_type": "stream",
     "text": [
      "Reconstruction Loss: 0.0727\n"
     ]
    },
    {
     "name": "stderr",
     "output_type": "stream",
     "text": [
      "Epoch 29/40: 100%|██████████| 42/42 [00:00<00:00, 68.63it/s, Loss=0.0637]\n"
     ]
    },
    {
     "name": "stdout",
     "output_type": "stream",
     "text": [
      "Reconstruction Loss: 0.0719\n"
     ]
    },
    {
     "name": "stderr",
     "output_type": "stream",
     "text": [
      "Epoch 30/40: 100%|██████████| 42/42 [00:00<00:00, 65.44it/s, Loss=0.015] \n"
     ]
    },
    {
     "name": "stdout",
     "output_type": "stream",
     "text": [
      "Reconstruction Loss: 0.0702\n"
     ]
    },
    {
     "name": "stderr",
     "output_type": "stream",
     "text": [
      "Epoch 31/40: 100%|██████████| 42/42 [00:00<00:00, 63.66it/s, Loss=0.155] \n"
     ]
    },
    {
     "name": "stdout",
     "output_type": "stream",
     "text": [
      "Reconstruction Loss: 0.0723\n"
     ]
    },
    {
     "name": "stderr",
     "output_type": "stream",
     "text": [
      "Epoch 32/40: 100%|██████████| 42/42 [00:00<00:00, 63.36it/s, Loss=0.0562]\n"
     ]
    },
    {
     "name": "stdout",
     "output_type": "stream",
     "text": [
      "Reconstruction Loss: 0.0704\n"
     ]
    },
    {
     "name": "stderr",
     "output_type": "stream",
     "text": [
      "Epoch 33/40: 100%|██████████| 42/42 [00:00<00:00, 66.70it/s, Loss=0.0388]\n"
     ]
    },
    {
     "name": "stdout",
     "output_type": "stream",
     "text": [
      "Reconstruction Loss: 0.0695\n"
     ]
    },
    {
     "name": "stderr",
     "output_type": "stream",
     "text": [
      "Epoch 34/40: 100%|██████████| 42/42 [00:00<00:00, 71.56it/s, Loss=0.0675]\n"
     ]
    },
    {
     "name": "stdout",
     "output_type": "stream",
     "text": [
      "Reconstruction Loss: 0.0698\n"
     ]
    },
    {
     "name": "stderr",
     "output_type": "stream",
     "text": [
      "Epoch 35/40: 100%|██████████| 42/42 [00:00<00:00, 69.69it/s, Loss=0.025] \n"
     ]
    },
    {
     "name": "stdout",
     "output_type": "stream",
     "text": [
      "Reconstruction Loss: 0.0684\n"
     ]
    },
    {
     "name": "stderr",
     "output_type": "stream",
     "text": [
      "Epoch 36/40: 100%|██████████| 42/42 [00:00<00:00, 66.58it/s, Loss=0.035] \n"
     ]
    },
    {
     "name": "stdout",
     "output_type": "stream",
     "text": [
      "Reconstruction Loss: 0.0681\n"
     ]
    },
    {
     "name": "stderr",
     "output_type": "stream",
     "text": [
      "Epoch 37/40: 100%|██████████| 42/42 [00:00<00:00, 68.73it/s, Loss=0.102] \n"
     ]
    },
    {
     "name": "stdout",
     "output_type": "stream",
     "text": [
      "Reconstruction Loss: 0.0688\n"
     ]
    },
    {
     "name": "stderr",
     "output_type": "stream",
     "text": [
      "Epoch 38/40: 100%|██████████| 42/42 [00:00<00:00, 63.08it/s, Loss=0.119] \n"
     ]
    },
    {
     "name": "stdout",
     "output_type": "stream",
     "text": [
      "Reconstruction Loss: 0.0691\n"
     ]
    },
    {
     "name": "stderr",
     "output_type": "stream",
     "text": [
      "Epoch 39/40: 100%|██████████| 42/42 [00:00<00:00, 64.90it/s, Loss=0.0538]\n"
     ]
    },
    {
     "name": "stdout",
     "output_type": "stream",
     "text": [
      "Reconstruction Loss: 0.0680\n"
     ]
    },
    {
     "name": "stderr",
     "output_type": "stream",
     "text": [
      "Epoch 40/40: 100%|██████████| 42/42 [00:00<00:00, 66.86it/s, Loss=0.149] \n"
     ]
    },
    {
     "name": "stdout",
     "output_type": "stream",
     "text": [
      "Reconstruction Loss: 0.0695\n"
     ]
    },
    {
     "data": {
      "image/png": "[encoded data removed]",
      "text/plain": [
       "<Figure size 800x600 with 1 Axes>"
      ]
     },
     "metadata": {},
     "output_type": "display_data"
    },
    {
     "name": "stdout",
     "output_type": "stream",
     "text": [
      "Validation loss: 0.0469\n",
      "Validation accuracy: 70.36%\n"
     ]
    }
   ],
   "source": [
    "rbm_for_dbn = copy.deepcopy(rbm)\n",
    "num_hidden2 = 200\n",
    "dbn = DBN(rbm_for_dbn, num_hidden2, device=device)\n",
    "\n",
    "losses = train_dbn(dbn, train_data, epochs=40, learning_rate=0.01, batch_size=16, k=5)\n",
    "\n",
    "plot_training_loss(losses, title=\"DBN Training Reconstruction Loss\", xlabel=\"Epoch\", ylabel=\"Reconstruction Loss\")\n",
    "\n",
    "loss, acc = evaluate_dbn(dbn, test_data, device)\n",
    "print(f\"Validation loss: {loss:.4f}\")\n",
    "print(f\"Validation accuracy: {acc*100:.2f}%\")"
   ]
  },
  {
   "cell_type": "markdown",
   "id": "379d978e",
   "metadata": {},
   "source": [
    "## RECOMMENDATION ACCURACY\n",
    "Validation accuracies from above are actually reconstruction accuracies.\n",
    "Now we will take users from test data, hide some of their ratings and check if our models rates those movies in the same manner."
   ]
  },
  {
   "cell_type": "code",
   "execution_count": 17,
   "id": "2fd3fbde",
   "metadata": {},
   "outputs": [
    {
     "name": "stdout",
     "output_type": "stream",
     "text": [
      "RBM Recommendation accuracy: 90.62%\n",
      "DBN Recommendation accuracy: 91.06%\n"
     ]
    }
   ],
   "source": [
    "hide_fraction = 0.2  # Hide 20% of rated movies\n",
    "accuracy_rbm, accuracy_dbn = test_recommendation_ability(rbm, dbn, test_data, device, hide_fraction=hide_fraction, k=1)\n",
    "print(f\"RBM Recommendation accuracy: {accuracy_rbm*100:.2f}%\")\n",
    "print(f\"DBN Recommendation accuracy: {accuracy_dbn*100:.2f}%\")"
   ]
  },
  {
   "cell_type": "markdown",
   "id": "44c0d57a-ee29-4bc5-b9fb-05d90c27cfda",
   "metadata": {},
   "source": [
    "## USAGE EXAMPLE\n",
    "First, we load the movies dataframe."
   ]
  },
  {
   "cell_type": "code",
   "execution_count": 18,
   "id": "f4d42262-8bfb-415f-b2b5-d4ada4069e48",
   "metadata": {},
   "outputs": [],
   "source": [
    "movies = load_movies(\"data\\\\ml-100k\\\\u.item\")"
   ]
  },
  {
   "cell_type": "markdown",
   "id": "7110fb1c-c341-4b3d-b9f1-740f85005e2d",
   "metadata": {},
   "source": [
    "Now, we pick a random user and print movies they liked (rate >=3 means they liked the movie)."
   ]
  },
  {
   "cell_type": "code",
   "execution_count": 39,
   "id": "994e9e2c-a54e-4064-b17a-e30bffe1c7dd",
   "metadata": {},
   "outputs": [
    {
     "name": "stdout",
     "output_type": "stream",
     "text": [
      "'Toy Story (1995)' has the following genres:\n",
      "Animation, Children's, Comedy\n",
      "--------------------------------------------------\n",
      "'Braveheart (1995)' has the following genres:\n",
      "Drama, War\n",
      "--------------------------------------------------\n",
      "'Star Wars (1977)' has the following genres:\n",
      "Adventure, Romance, Sci-Fi, War\n",
      "--------------------------------------------------\n",
      "'Shawshank Redemption, The (1994)' has the following genres:\n",
      "\n",
      "--------------------------------------------------\n",
      "'Fargo (1996)' has the following genres:\n",
      "Drama, Thriller\n",
      "--------------------------------------------------\n",
      "'Wallace & Gromit: The Best of Aardman Animation (1996)' has the following genres:\n",
      "\n",
      "--------------------------------------------------\n",
      "'Rock, The (1996)' has the following genres:\n",
      "Adventure, Thriller\n",
      "--------------------------------------------------\n",
      "'Wizard of Oz, The (1939)' has the following genres:\n",
      "Children's, Drama, Musical\n",
      "--------------------------------------------------\n",
      "'Die Hard (1988)' has the following genres:\n",
      "Thriller\n",
      "--------------------------------------------------\n",
      "'Monty Python and the Holy Grail (1974)' has the following genres:\n",
      "\n",
      "--------------------------------------------------\n",
      "'Wrong Trousers, The (1993)' has the following genres:\n",
      "Comedy\n",
      "--------------------------------------------------\n",
      "'Empire Strikes Back, The (1980)' has the following genres:\n",
      "Adventure, Drama, Romance, Sci-Fi, War\n",
      "--------------------------------------------------\n",
      "'Princess Bride, The (1987)' has the following genres:\n",
      "Adventure, Comedy, Romance\n",
      "--------------------------------------------------\n",
      "'Raiders of the Lost Ark (1981)' has the following genres:\n",
      "Adventure\n",
      "--------------------------------------------------\n",
      "'Return of the Jedi (1983)' has the following genres:\n",
      "Adventure, Romance, Sci-Fi, War\n",
      "--------------------------------------------------\n",
      "'Right Stuff, The (1983)' has the following genres:\n",
      "\n",
      "--------------------------------------------------\n",
      "'Star Trek: First Contact (1996)' has the following genres:\n",
      "Adventure, Sci-Fi\n",
      "--------------------------------------------------\n",
      "'Devil's Own, The (1997)' has the following genres:\n",
      "Drama, Thriller, War\n",
      "--------------------------------------------------\n",
      "'Fifth Element, The (1997)' has the following genres:\n",
      "Sci-Fi\n",
      "--------------------------------------------------\n",
      "'My Best Friend's Wedding (1997)' has the following genres:\n",
      "Romance\n",
      "--------------------------------------------------\n",
      "'Men in Black (1997)' has the following genres:\n",
      "Adventure, Comedy, Sci-Fi\n",
      "--------------------------------------------------\n",
      "'George of the Jungle (1997)' has the following genres:\n",
      "Comedy\n",
      "--------------------------------------------------\n",
      "'Hunt for Red October, The (1990)' has the following genres:\n",
      "Thriller\n",
      "--------------------------------------------------\n",
      "'Gattaca (1997)' has the following genres:\n",
      "Sci-Fi, Thriller\n",
      "--------------------------------------------------\n",
      "'Starship Troopers (1997)' has the following genres:\n",
      "Adventure, Sci-Fi, War\n",
      "--------------------------------------------------\n",
      "'Good Will Hunting (1997)' has the following genres:\n",
      "\n",
      "--------------------------------------------------\n",
      "'English Patient, The (1996)' has the following genres:\n",
      "Romance, War\n",
      "--------------------------------------------------\n",
      "'Liar Liar (1997)' has the following genres:\n",
      "\n",
      "--------------------------------------------------\n",
      "'Air Force One (1997)' has the following genres:\n",
      "Thriller\n",
      "--------------------------------------------------\n",
      "'L.A. Confidential (1997)' has the following genres:\n",
      "Film-Noir, Mystery, Thriller\n",
      "--------------------------------------------------\n",
      "'Ulee's Gold (1997)' has the following genres:\n",
      "\n",
      "--------------------------------------------------\n",
      "'Titanic (1997)' has the following genres:\n",
      "Drama, Romance\n",
      "--------------------------------------------------\n",
      "'Apt Pupil (1998)' has the following genres:\n",
      "Thriller\n",
      "--------------------------------------------------\n",
      "'As Good As It Gets (1997)' has the following genres:\n",
      "Drama\n",
      "--------------------------------------------------\n",
      "'Schindler's List (1993)' has the following genres:\n",
      "War\n",
      "--------------------------------------------------\n",
      "'Conspiracy Theory (1997)' has the following genres:\n",
      "Mystery, Romance, Thriller\n",
      "--------------------------------------------------\n",
      "'Apostle, The (1997)' has the following genres:\n",
      "\n",
      "--------------------------------------------------\n",
      "'Wedding Singer, The (1998)' has the following genres:\n",
      "Romance\n",
      "--------------------------------------------------\n",
      "'Courage Under Fire (1996)' has the following genres:\n",
      "War\n",
      "--------------------------------------------------\n",
      "'North by Northwest (1959)' has the following genres:\n",
      "Thriller\n",
      "--------------------------------------------------\n",
      "'Some Like It Hot (1959)' has the following genres:\n",
      "Crime\n",
      "--------------------------------------------------\n",
      "'Casablanca (1942)' has the following genres:\n",
      "Romance, War\n",
      "--------------------------------------------------\n",
      "'Great Escape, The (1963)' has the following genres:\n",
      "War\n",
      "--------------------------------------------------\n",
      "'Anastasia (1997)' has the following genres:\n",
      "Children's, Musical\n",
      "--------------------------------------------------\n",
      "'Mouse Hunt (1997)' has the following genres:\n",
      "Comedy\n",
      "--------------------------------------------------\n",
      "'Broken Arrow (1996)' has the following genres:\n",
      "Thriller\n",
      "--------------------------------------------------\n",
      "'Saint, The (1997)' has the following genres:\n",
      "Romance, Thriller\n",
      "--------------------------------------------------\n",
      "'Amistad (1997)' has the following genres:\n",
      "\n",
      "--------------------------------------------------\n",
      "'Tomorrow Never Dies (1997)' has the following genres:\n",
      "Romance, Thriller\n",
      "--------------------------------------------------\n",
      "'That Thing You Do! (1996)' has the following genres:\n",
      "\n",
      "--------------------------------------------------\n",
      "'Peacemaker, The (1997)' has the following genres:\n",
      "Thriller, War\n",
      "--------------------------------------------------\n",
      "'Flubber (1997)' has the following genres:\n",
      "Comedy, Fantasy\n",
      "--------------------------------------------------\n",
      "'Big Lebowski, The (1998)' has the following genres:\n",
      "Crime, Mystery, Thriller\n",
      "--------------------------------------------------\n",
      "'U.S. Marshalls (1998)' has the following genres:\n",
      "Thriller\n",
      "--------------------------------------------------\n",
      "'Lost in Space (1998)' has the following genres:\n",
      "Sci-Fi, Thriller\n",
      "--------------------------------------------------\n",
      "'Ruby in Paradise (1993)' has the following genres:\n",
      "\n",
      "--------------------------------------------------\n",
      "'Hercules (1997)' has the following genres:\n",
      "Animation, Children's, Comedy, Musical\n",
      "--------------------------------------------------\n",
      "'Man in the Iron Mask, The (1998)' has the following genres:\n",
      "Drama, Romance\n",
      "--------------------------------------------------\n"
     ]
    }
   ],
   "source": [
    "random.seed(100)\n",
    "random_user = random.randint(1, len(test_data))\n",
    "rates = test_data[random_user]\n",
    "movie_from_tensor(rates, movies)\n",
    "\n",
    "watched = torch.zeros_like(rates)\n",
    "watched[rates != 0] = 1"
   ]
  },
  {
   "cell_type": "markdown",
   "id": "276bb0eb-6467-46cc-ad48-b61586fdb32b",
   "metadata": {},
   "source": [
    "Now, the idea is to reconstruct the users watched list, and keep the probabilities from reconstruction. We pick the largest n=5 probabilities of movies the user has not watched as recommendation."
   ]
  },
  {
   "cell_type": "markdown",
   "id": "8bf79f7c",
   "metadata": {},
   "source": [
    "First we use RBM."
   ]
  },
  {
   "cell_type": "code",
   "execution_count": 40,
   "id": "ad722bc6-6967-42e2-9805-66ce3f24b269",
   "metadata": {},
   "outputs": [
    {
     "name": "stdout",
     "output_type": "stream",
     "text": [
      "'Usual Suspects, The (1995)' has the following genres:\n",
      "Thriller\n",
      "--------------------------------------------------\n",
      "'Twister (1996)' has the following genres:\n",
      "Adventure, Thriller\n",
      "--------------------------------------------------\n",
      "'Jerry Maguire (1996)' has the following genres:\n",
      "Romance\n",
      "--------------------------------------------------\n",
      "'Eraser (1996)' has the following genres:\n",
      "Thriller\n",
      "--------------------------------------------------\n",
      "'Program, The (1993)' has the following genres:\n",
      "Drama\n",
      "--------------------------------------------------\n"
     ]
    }
   ],
   "source": [
    "probs, v = rbm.reconstruct(rates)\n",
    "to_recommend = recommend(watched, probs, 5)\n",
    "movie_from_tensor(to_recommend, movies)\n"
   ]
  },
  {
   "cell_type": "markdown",
   "id": "94459366",
   "metadata": {},
   "source": [
    "Then we use DBN."
   ]
  },
  {
   "cell_type": "code",
   "execution_count": 41,
   "id": "d154229b",
   "metadata": {},
   "outputs": [
    {
     "name": "stdout",
     "output_type": "stream",
     "text": [
      "'Twelve Monkeys (1995)' has the following genres:\n",
      "Sci-Fi\n",
      "--------------------------------------------------\n",
      "'Groundhog Day (1993)' has the following genres:\n",
      "Romance\n",
      "--------------------------------------------------\n",
      "'Jerry Maguire (1996)' has the following genres:\n",
      "Romance\n",
      "--------------------------------------------------\n",
      "'Game, The (1997)' has the following genres:\n",
      "Thriller\n",
      "--------------------------------------------------\n",
      "'Carrie (1976)' has the following genres:\n",
      "\n",
      "--------------------------------------------------\n"
     ]
    }
   ],
   "source": [
    "probs, v = dbn.reconstruct(rates)\n",
    "to_recommend = recommend(watched, probs, 5)\n",
    "movie_from_tensor(to_recommend, movies)"
   ]
  }
 ],
 "metadata": {
  "kernelspec": {
   "display_name": "base",
   "language": "python",
   "name": "python3"
  },
  "language_info": {
   "codemirror_mode": {
    "name": "ipython",
    "version": 3
   },
   "file_extension": ".py",
   "mimetype": "text/x-python",
   "name": "python",
   "nbconvert_exporter": "python",
   "pygments_lexer": "ipython3",
   "version": "3.10.9"
  }
 },
 "nbformat": 4,
 "nbformat_minor": 5
}
