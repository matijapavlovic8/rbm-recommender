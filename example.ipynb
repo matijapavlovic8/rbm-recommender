{
 "cells": [
  {
   "cell_type": "code",
   "execution_count": 2,
   "id": "94049012-c11b-42ba-8881-feb37cc9c1ae",
   "metadata": {},
   "outputs": [],
   "source": [
    "from src.eval import evaluate_rbm\n",
    "from src.data_preprocessing import load_data, preprocess_data, load_movies\n",
    "from src.rbm_model import RBM\n",
    "from src.training import train_rbm\n",
    "from src.plot_utils import plot_training_loss\n",
    "from sklearn.model_selection import train_test_split\n",
    "from src.utils import recommend, movie_from_tensor\n",
    "import torch\n",
    "import pandas as pd"
   ]
  },
  {
   "cell_type": "code",
   "execution_count": 3,
   "id": "cbde9830-6ee1-46db-93be-dd2375305c50",
   "metadata": {},
   "outputs": [
    {
     "name": "stderr",
     "output_type": "stream",
     "text": [
      "                                                                                                                       \r"
     ]
    },
    {
     "name": "stdout",
     "output_type": "stream",
     "text": [
      "Reconstruction Loss: 0.3914\n"
     ]
    },
    {
     "name": "stderr",
     "output_type": "stream",
     "text": [
      "                                                                                                                       \r"
     ]
    },
    {
     "name": "stdout",
     "output_type": "stream",
     "text": [
      "Reconstruction Loss: 0.3091\n"
     ]
    },
    {
     "name": "stderr",
     "output_type": "stream",
     "text": [
      "                                                                                                                       \r"
     ]
    },
    {
     "name": "stdout",
     "output_type": "stream",
     "text": [
      "Reconstruction Loss: 0.2792\n"
     ]
    },
    {
     "name": "stderr",
     "output_type": "stream",
     "text": [
      "                                                                                                                       \r"
     ]
    },
    {
     "name": "stdout",
     "output_type": "stream",
     "text": [
      "Reconstruction Loss: 0.2615\n"
     ]
    },
    {
     "name": "stderr",
     "output_type": "stream",
     "text": [
      "                                                                                                                       \r"
     ]
    },
    {
     "name": "stdout",
     "output_type": "stream",
     "text": [
      "Reconstruction Loss: 0.2486\n"
     ]
    },
    {
     "name": "stderr",
     "output_type": "stream",
     "text": [
      "                                                                                                                       \r"
     ]
    },
    {
     "name": "stdout",
     "output_type": "stream",
     "text": [
      "Reconstruction Loss: 0.2376\n"
     ]
    },
    {
     "name": "stderr",
     "output_type": "stream",
     "text": [
      "                                                                                                                       \r"
     ]
    },
    {
     "name": "stdout",
     "output_type": "stream",
     "text": [
      "Reconstruction Loss: 0.2292\n"
     ]
    },
    {
     "name": "stderr",
     "output_type": "stream",
     "text": [
      "                                                                                                                       \r"
     ]
    },
    {
     "name": "stdout",
     "output_type": "stream",
     "text": [
      "Reconstruction Loss: 0.2218\n"
     ]
    },
    {
     "name": "stderr",
     "output_type": "stream",
     "text": [
      "                                                                                                                       \r"
     ]
    },
    {
     "name": "stdout",
     "output_type": "stream",
     "text": [
      "Reconstruction Loss: 0.2156\n"
     ]
    },
    {
     "name": "stderr",
     "output_type": "stream",
     "text": [
      "                                                                                                                       \r"
     ]
    },
    {
     "name": "stdout",
     "output_type": "stream",
     "text": [
      "Reconstruction Loss: 0.2089\n"
     ]
    },
    {
     "name": "stderr",
     "output_type": "stream",
     "text": [
      "                                                                                                                       \r"
     ]
    },
    {
     "name": "stdout",
     "output_type": "stream",
     "text": [
      "Reconstruction Loss: 0.2036\n"
     ]
    },
    {
     "name": "stderr",
     "output_type": "stream",
     "text": [
      "                                                                                                                       \r"
     ]
    },
    {
     "name": "stdout",
     "output_type": "stream",
     "text": [
      "Reconstruction Loss: 0.1993\n"
     ]
    },
    {
     "name": "stderr",
     "output_type": "stream",
     "text": [
      "                                                                                                                       \r"
     ]
    },
    {
     "name": "stdout",
     "output_type": "stream",
     "text": [
      "Reconstruction Loss: 0.1938\n"
     ]
    },
    {
     "name": "stderr",
     "output_type": "stream",
     "text": [
      "                                                                                                                       \r"
     ]
    },
    {
     "name": "stdout",
     "output_type": "stream",
     "text": [
      "Reconstruction Loss: 0.1890\n"
     ]
    },
    {
     "name": "stderr",
     "output_type": "stream",
     "text": [
      "                                                                                                                       \r"
     ]
    },
    {
     "name": "stdout",
     "output_type": "stream",
     "text": [
      "Reconstruction Loss: 0.1842\n"
     ]
    },
    {
     "name": "stderr",
     "output_type": "stream",
     "text": [
      "                                                                                                                       \r"
     ]
    },
    {
     "name": "stdout",
     "output_type": "stream",
     "text": [
      "Reconstruction Loss: 0.1799\n"
     ]
    },
    {
     "name": "stderr",
     "output_type": "stream",
     "text": [
      "                                                                                                                       \r"
     ]
    },
    {
     "name": "stdout",
     "output_type": "stream",
     "text": [
      "Reconstruction Loss: 0.1747\n"
     ]
    },
    {
     "name": "stderr",
     "output_type": "stream",
     "text": [
      "                                                                                                                       \r"
     ]
    },
    {
     "name": "stdout",
     "output_type": "stream",
     "text": [
      "Reconstruction Loss: 0.1710\n"
     ]
    },
    {
     "name": "stderr",
     "output_type": "stream",
     "text": [
      "                                                                                                                       \r"
     ]
    },
    {
     "name": "stdout",
     "output_type": "stream",
     "text": [
      "Reconstruction Loss: 0.1660\n"
     ]
    },
    {
     "name": "stderr",
     "output_type": "stream",
     "text": [
      "                                                                                                                       \r"
     ]
    },
    {
     "name": "stdout",
     "output_type": "stream",
     "text": [
      "Reconstruction Loss: 0.1625\n"
     ]
    },
    {
     "name": "stderr",
     "output_type": "stream",
     "text": [
      "                                                                                                                       \r"
     ]
    },
    {
     "name": "stdout",
     "output_type": "stream",
     "text": [
      "Reconstruction Loss: 0.1601\n"
     ]
    },
    {
     "name": "stderr",
     "output_type": "stream",
     "text": [
      "                                                                                                                       \r"
     ]
    },
    {
     "name": "stdout",
     "output_type": "stream",
     "text": [
      "Reconstruction Loss: 0.1563\n"
     ]
    },
    {
     "name": "stderr",
     "output_type": "stream",
     "text": [
      "                                                                                                                       \r"
     ]
    },
    {
     "name": "stdout",
     "output_type": "stream",
     "text": [
      "Reconstruction Loss: 0.1519\n"
     ]
    },
    {
     "name": "stderr",
     "output_type": "stream",
     "text": [
      "                                                                                                                       \r"
     ]
    },
    {
     "name": "stdout",
     "output_type": "stream",
     "text": [
      "Reconstruction Loss: 0.1491\n"
     ]
    },
    {
     "name": "stderr",
     "output_type": "stream",
     "text": [
      "                                                                                                                       \r"
     ]
    },
    {
     "name": "stdout",
     "output_type": "stream",
     "text": [
      "Reconstruction Loss: 0.1457\n"
     ]
    },
    {
     "name": "stderr",
     "output_type": "stream",
     "text": [
      "                                                                                                                       \r"
     ]
    },
    {
     "name": "stdout",
     "output_type": "stream",
     "text": [
      "Reconstruction Loss: 0.1442\n"
     ]
    },
    {
     "name": "stderr",
     "output_type": "stream",
     "text": [
      "                                                                                                                       \r"
     ]
    },
    {
     "name": "stdout",
     "output_type": "stream",
     "text": [
      "Reconstruction Loss: 0.1408\n"
     ]
    },
    {
     "name": "stderr",
     "output_type": "stream",
     "text": [
      "                                                                                                                       \r"
     ]
    },
    {
     "name": "stdout",
     "output_type": "stream",
     "text": [
      "Reconstruction Loss: 0.1390\n"
     ]
    },
    {
     "name": "stderr",
     "output_type": "stream",
     "text": [
      "                                                                                                                       \r"
     ]
    },
    {
     "name": "stdout",
     "output_type": "stream",
     "text": [
      "Reconstruction Loss: 0.1366\n"
     ]
    },
    {
     "name": "stderr",
     "output_type": "stream",
     "text": [
      "                                                                                                                       \r"
     ]
    },
    {
     "name": "stdout",
     "output_type": "stream",
     "text": [
      "Reconstruction Loss: 0.1341\n"
     ]
    },
    {
     "name": "stderr",
     "output_type": "stream",
     "text": [
      "                                                                                                                       \r"
     ]
    },
    {
     "name": "stdout",
     "output_type": "stream",
     "text": [
      "Reconstruction Loss: 0.1327\n"
     ]
    },
    {
     "name": "stderr",
     "output_type": "stream",
     "text": [
      "                                                                                                                       \r"
     ]
    },
    {
     "name": "stdout",
     "output_type": "stream",
     "text": [
      "Reconstruction Loss: 0.1287\n"
     ]
    },
    {
     "name": "stderr",
     "output_type": "stream",
     "text": [
      "                                                                                                                       \r"
     ]
    },
    {
     "name": "stdout",
     "output_type": "stream",
     "text": [
      "Reconstruction Loss: 0.1292\n"
     ]
    },
    {
     "name": "stderr",
     "output_type": "stream",
     "text": [
      "                                                                                                                       \r"
     ]
    },
    {
     "name": "stdout",
     "output_type": "stream",
     "text": [
      "Reconstruction Loss: 0.1267\n"
     ]
    },
    {
     "name": "stderr",
     "output_type": "stream",
     "text": [
      "                                                                                                                       \r"
     ]
    },
    {
     "name": "stdout",
     "output_type": "stream",
     "text": [
      "Reconstruction Loss: 0.1237\n"
     ]
    },
    {
     "name": "stderr",
     "output_type": "stream",
     "text": [
      "                                                                                                                       \r"
     ]
    },
    {
     "name": "stdout",
     "output_type": "stream",
     "text": [
      "Reconstruction Loss: 0.1226\n"
     ]
    },
    {
     "name": "stderr",
     "output_type": "stream",
     "text": [
      "                                                                                                                       \r"
     ]
    },
    {
     "name": "stdout",
     "output_type": "stream",
     "text": [
      "Reconstruction Loss: 0.1216\n"
     ]
    },
    {
     "name": "stderr",
     "output_type": "stream",
     "text": [
      "                                                                                                                       \r"
     ]
    },
    {
     "name": "stdout",
     "output_type": "stream",
     "text": [
      "Reconstruction Loss: 0.1189\n"
     ]
    },
    {
     "name": "stderr",
     "output_type": "stream",
     "text": [
      "                                                                                                                       \r"
     ]
    },
    {
     "name": "stdout",
     "output_type": "stream",
     "text": [
      "Reconstruction Loss: 0.1181\n"
     ]
    },
    {
     "name": "stderr",
     "output_type": "stream",
     "text": [
      "                                                                                                                       \r"
     ]
    },
    {
     "name": "stdout",
     "output_type": "stream",
     "text": [
      "Reconstruction Loss: 0.1159\n"
     ]
    },
    {
     "data": {
      "image/png": "[encoded data removed]",
      "text/plain": [
       "<Figure size 800x600 with 1 Axes>"
      ]
     },
     "metadata": {},
     "output_type": "display_data"
    },
    {
     "name": "stdout",
     "output_type": "stream",
     "text": [
      "Validation loss: 0.08047235151999212\n",
      "Validation accuracy: 91.95276472327602%\n"
     ]
    }
   ],
   "source": [
    "file_path = \"data\\\\ml-100k\\\\u.data\"\n",
    "data = load_data(file_path)\n",
    "interaction_matrix = preprocess_data(data)\n",
    "\n",
    "\n",
    "interaction_tensor = torch.tensor(interaction_matrix.values, dtype=torch.float32)\n",
    "train_data, test_data = train_test_split(interaction_tensor.numpy(), test_size=0.2, random_state=42)\n",
    "\n",
    "train_data = torch.tensor(train_data, dtype=torch.float32)\n",
    "test_data = torch.tensor(test_data, dtype=torch.float32)\n",
    "\n",
    "device = torch.device('cuda' if torch.cuda.is_available() else 'cpu')\n",
    "\n",
    "num_visible = interaction_tensor.shape[1]\n",
    "num_hidden = 200\n",
    "rbm = RBM(num_visible=num_visible, num_hidden=num_hidden, device=device)\n",
    "\n",
    "losses = train_rbm(rbm, train_data, epochs=40, learning_rate=0.01, k=40, batch_size=32)\n",
    "\n",
    "plot_training_loss(losses, title=\"RBM Training Reconstruction Loss\", xlabel=\"Epoch\", ylabel=\"Reconstruction Loss\")\n",
    "loss, acc = evaluate_rbm(rbm, test_data, device)\n",
    "print(f\"Validation loss: {loss}\")\n",
    "print(f\"Validation accuracy: {acc*100}%\")"
   ]
  },
  {
   "cell_type": "code",
   "execution_count": 4,
   "id": "f4d42262-8bfb-415f-b2b5-d4ada4069e48",
   "metadata": {},
   "outputs": [],
   "source": [
    "movies = load_movies(\"data\\\\ml-100k\\\\u.item\")"
   ]
  },
  {
   "cell_type": "code",
   "execution_count": 15,
   "id": "994e9e2c-a54e-4064-b17a-e30bffe1c7dd",
   "metadata": {},
   "outputs": [],
   "source": [
    "watched = test_data[50]\n",
    "_,h = rbm.forward(watched)\n",
    "probs, v = rbm.backward(h)\n"
   ]
  },
  {
   "cell_type": "code",
   "execution_count": 16,
   "id": "c8c98d2e-3486-4ca9-9a70-d2c56c48cdce",
   "metadata": {},
   "outputs": [
    {
     "name": "stdout",
     "output_type": "stream",
     "text": [
      "'Kolya (1996)' has the following genre:\n",
      "['Comedy']\n",
      "--------------------------------------------------\n",
      "'Devil's Own, The (1997)' has the following genre:\n",
      "['Action', 'Drama', 'Thriller', 'War']\n",
      "--------------------------------------------------\n",
      "'Event Horizon (1997)' has the following genre:\n",
      "['Action', 'Mystery', 'Sci-Fi', 'Thriller']\n",
      "--------------------------------------------------\n",
      "'Full Monty, The (1997)' has the following genre:\n",
      "['Comedy']\n",
      "--------------------------------------------------\n",
      "'English Patient, The (1996)' has the following genre:\n",
      "['Drama', 'Romance', 'War']\n",
      "--------------------------------------------------\n",
      "'Evita (1996)' has the following genre:\n",
      "['Drama', 'Musical']\n",
      "--------------------------------------------------\n",
      "'Air Force One (1997)' has the following genre:\n",
      "['Action', 'Thriller']\n",
      "--------------------------------------------------\n",
      "'Ulee's Gold (1997)' has the following genre:\n",
      "['Drama']\n",
      "--------------------------------------------------\n",
      "'Fly Away Home (1996)' has the following genre:\n",
      "['Adventure', \"Children's\"]\n",
      "--------------------------------------------------\n",
      "'Ice Storm, The (1997)' has the following genre:\n",
      "['Drama']\n",
      "--------------------------------------------------\n",
      "'Mrs. Brown (Her Majesty, Mrs. Brown) (1997)' has the following genre:\n",
      "['Drama', 'Romance']\n",
      "--------------------------------------------------\n",
      "'Devil's Advocate, The (1997)' has the following genre:\n",
      "['Crime', 'Horror', 'Mystery', 'Thriller']\n",
      "--------------------------------------------------\n",
      "'Wings of the Dove, The (1997)' has the following genre:\n",
      "['Drama', 'Romance', 'Thriller']\n",
      "--------------------------------------------------\n",
      "'Mother (1996)' has the following genre:\n",
      "['Comedy']\n",
      "--------------------------------------------------\n",
      "'Crash (1996)' has the following genre:\n",
      "['Drama', 'Thriller']\n",
      "--------------------------------------------------\n",
      "'Mad City (1997)' has the following genre:\n",
      "['Action', 'Drama']\n",
      "--------------------------------------------------\n",
      "'Boogie Nights (1997)' has the following genre:\n",
      "['Drama']\n",
      "--------------------------------------------------\n",
      "'Anastasia (1997)' has the following genre:\n",
      "['Animation', \"Children's\", 'Musical']\n",
      "--------------------------------------------------\n",
      "'Seven Years in Tibet (1997)' has the following genre:\n",
      "['Drama', 'War']\n",
      "--------------------------------------------------\n",
      "'Eve's Bayou (1997)' has the following genre:\n",
      "['Drama']\n",
      "--------------------------------------------------\n"
     ]
    }
   ],
   "source": [
    "movie_from_tensor(watched, movies)"
   ]
  },
  {
   "cell_type": "code",
   "execution_count": 21,
   "id": "ad722bc6-6967-42e2-9805-66ce3f24b269",
   "metadata": {},
   "outputs": [
    {
     "name": "stdout",
     "output_type": "stream",
     "text": [
      "'Contact (1997)' has the following genre:\n",
      "['Drama', 'Sci-Fi']\n",
      "--------------------------------------------------\n",
      "'Liar Liar (1997)' has the following genre:\n",
      "['Comedy']\n",
      "--------------------------------------------------\n",
      "'Titanic (1997)' has the following genre:\n",
      "['Action', 'Drama', 'Romance']\n",
      "--------------------------------------------------\n"
     ]
    }
   ],
   "source": [
    "to_recommend = recommend(watched, probs, 3)\n",
    "movie_from_tensor(to_recommend.cpu(), movies)"
   ]
  },
  {
   "cell_type": "code",
   "execution_count": null,
   "id": "c10fd397-a843-4733-8fd9-afdaeba34827",
   "metadata": {},
   "outputs": [],
   "source": []
  },
  {
   "cell_type": "code",
   "execution_count": null,
   "id": "25c0e7ae-af59-40ed-b4db-b5c72e4a2b29",
   "metadata": {},
   "outputs": [],
   "source": []
  }
 ],
 "metadata": {
  "kernelspec": {
   "display_name": "Python 3 (ipykernel)",
   "language": "python",
   "name": "python3"
  },
  "language_info": {
   "codemirror_mode": {
    "name": "ipython",
    "version": 3
   },
   "file_extension": ".py",
   "mimetype": "text/x-python",
   "name": "python",
   "nbconvert_exporter": "python",
   "pygments_lexer": "ipython3",
   "version": "3.11.5"
  }
 },
 "nbformat": 4,
 "nbformat_minor": 5
}
